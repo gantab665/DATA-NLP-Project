{
  "nbformat": 4,
  "nbformat_minor": 0,
  "metadata": {
    "colab": {
      "provenance": [],
      "machine_shape": "hm"
    },
    "kernelspec": {
      "name": "python3",
      "display_name": "Python 3"
    },
    "language_info": {
      "name": "python"
    },
    "widgets": {
      "application/vnd.jupyter.widget-state+json": {
        "5db6c653cb72415c9427a4e611759644": {
          "model_module": "@jupyter-widgets/controls",
          "model_name": "HBoxModel",
          "model_module_version": "1.5.0",
          "state": {
            "_dom_classes": [],
            "_model_module": "@jupyter-widgets/controls",
            "_model_module_version": "1.5.0",
            "_model_name": "HBoxModel",
            "_view_count": null,
            "_view_module": "@jupyter-widgets/controls",
            "_view_module_version": "1.5.0",
            "_view_name": "HBoxView",
            "box_style": "",
            "children": [
              "IPY_MODEL_0136890e101548fe82c6471bc49432b2",
              "IPY_MODEL_011a44e4d8f6466ca4aa90a54a891236",
              "IPY_MODEL_670afae88a0f4cc4bff36e41aba7706d"
            ],
            "layout": "IPY_MODEL_aea881fb3d924bcca39def287bde5e3b"
          }
        },
        "0136890e101548fe82c6471bc49432b2": {
          "model_module": "@jupyter-widgets/controls",
          "model_name": "HTMLModel",
          "model_module_version": "1.5.0",
          "state": {
            "_dom_classes": [],
            "_model_module": "@jupyter-widgets/controls",
            "_model_module_version": "1.5.0",
            "_model_name": "HTMLModel",
            "_view_count": null,
            "_view_module": "@jupyter-widgets/controls",
            "_view_module_version": "1.5.0",
            "_view_name": "HTMLView",
            "description": "",
            "description_tooltip": null,
            "layout": "IPY_MODEL_4744fc4d71124cfc898314601383ef7e",
            "placeholder": "​",
            "style": "IPY_MODEL_4da05da4cf574c78a0a8fdad24cce87f",
            "value": "config.json: 100%"
          }
        },
        "011a44e4d8f6466ca4aa90a54a891236": {
          "model_module": "@jupyter-widgets/controls",
          "model_name": "FloatProgressModel",
          "model_module_version": "1.5.0",
          "state": {
            "_dom_classes": [],
            "_model_module": "@jupyter-widgets/controls",
            "_model_module_version": "1.5.0",
            "_model_name": "FloatProgressModel",
            "_view_count": null,
            "_view_module": "@jupyter-widgets/controls",
            "_view_module_version": "1.5.0",
            "_view_name": "ProgressView",
            "bar_style": "success",
            "description": "",
            "description_tooltip": null,
            "layout": "IPY_MODEL_4f3d0331a87f42ddaf3b046b4dc23212",
            "max": 1154,
            "min": 0,
            "orientation": "horizontal",
            "style": "IPY_MODEL_d6aff32757804815a073336a5ff25f8d",
            "value": 1154
          }
        },
        "670afae88a0f4cc4bff36e41aba7706d": {
          "model_module": "@jupyter-widgets/controls",
          "model_name": "HTMLModel",
          "model_module_version": "1.5.0",
          "state": {
            "_dom_classes": [],
            "_model_module": "@jupyter-widgets/controls",
            "_model_module_version": "1.5.0",
            "_model_name": "HTMLModel",
            "_view_count": null,
            "_view_module": "@jupyter-widgets/controls",
            "_view_module_version": "1.5.0",
            "_view_name": "HTMLView",
            "description": "",
            "description_tooltip": null,
            "layout": "IPY_MODEL_ae54cf0ee367412b8724912f6133d75a",
            "placeholder": "​",
            "style": "IPY_MODEL_fdd4a360496c4463860526a9be8892cb",
            "value": " 1.15k/1.15k [00:00&lt;00:00, 99.3kB/s]"
          }
        },
        "aea881fb3d924bcca39def287bde5e3b": {
          "model_module": "@jupyter-widgets/base",
          "model_name": "LayoutModel",
          "model_module_version": "1.2.0",
          "state": {
            "_model_module": "@jupyter-widgets/base",
            "_model_module_version": "1.2.0",
            "_model_name": "LayoutModel",
            "_view_count": null,
            "_view_module": "@jupyter-widgets/base",
            "_view_module_version": "1.2.0",
            "_view_name": "LayoutView",
            "align_content": null,
            "align_items": null,
            "align_self": null,
            "border": null,
            "bottom": null,
            "display": null,
            "flex": null,
            "flex_flow": null,
            "grid_area": null,
            "grid_auto_columns": null,
            "grid_auto_flow": null,
            "grid_auto_rows": null,
            "grid_column": null,
            "grid_gap": null,
            "grid_row": null,
            "grid_template_areas": null,
            "grid_template_columns": null,
            "grid_template_rows": null,
            "height": null,
            "justify_content": null,
            "justify_items": null,
            "left": null,
            "margin": null,
            "max_height": null,
            "max_width": null,
            "min_height": null,
            "min_width": null,
            "object_fit": null,
            "object_position": null,
            "order": null,
            "overflow": null,
            "overflow_x": null,
            "overflow_y": null,
            "padding": null,
            "right": null,
            "top": null,
            "visibility": null,
            "width": null
          }
        },
        "4744fc4d71124cfc898314601383ef7e": {
          "model_module": "@jupyter-widgets/base",
          "model_name": "LayoutModel",
          "model_module_version": "1.2.0",
          "state": {
            "_model_module": "@jupyter-widgets/base",
            "_model_module_version": "1.2.0",
            "_model_name": "LayoutModel",
            "_view_count": null,
            "_view_module": "@jupyter-widgets/base",
            "_view_module_version": "1.2.0",
            "_view_name": "LayoutView",
            "align_content": null,
            "align_items": null,
            "align_self": null,
            "border": null,
            "bottom": null,
            "display": null,
            "flex": null,
            "flex_flow": null,
            "grid_area": null,
            "grid_auto_columns": null,
            "grid_auto_flow": null,
            "grid_auto_rows": null,
            "grid_column": null,
            "grid_gap": null,
            "grid_row": null,
            "grid_template_areas": null,
            "grid_template_columns": null,
            "grid_template_rows": null,
            "height": null,
            "justify_content": null,
            "justify_items": null,
            "left": null,
            "margin": null,
            "max_height": null,
            "max_width": null,
            "min_height": null,
            "min_width": null,
            "object_fit": null,
            "object_position": null,
            "order": null,
            "overflow": null,
            "overflow_x": null,
            "overflow_y": null,
            "padding": null,
            "right": null,
            "top": null,
            "visibility": null,
            "width": null
          }
        },
        "4da05da4cf574c78a0a8fdad24cce87f": {
          "model_module": "@jupyter-widgets/controls",
          "model_name": "DescriptionStyleModel",
          "model_module_version": "1.5.0",
          "state": {
            "_model_module": "@jupyter-widgets/controls",
            "_model_module_version": "1.5.0",
            "_model_name": "DescriptionStyleModel",
            "_view_count": null,
            "_view_module": "@jupyter-widgets/base",
            "_view_module_version": "1.2.0",
            "_view_name": "StyleView",
            "description_width": ""
          }
        },
        "4f3d0331a87f42ddaf3b046b4dc23212": {
          "model_module": "@jupyter-widgets/base",
          "model_name": "LayoutModel",
          "model_module_version": "1.2.0",
          "state": {
            "_model_module": "@jupyter-widgets/base",
            "_model_module_version": "1.2.0",
            "_model_name": "LayoutModel",
            "_view_count": null,
            "_view_module": "@jupyter-widgets/base",
            "_view_module_version": "1.2.0",
            "_view_name": "LayoutView",
            "align_content": null,
            "align_items": null,
            "align_self": null,
            "border": null,
            "bottom": null,
            "display": null,
            "flex": null,
            "flex_flow": null,
            "grid_area": null,
            "grid_auto_columns": null,
            "grid_auto_flow": null,
            "grid_auto_rows": null,
            "grid_column": null,
            "grid_gap": null,
            "grid_row": null,
            "grid_template_areas": null,
            "grid_template_columns": null,
            "grid_template_rows": null,
            "height": null,
            "justify_content": null,
            "justify_items": null,
            "left": null,
            "margin": null,
            "max_height": null,
            "max_width": null,
            "min_height": null,
            "min_width": null,
            "object_fit": null,
            "object_position": null,
            "order": null,
            "overflow": null,
            "overflow_x": null,
            "overflow_y": null,
            "padding": null,
            "right": null,
            "top": null,
            "visibility": null,
            "width": null
          }
        },
        "d6aff32757804815a073336a5ff25f8d": {
          "model_module": "@jupyter-widgets/controls",
          "model_name": "ProgressStyleModel",
          "model_module_version": "1.5.0",
          "state": {
            "_model_module": "@jupyter-widgets/controls",
            "_model_module_version": "1.5.0",
            "_model_name": "ProgressStyleModel",
            "_view_count": null,
            "_view_module": "@jupyter-widgets/base",
            "_view_module_version": "1.2.0",
            "_view_name": "StyleView",
            "bar_color": null,
            "description_width": ""
          }
        },
        "ae54cf0ee367412b8724912f6133d75a": {
          "model_module": "@jupyter-widgets/base",
          "model_name": "LayoutModel",
          "model_module_version": "1.2.0",
          "state": {
            "_model_module": "@jupyter-widgets/base",
            "_model_module_version": "1.2.0",
            "_model_name": "LayoutModel",
            "_view_count": null,
            "_view_module": "@jupyter-widgets/base",
            "_view_module_version": "1.2.0",
            "_view_name": "LayoutView",
            "align_content": null,
            "align_items": null,
            "align_self": null,
            "border": null,
            "bottom": null,
            "display": null,
            "flex": null,
            "flex_flow": null,
            "grid_area": null,
            "grid_auto_columns": null,
            "grid_auto_flow": null,
            "grid_auto_rows": null,
            "grid_column": null,
            "grid_gap": null,
            "grid_row": null,
            "grid_template_areas": null,
            "grid_template_columns": null,
            "grid_template_rows": null,
            "height": null,
            "justify_content": null,
            "justify_items": null,
            "left": null,
            "margin": null,
            "max_height": null,
            "max_width": null,
            "min_height": null,
            "min_width": null,
            "object_fit": null,
            "object_position": null,
            "order": null,
            "overflow": null,
            "overflow_x": null,
            "overflow_y": null,
            "padding": null,
            "right": null,
            "top": null,
            "visibility": null,
            "width": null
          }
        },
        "fdd4a360496c4463860526a9be8892cb": {
          "model_module": "@jupyter-widgets/controls",
          "model_name": "DescriptionStyleModel",
          "model_module_version": "1.5.0",
          "state": {
            "_model_module": "@jupyter-widgets/controls",
            "_model_module_version": "1.5.0",
            "_model_name": "DescriptionStyleModel",
            "_view_count": null,
            "_view_module": "@jupyter-widgets/base",
            "_view_module_version": "1.2.0",
            "_view_name": "StyleView",
            "description_width": ""
          }
        },
        "5ce8d14ea6684c7fa808f1a5c870bc2a": {
          "model_module": "@jupyter-widgets/controls",
          "model_name": "HBoxModel",
          "model_module_version": "1.5.0",
          "state": {
            "_dom_classes": [],
            "_model_module": "@jupyter-widgets/controls",
            "_model_module_version": "1.5.0",
            "_model_name": "HBoxModel",
            "_view_count": null,
            "_view_module": "@jupyter-widgets/controls",
            "_view_module_version": "1.5.0",
            "_view_name": "HBoxView",
            "box_style": "",
            "children": [
              "IPY_MODEL_fb66715e357740bba4b972f296a811b3",
              "IPY_MODEL_6ed2157d241b4254952170c038ca6fc4",
              "IPY_MODEL_72c58f76307e45bd971100f3060ab433"
            ],
            "layout": "IPY_MODEL_95e03f6ef8d34bc09b479c078034e0f3"
          }
        },
        "fb66715e357740bba4b972f296a811b3": {
          "model_module": "@jupyter-widgets/controls",
          "model_name": "HTMLModel",
          "model_module_version": "1.5.0",
          "state": {
            "_dom_classes": [],
            "_model_module": "@jupyter-widgets/controls",
            "_model_module_version": "1.5.0",
            "_model_name": "HTMLModel",
            "_view_count": null,
            "_view_module": "@jupyter-widgets/controls",
            "_view_module_version": "1.5.0",
            "_view_name": "HTMLView",
            "description": "",
            "description_tooltip": null,
            "layout": "IPY_MODEL_46ea3a297c9f423fa6fa610b47ca1485",
            "placeholder": "​",
            "style": "IPY_MODEL_ca06646ed26142dba843abbb443caf4d",
            "value": "model.safetensors: 100%"
          }
        },
        "6ed2157d241b4254952170c038ca6fc4": {
          "model_module": "@jupyter-widgets/controls",
          "model_name": "FloatProgressModel",
          "model_module_version": "1.5.0",
          "state": {
            "_dom_classes": [],
            "_model_module": "@jupyter-widgets/controls",
            "_model_module_version": "1.5.0",
            "_model_name": "FloatProgressModel",
            "_view_count": null,
            "_view_module": "@jupyter-widgets/controls",
            "_view_module_version": "1.5.0",
            "_view_name": "ProgressView",
            "bar_style": "success",
            "description": "",
            "description_tooltip": null,
            "layout": "IPY_MODEL_26bc35fd8042424c8b1dc5151bc16db6",
            "max": 1629437147,
            "min": 0,
            "orientation": "horizontal",
            "style": "IPY_MODEL_8f427538c4a84b7789f5dd9c9253e06d",
            "value": 1629437147
          }
        },
        "72c58f76307e45bd971100f3060ab433": {
          "model_module": "@jupyter-widgets/controls",
          "model_name": "HTMLModel",
          "model_module_version": "1.5.0",
          "state": {
            "_dom_classes": [],
            "_model_module": "@jupyter-widgets/controls",
            "_model_module_version": "1.5.0",
            "_model_name": "HTMLModel",
            "_view_count": null,
            "_view_module": "@jupyter-widgets/controls",
            "_view_module_version": "1.5.0",
            "_view_name": "HTMLView",
            "description": "",
            "description_tooltip": null,
            "layout": "IPY_MODEL_802b1b5bac844010938c1e2f59cb9c41",
            "placeholder": "​",
            "style": "IPY_MODEL_9836781f63704ac2a7ee8c76c933cabb",
            "value": " 1.63G/1.63G [00:06&lt;00:00, 251MB/s]"
          }
        },
        "95e03f6ef8d34bc09b479c078034e0f3": {
          "model_module": "@jupyter-widgets/base",
          "model_name": "LayoutModel",
          "model_module_version": "1.2.0",
          "state": {
            "_model_module": "@jupyter-widgets/base",
            "_model_module_version": "1.2.0",
            "_model_name": "LayoutModel",
            "_view_count": null,
            "_view_module": "@jupyter-widgets/base",
            "_view_module_version": "1.2.0",
            "_view_name": "LayoutView",
            "align_content": null,
            "align_items": null,
            "align_self": null,
            "border": null,
            "bottom": null,
            "display": null,
            "flex": null,
            "flex_flow": null,
            "grid_area": null,
            "grid_auto_columns": null,
            "grid_auto_flow": null,
            "grid_auto_rows": null,
            "grid_column": null,
            "grid_gap": null,
            "grid_row": null,
            "grid_template_areas": null,
            "grid_template_columns": null,
            "grid_template_rows": null,
            "height": null,
            "justify_content": null,
            "justify_items": null,
            "left": null,
            "margin": null,
            "max_height": null,
            "max_width": null,
            "min_height": null,
            "min_width": null,
            "object_fit": null,
            "object_position": null,
            "order": null,
            "overflow": null,
            "overflow_x": null,
            "overflow_y": null,
            "padding": null,
            "right": null,
            "top": null,
            "visibility": null,
            "width": null
          }
        },
        "46ea3a297c9f423fa6fa610b47ca1485": {
          "model_module": "@jupyter-widgets/base",
          "model_name": "LayoutModel",
          "model_module_version": "1.2.0",
          "state": {
            "_model_module": "@jupyter-widgets/base",
            "_model_module_version": "1.2.0",
            "_model_name": "LayoutModel",
            "_view_count": null,
            "_view_module": "@jupyter-widgets/base",
            "_view_module_version": "1.2.0",
            "_view_name": "LayoutView",
            "align_content": null,
            "align_items": null,
            "align_self": null,
            "border": null,
            "bottom": null,
            "display": null,
            "flex": null,
            "flex_flow": null,
            "grid_area": null,
            "grid_auto_columns": null,
            "grid_auto_flow": null,
            "grid_auto_rows": null,
            "grid_column": null,
            "grid_gap": null,
            "grid_row": null,
            "grid_template_areas": null,
            "grid_template_columns": null,
            "grid_template_rows": null,
            "height": null,
            "justify_content": null,
            "justify_items": null,
            "left": null,
            "margin": null,
            "max_height": null,
            "max_width": null,
            "min_height": null,
            "min_width": null,
            "object_fit": null,
            "object_position": null,
            "order": null,
            "overflow": null,
            "overflow_x": null,
            "overflow_y": null,
            "padding": null,
            "right": null,
            "top": null,
            "visibility": null,
            "width": null
          }
        },
        "ca06646ed26142dba843abbb443caf4d": {
          "model_module": "@jupyter-widgets/controls",
          "model_name": "DescriptionStyleModel",
          "model_module_version": "1.5.0",
          "state": {
            "_model_module": "@jupyter-widgets/controls",
            "_model_module_version": "1.5.0",
            "_model_name": "DescriptionStyleModel",
            "_view_count": null,
            "_view_module": "@jupyter-widgets/base",
            "_view_module_version": "1.2.0",
            "_view_name": "StyleView",
            "description_width": ""
          }
        },
        "26bc35fd8042424c8b1dc5151bc16db6": {
          "model_module": "@jupyter-widgets/base",
          "model_name": "LayoutModel",
          "model_module_version": "1.2.0",
          "state": {
            "_model_module": "@jupyter-widgets/base",
            "_model_module_version": "1.2.0",
            "_model_name": "LayoutModel",
            "_view_count": null,
            "_view_module": "@jupyter-widgets/base",
            "_view_module_version": "1.2.0",
            "_view_name": "LayoutView",
            "align_content": null,
            "align_items": null,
            "align_self": null,
            "border": null,
            "bottom": null,
            "display": null,
            "flex": null,
            "flex_flow": null,
            "grid_area": null,
            "grid_auto_columns": null,
            "grid_auto_flow": null,
            "grid_auto_rows": null,
            "grid_column": null,
            "grid_gap": null,
            "grid_row": null,
            "grid_template_areas": null,
            "grid_template_columns": null,
            "grid_template_rows": null,
            "height": null,
            "justify_content": null,
            "justify_items": null,
            "left": null,
            "margin": null,
            "max_height": null,
            "max_width": null,
            "min_height": null,
            "min_width": null,
            "object_fit": null,
            "object_position": null,
            "order": null,
            "overflow": null,
            "overflow_x": null,
            "overflow_y": null,
            "padding": null,
            "right": null,
            "top": null,
            "visibility": null,
            "width": null
          }
        },
        "8f427538c4a84b7789f5dd9c9253e06d": {
          "model_module": "@jupyter-widgets/controls",
          "model_name": "ProgressStyleModel",
          "model_module_version": "1.5.0",
          "state": {
            "_model_module": "@jupyter-widgets/controls",
            "_model_module_version": "1.5.0",
            "_model_name": "ProgressStyleModel",
            "_view_count": null,
            "_view_module": "@jupyter-widgets/base",
            "_view_module_version": "1.2.0",
            "_view_name": "StyleView",
            "bar_color": null,
            "description_width": ""
          }
        },
        "802b1b5bac844010938c1e2f59cb9c41": {
          "model_module": "@jupyter-widgets/base",
          "model_name": "LayoutModel",
          "model_module_version": "1.2.0",
          "state": {
            "_model_module": "@jupyter-widgets/base",
            "_model_module_version": "1.2.0",
            "_model_name": "LayoutModel",
            "_view_count": null,
            "_view_module": "@jupyter-widgets/base",
            "_view_module_version": "1.2.0",
            "_view_name": "LayoutView",
            "align_content": null,
            "align_items": null,
            "align_self": null,
            "border": null,
            "bottom": null,
            "display": null,
            "flex": null,
            "flex_flow": null,
            "grid_area": null,
            "grid_auto_columns": null,
            "grid_auto_flow": null,
            "grid_auto_rows": null,
            "grid_column": null,
            "grid_gap": null,
            "grid_row": null,
            "grid_template_areas": null,
            "grid_template_columns": null,
            "grid_template_rows": null,
            "height": null,
            "justify_content": null,
            "justify_items": null,
            "left": null,
            "margin": null,
            "max_height": null,
            "max_width": null,
            "min_height": null,
            "min_width": null,
            "object_fit": null,
            "object_position": null,
            "order": null,
            "overflow": null,
            "overflow_x": null,
            "overflow_y": null,
            "padding": null,
            "right": null,
            "top": null,
            "visibility": null,
            "width": null
          }
        },
        "9836781f63704ac2a7ee8c76c933cabb": {
          "model_module": "@jupyter-widgets/controls",
          "model_name": "DescriptionStyleModel",
          "model_module_version": "1.5.0",
          "state": {
            "_model_module": "@jupyter-widgets/controls",
            "_model_module_version": "1.5.0",
            "_model_name": "DescriptionStyleModel",
            "_view_count": null,
            "_view_module": "@jupyter-widgets/base",
            "_view_module_version": "1.2.0",
            "_view_name": "StyleView",
            "description_width": ""
          }
        },
        "ff511ea48ddd4cddbed1c5ae43478729": {
          "model_module": "@jupyter-widgets/controls",
          "model_name": "HBoxModel",
          "model_module_version": "1.5.0",
          "state": {
            "_dom_classes": [],
            "_model_module": "@jupyter-widgets/controls",
            "_model_module_version": "1.5.0",
            "_model_name": "HBoxModel",
            "_view_count": null,
            "_view_module": "@jupyter-widgets/controls",
            "_view_module_version": "1.5.0",
            "_view_name": "HBoxView",
            "box_style": "",
            "children": [
              "IPY_MODEL_800cfd80ea3a4680ae13e0c4b9769b20",
              "IPY_MODEL_4ba66d28ef2a4b4fa1715b647c223e78",
              "IPY_MODEL_a2a05871fe6f487499a3a1e797a67567"
            ],
            "layout": "IPY_MODEL_45887e4cca614731b5ccfdee069d91ce"
          }
        },
        "800cfd80ea3a4680ae13e0c4b9769b20": {
          "model_module": "@jupyter-widgets/controls",
          "model_name": "HTMLModel",
          "model_module_version": "1.5.0",
          "state": {
            "_dom_classes": [],
            "_model_module": "@jupyter-widgets/controls",
            "_model_module_version": "1.5.0",
            "_model_name": "HTMLModel",
            "_view_count": null,
            "_view_module": "@jupyter-widgets/controls",
            "_view_module_version": "1.5.0",
            "_view_name": "HTMLView",
            "description": "",
            "description_tooltip": null,
            "layout": "IPY_MODEL_c1fd9f5d21e6446e8c6060f59e542094",
            "placeholder": "​",
            "style": "IPY_MODEL_80a6e3527a73469c9dac2d219a94187b",
            "value": "tokenizer_config.json: 100%"
          }
        },
        "4ba66d28ef2a4b4fa1715b647c223e78": {
          "model_module": "@jupyter-widgets/controls",
          "model_name": "FloatProgressModel",
          "model_module_version": "1.5.0",
          "state": {
            "_dom_classes": [],
            "_model_module": "@jupyter-widgets/controls",
            "_model_module_version": "1.5.0",
            "_model_name": "FloatProgressModel",
            "_view_count": null,
            "_view_module": "@jupyter-widgets/controls",
            "_view_module_version": "1.5.0",
            "_view_name": "ProgressView",
            "bar_style": "success",
            "description": "",
            "description_tooltip": null,
            "layout": "IPY_MODEL_95106e4c8adc4b399123dbc9528ca575",
            "max": 26,
            "min": 0,
            "orientation": "horizontal",
            "style": "IPY_MODEL_ae7615dddfde488c918f5af89cdc637d",
            "value": 26
          }
        },
        "a2a05871fe6f487499a3a1e797a67567": {
          "model_module": "@jupyter-widgets/controls",
          "model_name": "HTMLModel",
          "model_module_version": "1.5.0",
          "state": {
            "_dom_classes": [],
            "_model_module": "@jupyter-widgets/controls",
            "_model_module_version": "1.5.0",
            "_model_name": "HTMLModel",
            "_view_count": null,
            "_view_module": "@jupyter-widgets/controls",
            "_view_module_version": "1.5.0",
            "_view_name": "HTMLView",
            "description": "",
            "description_tooltip": null,
            "layout": "IPY_MODEL_db37637ac21d42f7ba61efbc24f3dc7d",
            "placeholder": "​",
            "style": "IPY_MODEL_604f713bbbf94d2e897530c37e30ce12",
            "value": " 26.0/26.0 [00:00&lt;00:00, 918B/s]"
          }
        },
        "45887e4cca614731b5ccfdee069d91ce": {
          "model_module": "@jupyter-widgets/base",
          "model_name": "LayoutModel",
          "model_module_version": "1.2.0",
          "state": {
            "_model_module": "@jupyter-widgets/base",
            "_model_module_version": "1.2.0",
            "_model_name": "LayoutModel",
            "_view_count": null,
            "_view_module": "@jupyter-widgets/base",
            "_view_module_version": "1.2.0",
            "_view_name": "LayoutView",
            "align_content": null,
            "align_items": null,
            "align_self": null,
            "border": null,
            "bottom": null,
            "display": null,
            "flex": null,
            "flex_flow": null,
            "grid_area": null,
            "grid_auto_columns": null,
            "grid_auto_flow": null,
            "grid_auto_rows": null,
            "grid_column": null,
            "grid_gap": null,
            "grid_row": null,
            "grid_template_areas": null,
            "grid_template_columns": null,
            "grid_template_rows": null,
            "height": null,
            "justify_content": null,
            "justify_items": null,
            "left": null,
            "margin": null,
            "max_height": null,
            "max_width": null,
            "min_height": null,
            "min_width": null,
            "object_fit": null,
            "object_position": null,
            "order": null,
            "overflow": null,
            "overflow_x": null,
            "overflow_y": null,
            "padding": null,
            "right": null,
            "top": null,
            "visibility": null,
            "width": null
          }
        },
        "c1fd9f5d21e6446e8c6060f59e542094": {
          "model_module": "@jupyter-widgets/base",
          "model_name": "LayoutModel",
          "model_module_version": "1.2.0",
          "state": {
            "_model_module": "@jupyter-widgets/base",
            "_model_module_version": "1.2.0",
            "_model_name": "LayoutModel",
            "_view_count": null,
            "_view_module": "@jupyter-widgets/base",
            "_view_module_version": "1.2.0",
            "_view_name": "LayoutView",
            "align_content": null,
            "align_items": null,
            "align_self": null,
            "border": null,
            "bottom": null,
            "display": null,
            "flex": null,
            "flex_flow": null,
            "grid_area": null,
            "grid_auto_columns": null,
            "grid_auto_flow": null,
            "grid_auto_rows": null,
            "grid_column": null,
            "grid_gap": null,
            "grid_row": null,
            "grid_template_areas": null,
            "grid_template_columns": null,
            "grid_template_rows": null,
            "height": null,
            "justify_content": null,
            "justify_items": null,
            "left": null,
            "margin": null,
            "max_height": null,
            "max_width": null,
            "min_height": null,
            "min_width": null,
            "object_fit": null,
            "object_position": null,
            "order": null,
            "overflow": null,
            "overflow_x": null,
            "overflow_y": null,
            "padding": null,
            "right": null,
            "top": null,
            "visibility": null,
            "width": null
          }
        },
        "80a6e3527a73469c9dac2d219a94187b": {
          "model_module": "@jupyter-widgets/controls",
          "model_name": "DescriptionStyleModel",
          "model_module_version": "1.5.0",
          "state": {
            "_model_module": "@jupyter-widgets/controls",
            "_model_module_version": "1.5.0",
            "_model_name": "DescriptionStyleModel",
            "_view_count": null,
            "_view_module": "@jupyter-widgets/base",
            "_view_module_version": "1.2.0",
            "_view_name": "StyleView",
            "description_width": ""
          }
        },
        "95106e4c8adc4b399123dbc9528ca575": {
          "model_module": "@jupyter-widgets/base",
          "model_name": "LayoutModel",
          "model_module_version": "1.2.0",
          "state": {
            "_model_module": "@jupyter-widgets/base",
            "_model_module_version": "1.2.0",
            "_model_name": "LayoutModel",
            "_view_count": null,
            "_view_module": "@jupyter-widgets/base",
            "_view_module_version": "1.2.0",
            "_view_name": "LayoutView",
            "align_content": null,
            "align_items": null,
            "align_self": null,
            "border": null,
            "bottom": null,
            "display": null,
            "flex": null,
            "flex_flow": null,
            "grid_area": null,
            "grid_auto_columns": null,
            "grid_auto_flow": null,
            "grid_auto_rows": null,
            "grid_column": null,
            "grid_gap": null,
            "grid_row": null,
            "grid_template_areas": null,
            "grid_template_columns": null,
            "grid_template_rows": null,
            "height": null,
            "justify_content": null,
            "justify_items": null,
            "left": null,
            "margin": null,
            "max_height": null,
            "max_width": null,
            "min_height": null,
            "min_width": null,
            "object_fit": null,
            "object_position": null,
            "order": null,
            "overflow": null,
            "overflow_x": null,
            "overflow_y": null,
            "padding": null,
            "right": null,
            "top": null,
            "visibility": null,
            "width": null
          }
        },
        "ae7615dddfde488c918f5af89cdc637d": {
          "model_module": "@jupyter-widgets/controls",
          "model_name": "ProgressStyleModel",
          "model_module_version": "1.5.0",
          "state": {
            "_model_module": "@jupyter-widgets/controls",
            "_model_module_version": "1.5.0",
            "_model_name": "ProgressStyleModel",
            "_view_count": null,
            "_view_module": "@jupyter-widgets/base",
            "_view_module_version": "1.2.0",
            "_view_name": "StyleView",
            "bar_color": null,
            "description_width": ""
          }
        },
        "db37637ac21d42f7ba61efbc24f3dc7d": {
          "model_module": "@jupyter-widgets/base",
          "model_name": "LayoutModel",
          "model_module_version": "1.2.0",
          "state": {
            "_model_module": "@jupyter-widgets/base",
            "_model_module_version": "1.2.0",
            "_model_name": "LayoutModel",
            "_view_count": null,
            "_view_module": "@jupyter-widgets/base",
            "_view_module_version": "1.2.0",
            "_view_name": "LayoutView",
            "align_content": null,
            "align_items": null,
            "align_self": null,
            "border": null,
            "bottom": null,
            "display": null,
            "flex": null,
            "flex_flow": null,
            "grid_area": null,
            "grid_auto_columns": null,
            "grid_auto_flow": null,
            "grid_auto_rows": null,
            "grid_column": null,
            "grid_gap": null,
            "grid_row": null,
            "grid_template_areas": null,
            "grid_template_columns": null,
            "grid_template_rows": null,
            "height": null,
            "justify_content": null,
            "justify_items": null,
            "left": null,
            "margin": null,
            "max_height": null,
            "max_width": null,
            "min_height": null,
            "min_width": null,
            "object_fit": null,
            "object_position": null,
            "order": null,
            "overflow": null,
            "overflow_x": null,
            "overflow_y": null,
            "padding": null,
            "right": null,
            "top": null,
            "visibility": null,
            "width": null
          }
        },
        "604f713bbbf94d2e897530c37e30ce12": {
          "model_module": "@jupyter-widgets/controls",
          "model_name": "DescriptionStyleModel",
          "model_module_version": "1.5.0",
          "state": {
            "_model_module": "@jupyter-widgets/controls",
            "_model_module_version": "1.5.0",
            "_model_name": "DescriptionStyleModel",
            "_view_count": null,
            "_view_module": "@jupyter-widgets/base",
            "_view_module_version": "1.2.0",
            "_view_name": "StyleView",
            "description_width": ""
          }
        },
        "3f4490709c45460f8033b73131676c95": {
          "model_module": "@jupyter-widgets/controls",
          "model_name": "HBoxModel",
          "model_module_version": "1.5.0",
          "state": {
            "_dom_classes": [],
            "_model_module": "@jupyter-widgets/controls",
            "_model_module_version": "1.5.0",
            "_model_name": "HBoxModel",
            "_view_count": null,
            "_view_module": "@jupyter-widgets/controls",
            "_view_module_version": "1.5.0",
            "_view_name": "HBoxView",
            "box_style": "",
            "children": [
              "IPY_MODEL_21c93c5c0f374cf3a0ec959987b0ad18",
              "IPY_MODEL_8d9107623c00468ca7ed7e56956ec243",
              "IPY_MODEL_496e643c32864bbabbe13856651d4c74"
            ],
            "layout": "IPY_MODEL_19a687bfcc384349a606cad773ca3a41"
          }
        },
        "21c93c5c0f374cf3a0ec959987b0ad18": {
          "model_module": "@jupyter-widgets/controls",
          "model_name": "HTMLModel",
          "model_module_version": "1.5.0",
          "state": {
            "_dom_classes": [],
            "_model_module": "@jupyter-widgets/controls",
            "_model_module_version": "1.5.0",
            "_model_name": "HTMLModel",
            "_view_count": null,
            "_view_module": "@jupyter-widgets/controls",
            "_view_module_version": "1.5.0",
            "_view_name": "HTMLView",
            "description": "",
            "description_tooltip": null,
            "layout": "IPY_MODEL_69e4be7f79a549d1a9e0625607e2eb08",
            "placeholder": "​",
            "style": "IPY_MODEL_023989b561f04ba1bd4bdb04eb6da16f",
            "value": "vocab.json: 100%"
          }
        },
        "8d9107623c00468ca7ed7e56956ec243": {
          "model_module": "@jupyter-widgets/controls",
          "model_name": "FloatProgressModel",
          "model_module_version": "1.5.0",
          "state": {
            "_dom_classes": [],
            "_model_module": "@jupyter-widgets/controls",
            "_model_module_version": "1.5.0",
            "_model_name": "FloatProgressModel",
            "_view_count": null,
            "_view_module": "@jupyter-widgets/controls",
            "_view_module_version": "1.5.0",
            "_view_name": "ProgressView",
            "bar_style": "success",
            "description": "",
            "description_tooltip": null,
            "layout": "IPY_MODEL_2d3be8e7b46c41c8b55e773e2b977779",
            "max": 898822,
            "min": 0,
            "orientation": "horizontal",
            "style": "IPY_MODEL_c4ad5059b19e4098a78c46d0decb7731",
            "value": 898822
          }
        },
        "496e643c32864bbabbe13856651d4c74": {
          "model_module": "@jupyter-widgets/controls",
          "model_name": "HTMLModel",
          "model_module_version": "1.5.0",
          "state": {
            "_dom_classes": [],
            "_model_module": "@jupyter-widgets/controls",
            "_model_module_version": "1.5.0",
            "_model_name": "HTMLModel",
            "_view_count": null,
            "_view_module": "@jupyter-widgets/controls",
            "_view_module_version": "1.5.0",
            "_view_name": "HTMLView",
            "description": "",
            "description_tooltip": null,
            "layout": "IPY_MODEL_af4c10d5fbd44492a0976286f6e17d3d",
            "placeholder": "​",
            "style": "IPY_MODEL_fa341a7cb9a54c2aa8e98e5e309b06b8",
            "value": " 899k/899k [00:00&lt;00:00, 23.2MB/s]"
          }
        },
        "19a687bfcc384349a606cad773ca3a41": {
          "model_module": "@jupyter-widgets/base",
          "model_name": "LayoutModel",
          "model_module_version": "1.2.0",
          "state": {
            "_model_module": "@jupyter-widgets/base",
            "_model_module_version": "1.2.0",
            "_model_name": "LayoutModel",
            "_view_count": null,
            "_view_module": "@jupyter-widgets/base",
            "_view_module_version": "1.2.0",
            "_view_name": "LayoutView",
            "align_content": null,
            "align_items": null,
            "align_self": null,
            "border": null,
            "bottom": null,
            "display": null,
            "flex": null,
            "flex_flow": null,
            "grid_area": null,
            "grid_auto_columns": null,
            "grid_auto_flow": null,
            "grid_auto_rows": null,
            "grid_column": null,
            "grid_gap": null,
            "grid_row": null,
            "grid_template_areas": null,
            "grid_template_columns": null,
            "grid_template_rows": null,
            "height": null,
            "justify_content": null,
            "justify_items": null,
            "left": null,
            "margin": null,
            "max_height": null,
            "max_width": null,
            "min_height": null,
            "min_width": null,
            "object_fit": null,
            "object_position": null,
            "order": null,
            "overflow": null,
            "overflow_x": null,
            "overflow_y": null,
            "padding": null,
            "right": null,
            "top": null,
            "visibility": null,
            "width": null
          }
        },
        "69e4be7f79a549d1a9e0625607e2eb08": {
          "model_module": "@jupyter-widgets/base",
          "model_name": "LayoutModel",
          "model_module_version": "1.2.0",
          "state": {
            "_model_module": "@jupyter-widgets/base",
            "_model_module_version": "1.2.0",
            "_model_name": "LayoutModel",
            "_view_count": null,
            "_view_module": "@jupyter-widgets/base",
            "_view_module_version": "1.2.0",
            "_view_name": "LayoutView",
            "align_content": null,
            "align_items": null,
            "align_self": null,
            "border": null,
            "bottom": null,
            "display": null,
            "flex": null,
            "flex_flow": null,
            "grid_area": null,
            "grid_auto_columns": null,
            "grid_auto_flow": null,
            "grid_auto_rows": null,
            "grid_column": null,
            "grid_gap": null,
            "grid_row": null,
            "grid_template_areas": null,
            "grid_template_columns": null,
            "grid_template_rows": null,
            "height": null,
            "justify_content": null,
            "justify_items": null,
            "left": null,
            "margin": null,
            "max_height": null,
            "max_width": null,
            "min_height": null,
            "min_width": null,
            "object_fit": null,
            "object_position": null,
            "order": null,
            "overflow": null,
            "overflow_x": null,
            "overflow_y": null,
            "padding": null,
            "right": null,
            "top": null,
            "visibility": null,
            "width": null
          }
        },
        "023989b561f04ba1bd4bdb04eb6da16f": {
          "model_module": "@jupyter-widgets/controls",
          "model_name": "DescriptionStyleModel",
          "model_module_version": "1.5.0",
          "state": {
            "_model_module": "@jupyter-widgets/controls",
            "_model_module_version": "1.5.0",
            "_model_name": "DescriptionStyleModel",
            "_view_count": null,
            "_view_module": "@jupyter-widgets/base",
            "_view_module_version": "1.2.0",
            "_view_name": "StyleView",
            "description_width": ""
          }
        },
        "2d3be8e7b46c41c8b55e773e2b977779": {
          "model_module": "@jupyter-widgets/base",
          "model_name": "LayoutModel",
          "model_module_version": "1.2.0",
          "state": {
            "_model_module": "@jupyter-widgets/base",
            "_model_module_version": "1.2.0",
            "_model_name": "LayoutModel",
            "_view_count": null,
            "_view_module": "@jupyter-widgets/base",
            "_view_module_version": "1.2.0",
            "_view_name": "LayoutView",
            "align_content": null,
            "align_items": null,
            "align_self": null,
            "border": null,
            "bottom": null,
            "display": null,
            "flex": null,
            "flex_flow": null,
            "grid_area": null,
            "grid_auto_columns": null,
            "grid_auto_flow": null,
            "grid_auto_rows": null,
            "grid_column": null,
            "grid_gap": null,
            "grid_row": null,
            "grid_template_areas": null,
            "grid_template_columns": null,
            "grid_template_rows": null,
            "height": null,
            "justify_content": null,
            "justify_items": null,
            "left": null,
            "margin": null,
            "max_height": null,
            "max_width": null,
            "min_height": null,
            "min_width": null,
            "object_fit": null,
            "object_position": null,
            "order": null,
            "overflow": null,
            "overflow_x": null,
            "overflow_y": null,
            "padding": null,
            "right": null,
            "top": null,
            "visibility": null,
            "width": null
          }
        },
        "c4ad5059b19e4098a78c46d0decb7731": {
          "model_module": "@jupyter-widgets/controls",
          "model_name": "ProgressStyleModel",
          "model_module_version": "1.5.0",
          "state": {
            "_model_module": "@jupyter-widgets/controls",
            "_model_module_version": "1.5.0",
            "_model_name": "ProgressStyleModel",
            "_view_count": null,
            "_view_module": "@jupyter-widgets/base",
            "_view_module_version": "1.2.0",
            "_view_name": "StyleView",
            "bar_color": null,
            "description_width": ""
          }
        },
        "af4c10d5fbd44492a0976286f6e17d3d": {
          "model_module": "@jupyter-widgets/base",
          "model_name": "LayoutModel",
          "model_module_version": "1.2.0",
          "state": {
            "_model_module": "@jupyter-widgets/base",
            "_model_module_version": "1.2.0",
            "_model_name": "LayoutModel",
            "_view_count": null,
            "_view_module": "@jupyter-widgets/base",
            "_view_module_version": "1.2.0",
            "_view_name": "LayoutView",
            "align_content": null,
            "align_items": null,
            "align_self": null,
            "border": null,
            "bottom": null,
            "display": null,
            "flex": null,
            "flex_flow": null,
            "grid_area": null,
            "grid_auto_columns": null,
            "grid_auto_flow": null,
            "grid_auto_rows": null,
            "grid_column": null,
            "grid_gap": null,
            "grid_row": null,
            "grid_template_areas": null,
            "grid_template_columns": null,
            "grid_template_rows": null,
            "height": null,
            "justify_content": null,
            "justify_items": null,
            "left": null,
            "margin": null,
            "max_height": null,
            "max_width": null,
            "min_height": null,
            "min_width": null,
            "object_fit": null,
            "object_position": null,
            "order": null,
            "overflow": null,
            "overflow_x": null,
            "overflow_y": null,
            "padding": null,
            "right": null,
            "top": null,
            "visibility": null,
            "width": null
          }
        },
        "fa341a7cb9a54c2aa8e98e5e309b06b8": {
          "model_module": "@jupyter-widgets/controls",
          "model_name": "DescriptionStyleModel",
          "model_module_version": "1.5.0",
          "state": {
            "_model_module": "@jupyter-widgets/controls",
            "_model_module_version": "1.5.0",
            "_model_name": "DescriptionStyleModel",
            "_view_count": null,
            "_view_module": "@jupyter-widgets/base",
            "_view_module_version": "1.2.0",
            "_view_name": "StyleView",
            "description_width": ""
          }
        },
        "4e8a118602404cb284efb333296ca3ff": {
          "model_module": "@jupyter-widgets/controls",
          "model_name": "HBoxModel",
          "model_module_version": "1.5.0",
          "state": {
            "_dom_classes": [],
            "_model_module": "@jupyter-widgets/controls",
            "_model_module_version": "1.5.0",
            "_model_name": "HBoxModel",
            "_view_count": null,
            "_view_module": "@jupyter-widgets/controls",
            "_view_module_version": "1.5.0",
            "_view_name": "HBoxView",
            "box_style": "",
            "children": [
              "IPY_MODEL_1150b8f7178d4f85a0b8ef4872593b84",
              "IPY_MODEL_ca43abcdf05f4019b3ec91f943477983",
              "IPY_MODEL_c97baa12cf6a4168aa237df6dfc4cb2e"
            ],
            "layout": "IPY_MODEL_eb47fb6c179a4cc0893fabe9dec835c7"
          }
        },
        "1150b8f7178d4f85a0b8ef4872593b84": {
          "model_module": "@jupyter-widgets/controls",
          "model_name": "HTMLModel",
          "model_module_version": "1.5.0",
          "state": {
            "_dom_classes": [],
            "_model_module": "@jupyter-widgets/controls",
            "_model_module_version": "1.5.0",
            "_model_name": "HTMLModel",
            "_view_count": null,
            "_view_module": "@jupyter-widgets/controls",
            "_view_module_version": "1.5.0",
            "_view_name": "HTMLView",
            "description": "",
            "description_tooltip": null,
            "layout": "IPY_MODEL_a0c6afa5756e4982a6dd5b8bf383381e",
            "placeholder": "​",
            "style": "IPY_MODEL_7e229a9b5a224ad0a0a93c1573e2ca88",
            "value": "merges.txt: 100%"
          }
        },
        "ca43abcdf05f4019b3ec91f943477983": {
          "model_module": "@jupyter-widgets/controls",
          "model_name": "FloatProgressModel",
          "model_module_version": "1.5.0",
          "state": {
            "_dom_classes": [],
            "_model_module": "@jupyter-widgets/controls",
            "_model_module_version": "1.5.0",
            "_model_name": "FloatProgressModel",
            "_view_count": null,
            "_view_module": "@jupyter-widgets/controls",
            "_view_module_version": "1.5.0",
            "_view_name": "ProgressView",
            "bar_style": "success",
            "description": "",
            "description_tooltip": null,
            "layout": "IPY_MODEL_231dd46ca57349dd83f34790f0b272f6",
            "max": 456318,
            "min": 0,
            "orientation": "horizontal",
            "style": "IPY_MODEL_ef73ddc448f64a62a513f5143970392a",
            "value": 456318
          }
        },
        "c97baa12cf6a4168aa237df6dfc4cb2e": {
          "model_module": "@jupyter-widgets/controls",
          "model_name": "HTMLModel",
          "model_module_version": "1.5.0",
          "state": {
            "_dom_classes": [],
            "_model_module": "@jupyter-widgets/controls",
            "_model_module_version": "1.5.0",
            "_model_name": "HTMLModel",
            "_view_count": null,
            "_view_module": "@jupyter-widgets/controls",
            "_view_module_version": "1.5.0",
            "_view_name": "HTMLView",
            "description": "",
            "description_tooltip": null,
            "layout": "IPY_MODEL_d8216e678b55468ba1c64e21960af378",
            "placeholder": "​",
            "style": "IPY_MODEL_67736cf3638e43f7812d4647162be63b",
            "value": " 456k/456k [00:00&lt;00:00, 16.5MB/s]"
          }
        },
        "eb47fb6c179a4cc0893fabe9dec835c7": {
          "model_module": "@jupyter-widgets/base",
          "model_name": "LayoutModel",
          "model_module_version": "1.2.0",
          "state": {
            "_model_module": "@jupyter-widgets/base",
            "_model_module_version": "1.2.0",
            "_model_name": "LayoutModel",
            "_view_count": null,
            "_view_module": "@jupyter-widgets/base",
            "_view_module_version": "1.2.0",
            "_view_name": "LayoutView",
            "align_content": null,
            "align_items": null,
            "align_self": null,
            "border": null,
            "bottom": null,
            "display": null,
            "flex": null,
            "flex_flow": null,
            "grid_area": null,
            "grid_auto_columns": null,
            "grid_auto_flow": null,
            "grid_auto_rows": null,
            "grid_column": null,
            "grid_gap": null,
            "grid_row": null,
            "grid_template_areas": null,
            "grid_template_columns": null,
            "grid_template_rows": null,
            "height": null,
            "justify_content": null,
            "justify_items": null,
            "left": null,
            "margin": null,
            "max_height": null,
            "max_width": null,
            "min_height": null,
            "min_width": null,
            "object_fit": null,
            "object_position": null,
            "order": null,
            "overflow": null,
            "overflow_x": null,
            "overflow_y": null,
            "padding": null,
            "right": null,
            "top": null,
            "visibility": null,
            "width": null
          }
        },
        "a0c6afa5756e4982a6dd5b8bf383381e": {
          "model_module": "@jupyter-widgets/base",
          "model_name": "LayoutModel",
          "model_module_version": "1.2.0",
          "state": {
            "_model_module": "@jupyter-widgets/base",
            "_model_module_version": "1.2.0",
            "_model_name": "LayoutModel",
            "_view_count": null,
            "_view_module": "@jupyter-widgets/base",
            "_view_module_version": "1.2.0",
            "_view_name": "LayoutView",
            "align_content": null,
            "align_items": null,
            "align_self": null,
            "border": null,
            "bottom": null,
            "display": null,
            "flex": null,
            "flex_flow": null,
            "grid_area": null,
            "grid_auto_columns": null,
            "grid_auto_flow": null,
            "grid_auto_rows": null,
            "grid_column": null,
            "grid_gap": null,
            "grid_row": null,
            "grid_template_areas": null,
            "grid_template_columns": null,
            "grid_template_rows": null,
            "height": null,
            "justify_content": null,
            "justify_items": null,
            "left": null,
            "margin": null,
            "max_height": null,
            "max_width": null,
            "min_height": null,
            "min_width": null,
            "object_fit": null,
            "object_position": null,
            "order": null,
            "overflow": null,
            "overflow_x": null,
            "overflow_y": null,
            "padding": null,
            "right": null,
            "top": null,
            "visibility": null,
            "width": null
          }
        },
        "7e229a9b5a224ad0a0a93c1573e2ca88": {
          "model_module": "@jupyter-widgets/controls",
          "model_name": "DescriptionStyleModel",
          "model_module_version": "1.5.0",
          "state": {
            "_model_module": "@jupyter-widgets/controls",
            "_model_module_version": "1.5.0",
            "_model_name": "DescriptionStyleModel",
            "_view_count": null,
            "_view_module": "@jupyter-widgets/base",
            "_view_module_version": "1.2.0",
            "_view_name": "StyleView",
            "description_width": ""
          }
        },
        "231dd46ca57349dd83f34790f0b272f6": {
          "model_module": "@jupyter-widgets/base",
          "model_name": "LayoutModel",
          "model_module_version": "1.2.0",
          "state": {
            "_model_module": "@jupyter-widgets/base",
            "_model_module_version": "1.2.0",
            "_model_name": "LayoutModel",
            "_view_count": null,
            "_view_module": "@jupyter-widgets/base",
            "_view_module_version": "1.2.0",
            "_view_name": "LayoutView",
            "align_content": null,
            "align_items": null,
            "align_self": null,
            "border": null,
            "bottom": null,
            "display": null,
            "flex": null,
            "flex_flow": null,
            "grid_area": null,
            "grid_auto_columns": null,
            "grid_auto_flow": null,
            "grid_auto_rows": null,
            "grid_column": null,
            "grid_gap": null,
            "grid_row": null,
            "grid_template_areas": null,
            "grid_template_columns": null,
            "grid_template_rows": null,
            "height": null,
            "justify_content": null,
            "justify_items": null,
            "left": null,
            "margin": null,
            "max_height": null,
            "max_width": null,
            "min_height": null,
            "min_width": null,
            "object_fit": null,
            "object_position": null,
            "order": null,
            "overflow": null,
            "overflow_x": null,
            "overflow_y": null,
            "padding": null,
            "right": null,
            "top": null,
            "visibility": null,
            "width": null
          }
        },
        "ef73ddc448f64a62a513f5143970392a": {
          "model_module": "@jupyter-widgets/controls",
          "model_name": "ProgressStyleModel",
          "model_module_version": "1.5.0",
          "state": {
            "_model_module": "@jupyter-widgets/controls",
            "_model_module_version": "1.5.0",
            "_model_name": "ProgressStyleModel",
            "_view_count": null,
            "_view_module": "@jupyter-widgets/base",
            "_view_module_version": "1.2.0",
            "_view_name": "StyleView",
            "bar_color": null,
            "description_width": ""
          }
        },
        "d8216e678b55468ba1c64e21960af378": {
          "model_module": "@jupyter-widgets/base",
          "model_name": "LayoutModel",
          "model_module_version": "1.2.0",
          "state": {
            "_model_module": "@jupyter-widgets/base",
            "_model_module_version": "1.2.0",
            "_model_name": "LayoutModel",
            "_view_count": null,
            "_view_module": "@jupyter-widgets/base",
            "_view_module_version": "1.2.0",
            "_view_name": "LayoutView",
            "align_content": null,
            "align_items": null,
            "align_self": null,
            "border": null,
            "bottom": null,
            "display": null,
            "flex": null,
            "flex_flow": null,
            "grid_area": null,
            "grid_auto_columns": null,
            "grid_auto_flow": null,
            "grid_auto_rows": null,
            "grid_column": null,
            "grid_gap": null,
            "grid_row": null,
            "grid_template_areas": null,
            "grid_template_columns": null,
            "grid_template_rows": null,
            "height": null,
            "justify_content": null,
            "justify_items": null,
            "left": null,
            "margin": null,
            "max_height": null,
            "max_width": null,
            "min_height": null,
            "min_width": null,
            "object_fit": null,
            "object_position": null,
            "order": null,
            "overflow": null,
            "overflow_x": null,
            "overflow_y": null,
            "padding": null,
            "right": null,
            "top": null,
            "visibility": null,
            "width": null
          }
        },
        "67736cf3638e43f7812d4647162be63b": {
          "model_module": "@jupyter-widgets/controls",
          "model_name": "DescriptionStyleModel",
          "model_module_version": "1.5.0",
          "state": {
            "_model_module": "@jupyter-widgets/controls",
            "_model_module_version": "1.5.0",
            "_model_name": "DescriptionStyleModel",
            "_view_count": null,
            "_view_module": "@jupyter-widgets/base",
            "_view_module_version": "1.2.0",
            "_view_name": "StyleView",
            "description_width": ""
          }
        },
        "c44c4de18f5b4406a84c9105096777ad": {
          "model_module": "@jupyter-widgets/controls",
          "model_name": "HBoxModel",
          "model_module_version": "1.5.0",
          "state": {
            "_dom_classes": [],
            "_model_module": "@jupyter-widgets/controls",
            "_model_module_version": "1.5.0",
            "_model_name": "HBoxModel",
            "_view_count": null,
            "_view_module": "@jupyter-widgets/controls",
            "_view_module_version": "1.5.0",
            "_view_name": "HBoxView",
            "box_style": "",
            "children": [
              "IPY_MODEL_8ebb9d6317d94db184ffad4b5b9e1639",
              "IPY_MODEL_ffeb74a2bfa34b6c8d1b60fc8dcb0a8a",
              "IPY_MODEL_61e11c4db8344103aa700d5478474897"
            ],
            "layout": "IPY_MODEL_7df3391f74864831bbffe6e1586d1933"
          }
        },
        "8ebb9d6317d94db184ffad4b5b9e1639": {
          "model_module": "@jupyter-widgets/controls",
          "model_name": "HTMLModel",
          "model_module_version": "1.5.0",
          "state": {
            "_dom_classes": [],
            "_model_module": "@jupyter-widgets/controls",
            "_model_module_version": "1.5.0",
            "_model_name": "HTMLModel",
            "_view_count": null,
            "_view_module": "@jupyter-widgets/controls",
            "_view_module_version": "1.5.0",
            "_view_name": "HTMLView",
            "description": "",
            "description_tooltip": null,
            "layout": "IPY_MODEL_52f4137b6337425cb751bdff9f882035",
            "placeholder": "​",
            "style": "IPY_MODEL_c237541fa48e4e268bc38c6e8b005d2b",
            "value": "tokenizer.json: 100%"
          }
        },
        "ffeb74a2bfa34b6c8d1b60fc8dcb0a8a": {
          "model_module": "@jupyter-widgets/controls",
          "model_name": "FloatProgressModel",
          "model_module_version": "1.5.0",
          "state": {
            "_dom_classes": [],
            "_model_module": "@jupyter-widgets/controls",
            "_model_module_version": "1.5.0",
            "_model_name": "FloatProgressModel",
            "_view_count": null,
            "_view_module": "@jupyter-widgets/controls",
            "_view_module_version": "1.5.0",
            "_view_name": "ProgressView",
            "bar_style": "success",
            "description": "",
            "description_tooltip": null,
            "layout": "IPY_MODEL_d0b3ea03a19c476f99c4435e4424a8be",
            "max": 1355863,
            "min": 0,
            "orientation": "horizontal",
            "style": "IPY_MODEL_70dfaf6e800f4ae286d21fdec2d5be01",
            "value": 1355863
          }
        },
        "61e11c4db8344103aa700d5478474897": {
          "model_module": "@jupyter-widgets/controls",
          "model_name": "HTMLModel",
          "model_module_version": "1.5.0",
          "state": {
            "_dom_classes": [],
            "_model_module": "@jupyter-widgets/controls",
            "_model_module_version": "1.5.0",
            "_model_name": "HTMLModel",
            "_view_count": null,
            "_view_module": "@jupyter-widgets/controls",
            "_view_module_version": "1.5.0",
            "_view_name": "HTMLView",
            "description": "",
            "description_tooltip": null,
            "layout": "IPY_MODEL_5c4708b6a6ad4dc3a219f732f49f94d2",
            "placeholder": "​",
            "style": "IPY_MODEL_52b34caff1b64ed2b745c8bdcb73e2c1",
            "value": " 1.36M/1.36M [00:00&lt;00:00, 13.5MB/s]"
          }
        },
        "7df3391f74864831bbffe6e1586d1933": {
          "model_module": "@jupyter-widgets/base",
          "model_name": "LayoutModel",
          "model_module_version": "1.2.0",
          "state": {
            "_model_module": "@jupyter-widgets/base",
            "_model_module_version": "1.2.0",
            "_model_name": "LayoutModel",
            "_view_count": null,
            "_view_module": "@jupyter-widgets/base",
            "_view_module_version": "1.2.0",
            "_view_name": "LayoutView",
            "align_content": null,
            "align_items": null,
            "align_self": null,
            "border": null,
            "bottom": null,
            "display": null,
            "flex": null,
            "flex_flow": null,
            "grid_area": null,
            "grid_auto_columns": null,
            "grid_auto_flow": null,
            "grid_auto_rows": null,
            "grid_column": null,
            "grid_gap": null,
            "grid_row": null,
            "grid_template_areas": null,
            "grid_template_columns": null,
            "grid_template_rows": null,
            "height": null,
            "justify_content": null,
            "justify_items": null,
            "left": null,
            "margin": null,
            "max_height": null,
            "max_width": null,
            "min_height": null,
            "min_width": null,
            "object_fit": null,
            "object_position": null,
            "order": null,
            "overflow": null,
            "overflow_x": null,
            "overflow_y": null,
            "padding": null,
            "right": null,
            "top": null,
            "visibility": null,
            "width": null
          }
        },
        "52f4137b6337425cb751bdff9f882035": {
          "model_module": "@jupyter-widgets/base",
          "model_name": "LayoutModel",
          "model_module_version": "1.2.0",
          "state": {
            "_model_module": "@jupyter-widgets/base",
            "_model_module_version": "1.2.0",
            "_model_name": "LayoutModel",
            "_view_count": null,
            "_view_module": "@jupyter-widgets/base",
            "_view_module_version": "1.2.0",
            "_view_name": "LayoutView",
            "align_content": null,
            "align_items": null,
            "align_self": null,
            "border": null,
            "bottom": null,
            "display": null,
            "flex": null,
            "flex_flow": null,
            "grid_area": null,
            "grid_auto_columns": null,
            "grid_auto_flow": null,
            "grid_auto_rows": null,
            "grid_column": null,
            "grid_gap": null,
            "grid_row": null,
            "grid_template_areas": null,
            "grid_template_columns": null,
            "grid_template_rows": null,
            "height": null,
            "justify_content": null,
            "justify_items": null,
            "left": null,
            "margin": null,
            "max_height": null,
            "max_width": null,
            "min_height": null,
            "min_width": null,
            "object_fit": null,
            "object_position": null,
            "order": null,
            "overflow": null,
            "overflow_x": null,
            "overflow_y": null,
            "padding": null,
            "right": null,
            "top": null,
            "visibility": null,
            "width": null
          }
        },
        "c237541fa48e4e268bc38c6e8b005d2b": {
          "model_module": "@jupyter-widgets/controls",
          "model_name": "DescriptionStyleModel",
          "model_module_version": "1.5.0",
          "state": {
            "_model_module": "@jupyter-widgets/controls",
            "_model_module_version": "1.5.0",
            "_model_name": "DescriptionStyleModel",
            "_view_count": null,
            "_view_module": "@jupyter-widgets/base",
            "_view_module_version": "1.2.0",
            "_view_name": "StyleView",
            "description_width": ""
          }
        },
        "d0b3ea03a19c476f99c4435e4424a8be": {
          "model_module": "@jupyter-widgets/base",
          "model_name": "LayoutModel",
          "model_module_version": "1.2.0",
          "state": {
            "_model_module": "@jupyter-widgets/base",
            "_model_module_version": "1.2.0",
            "_model_name": "LayoutModel",
            "_view_count": null,
            "_view_module": "@jupyter-widgets/base",
            "_view_module_version": "1.2.0",
            "_view_name": "LayoutView",
            "align_content": null,
            "align_items": null,
            "align_self": null,
            "border": null,
            "bottom": null,
            "display": null,
            "flex": null,
            "flex_flow": null,
            "grid_area": null,
            "grid_auto_columns": null,
            "grid_auto_flow": null,
            "grid_auto_rows": null,
            "grid_column": null,
            "grid_gap": null,
            "grid_row": null,
            "grid_template_areas": null,
            "grid_template_columns": null,
            "grid_template_rows": null,
            "height": null,
            "justify_content": null,
            "justify_items": null,
            "left": null,
            "margin": null,
            "max_height": null,
            "max_width": null,
            "min_height": null,
            "min_width": null,
            "object_fit": null,
            "object_position": null,
            "order": null,
            "overflow": null,
            "overflow_x": null,
            "overflow_y": null,
            "padding": null,
            "right": null,
            "top": null,
            "visibility": null,
            "width": null
          }
        },
        "70dfaf6e800f4ae286d21fdec2d5be01": {
          "model_module": "@jupyter-widgets/controls",
          "model_name": "ProgressStyleModel",
          "model_module_version": "1.5.0",
          "state": {
            "_model_module": "@jupyter-widgets/controls",
            "_model_module_version": "1.5.0",
            "_model_name": "ProgressStyleModel",
            "_view_count": null,
            "_view_module": "@jupyter-widgets/base",
            "_view_module_version": "1.2.0",
            "_view_name": "StyleView",
            "bar_color": null,
            "description_width": ""
          }
        },
        "5c4708b6a6ad4dc3a219f732f49f94d2": {
          "model_module": "@jupyter-widgets/base",
          "model_name": "LayoutModel",
          "model_module_version": "1.2.0",
          "state": {
            "_model_module": "@jupyter-widgets/base",
            "_model_module_version": "1.2.0",
            "_model_name": "LayoutModel",
            "_view_count": null,
            "_view_module": "@jupyter-widgets/base",
            "_view_module_version": "1.2.0",
            "_view_name": "LayoutView",
            "align_content": null,
            "align_items": null,
            "align_self": null,
            "border": null,
            "bottom": null,
            "display": null,
            "flex": null,
            "flex_flow": null,
            "grid_area": null,
            "grid_auto_columns": null,
            "grid_auto_flow": null,
            "grid_auto_rows": null,
            "grid_column": null,
            "grid_gap": null,
            "grid_row": null,
            "grid_template_areas": null,
            "grid_template_columns": null,
            "grid_template_rows": null,
            "height": null,
            "justify_content": null,
            "justify_items": null,
            "left": null,
            "margin": null,
            "max_height": null,
            "max_width": null,
            "min_height": null,
            "min_width": null,
            "object_fit": null,
            "object_position": null,
            "order": null,
            "overflow": null,
            "overflow_x": null,
            "overflow_y": null,
            "padding": null,
            "right": null,
            "top": null,
            "visibility": null,
            "width": null
          }
        },
        "52b34caff1b64ed2b745c8bdcb73e2c1": {
          "model_module": "@jupyter-widgets/controls",
          "model_name": "DescriptionStyleModel",
          "model_module_version": "1.5.0",
          "state": {
            "_model_module": "@jupyter-widgets/controls",
            "_model_module_version": "1.5.0",
            "_model_name": "DescriptionStyleModel",
            "_view_count": null,
            "_view_module": "@jupyter-widgets/base",
            "_view_module_version": "1.2.0",
            "_view_name": "StyleView",
            "description_width": ""
          }
        }
      }
    }
  },
  "cells": [
    {
      "cell_type": "markdown",
      "source": [
        "# Part 1: Analysis of Ground Truth Data\n",
        "\n",
        "# This script performs an analysis of the ground truth data, processes it by dropping irrelevant columns,\n",
        "# and deduces the majority vote for each question per creative data ID. The final deduced data is saved for further use.\n"
      ],
      "metadata": {
        "id": "pBYj0YttOs2Z"
      }
    },
    {
      "cell_type": "code",
      "execution_count": 2,
      "metadata": {
        "id": "7TVUd0IVgS70"
      },
      "outputs": [],
      "source": [
        "import pandas as pd\n"
      ]
    },
    {
      "cell_type": "code",
      "source": [
        "# Load the text data from the CSV file\n",
        "text_data = pd.read_csv('Sample.csv')"
      ],
      "metadata": {
        "id": "3Rd1sUvchFAA"
      },
      "execution_count": 3,
      "outputs": []
    },
    {
      "cell_type": "code",
      "source": [
        "# Check for any missing values in the text data\n",
        "text_data.isnull().sum()"
      ],
      "metadata": {
        "colab": {
          "base_uri": "https://localhost:8080/"
        },
        "id": "T9jMtdRdhNr-",
        "outputId": "b5b882f5-8dbe-4a40-a675-353930de09d5"
      },
      "execution_count": 4,
      "outputs": [
        {
          "output_type": "execute_result",
          "data": {
            "text/plain": [
              "creative_data_id                          0\n",
              "creative_data_title                       0\n",
              "creative_data_description                 0\n",
              "creative_data_duration                    0\n",
              "creative_data_lifetime_spend_estimated    0\n",
              "creative_data_lifetime_airings_count      0\n",
              "creative_data_airing_date_first_et        0\n",
              "creative_data_airing_date_last_et         0\n",
              "speech                                    0\n",
              "dtype: int64"
            ]
          },
          "metadata": {},
          "execution_count": 4
        }
      ]
    },
    {
      "cell_type": "code",
      "source": [
        "# Load the ground truth data from the CSV file\n",
        "ground_truth = pd.read_csv('groundtruth.csv')"
      ],
      "metadata": {
        "id": "S1JBQtOjhfn9"
      },
      "execution_count": 5,
      "outputs": []
    },
    {
      "cell_type": "code",
      "source": [
        "# Check for any missing values in the ground truth data\n",
        "ground_truth.isnull().sum()"
      ],
      "metadata": {
        "colab": {
          "base_uri": "https://localhost:8080/"
        },
        "id": "k_vc0kW-hnk_",
        "outputId": "0b401229-4b05-48fe-9b4a-aa8afb3cdeac"
      },
      "execution_count": 6,
      "outputs": [
        {
          "output_type": "execute_result",
          "data": {
            "text/plain": [
              "Timestamp                                                                                                                                                                                                                                                                                                                                                                                                                                                                                                                                                         0\n",
              "creative_data_id                                                                                                                                                                                                                                                                                                                                                                                                                                                                                                                                                  0\n",
              "Is there a call to go online (e.g., shop online, visit the Web)?                                                                                                                                                                                                                                                                                                                                                                                                                                                                                                  0\n",
              "Is there online contact information provided (e.g., URL, website)?                                                                                                                                                                                                                                                                                                                                                                                                                                                                                                0\n",
              "Is there a visual or verbal call to purchase (e.g., buy now, order now)?                                                                                                                                                                                                                                                                                                                                                                                                                                                                                          0\n",
              "Does the ad portray a sense of urgency to act (e.g., buy before sales ends, order before ends)?                                                                                                                                                                                                                                                                                                                                                                                                                                                                   0\n",
              "Is there an incentive to buy (e.g., a discount, a coupon, a sale or \"limited time offer\")?                                                                                                                                                                                                                                                                                                                                                                                                                                                                        0\n",
              "Is there offline contact information provided (e.g., phone, mail, store location)?                                                                                                                                                                                                                                                                                                                                                                                                                                                                                0\n",
              "Is there mention of something free?                                                                                                                                                                                                                                                                                                                                                                                                                                                                                                                               0\n",
              "Does the ad mention at least one specific product or service (e.g., model, type, item)?                                                                                                                                                                                                                                                                                                                                                                                                                                                                           0\n",
              "Is there any verbal or visual mention of the price?                                                                                                                                                                                                                                                                                                                                                                                                                                                                                                               0\n",
              "Does the ad show the brand (logo, brand name) or trademark (something that most people know is the brand) multiple times?\\n\\nFor example, Nike ads often have the \"swoosh\" logo prominently displayed on shoes and apparel worn by celebrity athletes. The \"Just Do It\" slogan is another Nike trademark frequently included.                                                                                                                                                                                                                                     0\n",
              "Does the ad show the brand or trademark exactly once at the end of the ad?                                                                                                                                                                                                                                                                                                                                                                                                                                                                                        0\n",
              "Is the ad intended to affect the viewer emotionally, either with positive emotion (fun, joy), negative emotion (sad, anxious) or another type of emotion? (Note: You may not personally agree, but assess if that was the intention.)                                                                                                                                                                                                                                                                                                                             0\n",
              "If \"yes\" to the above, which of the following emotions is closest to the emotion that the ad was intending the viewer to feel? (Select all that apply.)                                                                                                                                                                                                                                                                                                                                                                                                          85\n",
              "If yes to the above, did the ad successfully affect you emotionally, as intended?                                                                                                                                                                                                                                                                                                                                                                                                                                                                                90\n",
              "Does the ad give you a positive feeling about the brand?                                                                                                                                                                                                                                                                                                                                                                                                                                                                                                          0\n",
              "Does the ad have a story arc, with a beginning and an end?                                                                                                                                                                                                                                                                                                                                                                                                                                                                                                        0\n",
              "Does the ad have a reversal of fortune, where something changes for the better, or changes for the worse?                                                                                                                                                                                                                                                                                                                                                                                                                                                         0\n",
              "Does the ad have relatable characters?                                                                                                                                                                                                                                                                                                                                                                                                                                                                                                                            0\n",
              "Is the ad creative/clever?                                                                                                                                                                                                                                                                                                                                                                                                                                                                                                                                        0\n",
              "Is the ad intended to be funny? (Note: You may not personally agree, but assess if that was the intention.)                                                                                                                                                                                                                                                                                                                                                                                                                                                       0\n",
              "If yes to the above, was the ad successfully funny, as intended?                                                                                                                                                                                                                                                                                                                                                                                                                                                                                                345\n",
              "Does this ad provide sensory stimulation (e.g., cool visuals, arousing music, mouth-watering)?                                                                                                                                                                                                                                                                                                                                                                                                                                                                    0\n",
              "Is the ad visually pleasing?                                                                                                                                                                                                                                                                                                                                                                                                                                                                                                                                      0\n",
              "Does the ad have cute elements like animals, babies, animated, characters, etc?                                                                                                                                                                                                                                                                                                                                                                                                                                                                                   0\n",
              "Was there a famous person in this ad?                                                                                                                                                                                                                                                                                                                                                                                                                                                                                                                             0\n",
              "If yes to the above, write the name of the famous person, if known.                                                                                                                                                                                                                                                                                                                                                                                                                                                                                             320\n",
              "What happened in this ad? (Answer in 2-3 sentences each)                                                                                                                                                                                                                                                                                                                                                                                                                                                                                                          0\n",
              "What was/were the company's goal(s) with this ad? Choose (potentially multiple) from:                                                                                                                                                                                                                                                                                                                                                                                                                                                                             0\n",
              "How successful was the ad in achieving its goal(s)?                                                                                                                                                                                                                                                                                                                                                                                                                                                                                                               0\n",
              "How much did you like the ad? (1. Strongly dislike, 2. Dislike, 3. Neither Like or Dislike, 4. Like, 5. Strongly Like)                                                                                                                                                                                                                                                                                                                                                                                                                                            0\n",
              "What was the slogan presented in the ad, if any?                                                                                                                                                                                                                                                                                                                                                                                                                                                                                                                132\n",
              "After addressing the specific survey items, write a general description of the ad. You can use answers to the questions above to formulate your answer. Your description should include:\\nBrand and Product Identification: \\nSpecify the brand and whether a product is being advertised. (1 sentence)\\nVisual Elements: Describe what is seen on the screen, including setting, characters, and any text or graphics. (max 2 sentences)\\nAuditory Elements: Note what is heard, such as dialogue, voice-over, music, or sound effects. (max 2 sentences)\\n      0\n",
              "Any additional feedback or things we should be aware of?                                                                                                                                                                                                                                                                                                                                                                                                                                                                                                        276\n",
              "Please enter the video identifier one more time (e.g. 123456789.mp4)                                                                                                                                                                                                                                                                                                                                                                                                                                                                                              1\n",
              "dtype: int64"
            ]
          },
          "metadata": {},
          "execution_count": 6
        }
      ]
    },
    {
      "cell_type": "code",
      "source": [
        "# Check the distribution of values in a specific column of the ground truth data\n",
        "ground_truth['If yes to the above, did the ad successfully affect you emotionally, as intended?'].value_counts()"
      ],
      "metadata": {
        "colab": {
          "base_uri": "https://localhost:8080/"
        },
        "id": "pIzjq5LahypF",
        "outputId": "d851a488-3419-485d-fd26-20453971c7a3"
      },
      "execution_count": 7,
      "outputs": [
        {
          "output_type": "execute_result",
          "data": {
            "text/plain": [
              "If yes to the above, did the ad successfully affect you emotionally, as intended?\n",
              "Yes    211\n",
              "No     148\n",
              "Name: count, dtype: int64"
            ]
          },
          "metadata": {},
          "execution_count": 7
        }
      ]
    },
    {
      "cell_type": "code",
      "source": [
        "# Define a fill value for missing data (though it isn't used in the code snippet)\n",
        "fill_value = 'N/A'"
      ],
      "metadata": {
        "id": "hqH0Cd5yiL8n"
      },
      "execution_count": 8,
      "outputs": []
    },
    {
      "cell_type": "code",
      "source": [
        "# Print the shape (number of rows and columns) of the ground truth DataFrame\n",
        "ground_truth.shape"
      ],
      "metadata": {
        "colab": {
          "base_uri": "https://localhost:8080/"
        },
        "id": "XUqnK5gqkX8-",
        "outputId": "78908475-941f-4cdc-d801-0bef595dd086"
      },
      "execution_count": 9,
      "outputs": [
        {
          "output_type": "execute_result",
          "data": {
            "text/plain": [
              "(449, 36)"
            ]
          },
          "metadata": {},
          "execution_count": 9
        }
      ]
    },
    {
      "cell_type": "code",
      "source": [
        "# Print the column names of the ground truth DataFrame\n",
        "ground_truth.columns"
      ],
      "metadata": {
        "colab": {
          "base_uri": "https://localhost:8080/"
        },
        "id": "t3KA9Vz-xca1",
        "outputId": "712dec98-0c5a-4ea2-bdda-88c65644fdeb"
      },
      "execution_count": 10,
      "outputs": [
        {
          "output_type": "execute_result",
          "data": {
            "text/plain": [
              "Index(['Timestamp', 'creative_data_id',\n",
              "       'Is there a call to go online (e.g., shop online, visit the Web)? ',\n",
              "       'Is there online contact information provided (e.g., URL, website)? ',\n",
              "       'Is there a visual or verbal call to purchase (e.g., buy now, order now)?',\n",
              "       'Does the ad portray a sense of urgency to act (e.g., buy before sales ends, order before ends)? ',\n",
              "       'Is there an incentive to buy (e.g., a discount, a coupon, a sale or \"limited time offer\")? ',\n",
              "       'Is there offline contact information provided (e.g., phone, mail, store location)?',\n",
              "       'Is there mention of something free? ',\n",
              "       'Does the ad mention at least one specific product or service (e.g., model, type, item)? ',\n",
              "       'Is there any verbal or visual mention of the price?',\n",
              "       'Does the ad show the brand (logo, brand name) or trademark (something that most people know is the brand) multiple times?\\n\\nFor example, Nike ads often have the \"swoosh\" logo prominently displayed on shoes and apparel worn by celebrity athletes. The \"Just Do It\" slogan is another Nike trademark frequently included.',\n",
              "       'Does the ad show the brand or trademark exactly once at the end of the ad?',\n",
              "       'Is the ad intended to affect the viewer emotionally, either with positive emotion (fun, joy), negative emotion (sad, anxious) or another type of emotion? (Note: You may not personally agree, but assess if that was the intention.)',\n",
              "       'If \"yes\" to the above, which of the following emotions is closest to the emotion that the ad was intending the viewer to feel? (Select all that apply.)',\n",
              "       'If yes to the above, did the ad successfully affect you emotionally, as intended?',\n",
              "       'Does the ad give you a positive feeling about the brand? ',\n",
              "       'Does the ad have a story arc, with a beginning and an end? ',\n",
              "       'Does the ad have a reversal of fortune, where something changes for the better, or changes for the worse?',\n",
              "       'Does the ad have relatable characters? ', 'Is the ad creative/clever?',\n",
              "       'Is the ad intended to be funny? (Note: You may not personally agree, but assess if that was the intention.) ',\n",
              "       'If yes to the above, was the ad successfully funny, as intended?',\n",
              "       'Does this ad provide sensory stimulation (e.g., cool visuals, arousing music, mouth-watering)? ',\n",
              "       'Is the ad visually pleasing?',\n",
              "       'Does the ad have cute elements like animals, babies, animated, characters, etc?',\n",
              "       'Was there a famous person in this ad? ',\n",
              "       'If yes to the above, write the name of the famous person, if known.',\n",
              "       'What happened in this ad? (Answer in 2-3 sentences each)',\n",
              "       'What was/were the company's goal(s) with this ad? Choose (potentially multiple) from:',\n",
              "       'How successful was the ad in achieving its goal(s)?',\n",
              "       'How much did you like the ad? (1. Strongly dislike, 2. Dislike, 3. Neither Like or Dislike, 4. Like, 5. Strongly Like)',\n",
              "       'What was the slogan presented in the ad, if any?',\n",
              "       'After addressing the specific survey items, write a general description of the ad. You can use answers to the questions above to formulate your answer. Your description should include:\\nBrand and Product Identification: \\nSpecify the brand and whether a product is being advertised. (1 sentence)\\nVisual Elements: Describe what is seen on the screen, including setting, characters, and any text or graphics. (max 2 sentences)\\nAuditory Elements: Note what is heard, such as dialogue, voice-over, music, or sound effects. (max 2 sentences)\\n',\n",
              "       'Any additional feedback or things we should be aware of? ',\n",
              "       'Please enter the video identifier one more time (e.g. 123456789.mp4)'],\n",
              "      dtype='object')"
            ]
          },
          "metadata": {},
          "execution_count": 10
        }
      ]
    },
    {
      "cell_type": "code",
      "source": [
        "# Check the distribution of values in the 'creative_data_id' column\n",
        "ground_truth['creative_data_id'].value_counts()"
      ],
      "metadata": {
        "colab": {
          "base_uri": "https://localhost:8080/"
        },
        "id": "ae7eG6e1xwTc",
        "outputId": "5703cee8-6e15-4f76-8fa3-d4061536502e"
      },
      "execution_count": 11,
      "outputs": [
        {
          "output_type": "execute_result",
          "data": {
            "text/plain": [
              "creative_data_id\n",
              "2953810    4\n",
              "1641167    4\n",
              "1776082    4\n",
              "1683011    4\n",
              "1671240    4\n",
              "          ..\n",
              "1744482    2\n",
              "3312710    2\n",
              "1788954    2\n",
              "2612386    2\n",
              "1471363    2\n",
              "Name: count, Length: 150, dtype: int64"
            ]
          },
          "metadata": {},
          "execution_count": 11
        }
      ]
    },
    {
      "cell_type": "code",
      "source": [
        "# Display rows in the ground truth data where 'creative_data_id' is 2953810\n",
        "ground_truth[ground_truth['creative_data_id'] == 2953810]"
      ],
      "metadata": {
        "colab": {
          "base_uri": "https://localhost:8080/",
          "height": 1000
        },
        "id": "2NirYUL2x2R-",
        "outputId": "3392eee0-7362-458c-94f8-2533dfcd6896"
      },
      "execution_count": 12,
      "outputs": [
        {
          "output_type": "execute_result",
          "data": {
            "text/plain": [
              "              Timestamp  creative_data_id  \\\n",
              "342   5/21/2024 1:57:27           2953810   \n",
              "343   5/21/2024 2:03:29           2953810   \n",
              "344  5/24/2024 16:28:24           2953810   \n",
              "345   5/28/2024 2:25:01           2953810   \n",
              "\n",
              "    Is there a call to go online (e.g., shop online, visit the Web)?   \\\n",
              "342                                                Yes                  \n",
              "343                                                 No                  \n",
              "344                                                 No                  \n",
              "345                                                 No                  \n",
              "\n",
              "    Is there online contact information provided (e.g., URL, website)?   \\\n",
              "342                                                Yes                    \n",
              "343                                                 No                    \n",
              "344                                                Yes                    \n",
              "345                                                Yes                    \n",
              "\n",
              "    Is there a visual or verbal call to purchase (e.g., buy now, order now)?  \\\n",
              "342                                                Yes                         \n",
              "343                                                 No                         \n",
              "344                                                Yes                         \n",
              "345                                                Yes                         \n",
              "\n",
              "    Does the ad portray a sense of urgency to act (e.g., buy before sales ends, order before ends)?   \\\n",
              "342                                                Yes                                                 \n",
              "343                                                 No                                                 \n",
              "344                                                Yes                                                 \n",
              "345                                                Yes                                                 \n",
              "\n",
              "    Is there an incentive to buy (e.g., a discount, a coupon, a sale or \"limited time offer\")?   \\\n",
              "342                                                Yes                                            \n",
              "343                                                 No                                            \n",
              "344                                                 No                                            \n",
              "345                                                Yes                                            \n",
              "\n",
              "    Is there offline contact information provided (e.g., phone, mail, store location)?  \\\n",
              "342                                                Yes                                   \n",
              "343                                                 No                                   \n",
              "344                                                 No                                   \n",
              "345                                                Yes                                   \n",
              "\n",
              "    Is there mention of something free?   \\\n",
              "342                                   No   \n",
              "343                                   No   \n",
              "344                                   No   \n",
              "345                                   No   \n",
              "\n",
              "    Does the ad mention at least one specific product or service (e.g., model, type, item)?   \\\n",
              "342                                                Yes                                         \n",
              "343                                                Yes                                         \n",
              "344                                                 No                                         \n",
              "345                                                Yes                                         \n",
              "\n",
              "     ... Was there a famous person in this ad?   \\\n",
              "342  ...                                     No   \n",
              "343  ...                                     No   \n",
              "344  ...                                     No   \n",
              "345  ...                                     No   \n",
              "\n",
              "    If yes to the above, write the name of the famous person, if known.  \\\n",
              "342                                                NaN                    \n",
              "343                                                NaN                    \n",
              "344                                                 na                    \n",
              "345                                                NaN                    \n",
              "\n",
              "    What happened in this ad? (Answer in 2-3 sentences each)  \\\n",
              "342  You follow multiple people using Ford vehicles...         \n",
              "343  We follow a couple and they are trying to find...         \n",
              "344  In this ad, a voice over talks about the ford ...         \n",
              "345  Ford is offering a Return plan where the buyer...         \n",
              "\n",
              "    What was/were the company's goal(s) with this ad? Choose (potentially multiple) from:  \\\n",
              "342  Increase awareness of product/brand, Change wh...                                      \n",
              "343  Increase awareness of product/brand, Directly ...                                      \n",
              "344                Increase awareness of product/brand                                      \n",
              "345  Increase awareness of product/brand, Directly ...                                      \n",
              "\n",
              "    How successful was the ad in achieving its goal(s)?  \\\n",
              "342                                                  3    \n",
              "343                                                  3    \n",
              "344                                                  5    \n",
              "345                                                  4    \n",
              "\n",
              "    How much did you like the ad? (1. Strongly dislike, 2. Dislike, 3. Neither Like or Dislike, 4. Like, 5. Strongly Like)  \\\n",
              "342                                                  3                                                                       \n",
              "343                                                  3                                                                       \n",
              "344                                                  4                                                                       \n",
              "345                                                  4                                                                       \n",
              "\n",
              "    What was the slogan presented in the ad, if any?  \\\n",
              "342                                              NaN   \n",
              "343                                               no   \n",
              "344                                               na   \n",
              "345                                              NaN   \n",
              "\n",
              "    After addressing the specific survey items, write a general description of the ad. You can use answers to the questions above to formulate your answer. Your description should include:\\nBrand and Product Identification: \\nSpecify the brand and whether a product is being advertised. (1 sentence)\\nVisual Elements: Describe what is seen on the screen, including setting, characters, and any text or graphics. (max 2 sentences)\\nAuditory Elements: Note what is heard, such as dialogue, voice-over, music, or sound effects. (max 2 sentences)\\n  \\\n",
              "342  Ford is advertising their Ford Promise. We see...                                                                                                                                                                                                                                                                                                                                                                                                                                                                                                             \n",
              "343  Nissan is advertising their 2021 model. You wa...                                                                                                                                                                                                                                                                                                                                                                                                                                                                                                             \n",
              "344  The brand is ford. In this ad, a voice over ta...                                                                                                                                                                                                                                                                                                                                                                                                                                                                                                             \n",
              "345  The brand is Ford and there is a product being...                                                                                                                                                                                                                                                                                                                                                                                                                                                                                                             \n",
              "\n",
              "    Any additional feedback or things we should be aware of?   \\\n",
              "342                                                NaN          \n",
              "343                                                NaN          \n",
              "344                                                 na          \n",
              "345                                                NaN          \n",
              "\n",
              "    Please enter the video identifier one more time (e.g. 123456789.mp4)  \n",
              "342                                        2953810.mp4                    \n",
              "343                                        2953810.mp4                    \n",
              "344                                        2953810.mp4                    \n",
              "345                                        2953810.mp4                    \n",
              "\n",
              "[4 rows x 36 columns]"
            ],
            "text/html": [
              "\n",
              "  <div id=\"df-586525a3-d6a6-4d24-891f-015290493849\" class=\"colab-df-container\">\n",
              "    <div>\n",
              "<style scoped>\n",
              "    .dataframe tbody tr th:only-of-type {\n",
              "        vertical-align: middle;\n",
              "    }\n",
              "\n",
              "    .dataframe tbody tr th {\n",
              "        vertical-align: top;\n",
              "    }\n",
              "\n",
              "    .dataframe thead th {\n",
              "        text-align: right;\n",
              "    }\n",
              "</style>\n",
              "<table border=\"1\" class=\"dataframe\">\n",
              "  <thead>\n",
              "    <tr style=\"text-align: right;\">\n",
              "      <th></th>\n",
              "      <th>Timestamp</th>\n",
              "      <th>creative_data_id</th>\n",
              "      <th>Is there a call to go online (e.g., shop online, visit the Web)?</th>\n",
              "      <th>Is there online contact information provided (e.g., URL, website)?</th>\n",
              "      <th>Is there a visual or verbal call to purchase (e.g., buy now, order now)?</th>\n",
              "      <th>Does the ad portray a sense of urgency to act (e.g., buy before sales ends, order before ends)?</th>\n",
              "      <th>Is there an incentive to buy (e.g., a discount, a coupon, a sale or \"limited time offer\")?</th>\n",
              "      <th>Is there offline contact information provided (e.g., phone, mail, store location)?</th>\n",
              "      <th>Is there mention of something free?</th>\n",
              "      <th>Does the ad mention at least one specific product or service (e.g., model, type, item)?</th>\n",
              "      <th>...</th>\n",
              "      <th>Was there a famous person in this ad?</th>\n",
              "      <th>If yes to the above, write the name of the famous person, if known.</th>\n",
              "      <th>What happened in this ad? (Answer in 2-3 sentences each)</th>\n",
              "      <th>What was/were the company's goal(s) with this ad? Choose (potentially multiple) from:</th>\n",
              "      <th>How successful was the ad in achieving its goal(s)?</th>\n",
              "      <th>How much did you like the ad? (1. Strongly dislike, 2. Dislike, 3. Neither Like or Dislike, 4. Like, 5. Strongly Like)</th>\n",
              "      <th>What was the slogan presented in the ad, if any?</th>\n",
              "      <th>After addressing the specific survey items, write a general description of the ad. You can use answers to the questions above to formulate your answer. Your description should include:\\nBrand and Product Identification: \\nSpecify the brand and whether a product is being advertised. (1 sentence)\\nVisual Elements: Describe what is seen on the screen, including setting, characters, and any text or graphics. (max 2 sentences)\\nAuditory Elements: Note what is heard, such as dialogue, voice-over, music, or sound effects. (max 2 sentences)\\n</th>\n",
              "      <th>Any additional feedback or things we should be aware of?</th>\n",
              "      <th>Please enter the video identifier one more time (e.g. 123456789.mp4)</th>\n",
              "    </tr>\n",
              "  </thead>\n",
              "  <tbody>\n",
              "    <tr>\n",
              "      <th>342</th>\n",
              "      <td>5/21/2024 1:57:27</td>\n",
              "      <td>2953810</td>\n",
              "      <td>Yes</td>\n",
              "      <td>Yes</td>\n",
              "      <td>Yes</td>\n",
              "      <td>Yes</td>\n",
              "      <td>Yes</td>\n",
              "      <td>Yes</td>\n",
              "      <td>No</td>\n",
              "      <td>Yes</td>\n",
              "      <td>...</td>\n",
              "      <td>No</td>\n",
              "      <td>NaN</td>\n",
              "      <td>You follow multiple people using Ford vehicles...</td>\n",
              "      <td>Increase awareness of product/brand, Change wh...</td>\n",
              "      <td>3</td>\n",
              "      <td>3</td>\n",
              "      <td>NaN</td>\n",
              "      <td>Ford is advertising their Ford Promise. We see...</td>\n",
              "      <td>NaN</td>\n",
              "      <td>2953810.mp4</td>\n",
              "    </tr>\n",
              "    <tr>\n",
              "      <th>343</th>\n",
              "      <td>5/21/2024 2:03:29</td>\n",
              "      <td>2953810</td>\n",
              "      <td>No</td>\n",
              "      <td>No</td>\n",
              "      <td>No</td>\n",
              "      <td>No</td>\n",
              "      <td>No</td>\n",
              "      <td>No</td>\n",
              "      <td>No</td>\n",
              "      <td>Yes</td>\n",
              "      <td>...</td>\n",
              "      <td>No</td>\n",
              "      <td>NaN</td>\n",
              "      <td>We follow a couple and they are trying to find...</td>\n",
              "      <td>Increase awareness of product/brand, Directly ...</td>\n",
              "      <td>3</td>\n",
              "      <td>3</td>\n",
              "      <td>no</td>\n",
              "      <td>Nissan is advertising their 2021 model. You wa...</td>\n",
              "      <td>NaN</td>\n",
              "      <td>2953810.mp4</td>\n",
              "    </tr>\n",
              "    <tr>\n",
              "      <th>344</th>\n",
              "      <td>5/24/2024 16:28:24</td>\n",
              "      <td>2953810</td>\n",
              "      <td>No</td>\n",
              "      <td>Yes</td>\n",
              "      <td>Yes</td>\n",
              "      <td>Yes</td>\n",
              "      <td>No</td>\n",
              "      <td>No</td>\n",
              "      <td>No</td>\n",
              "      <td>No</td>\n",
              "      <td>...</td>\n",
              "      <td>No</td>\n",
              "      <td>na</td>\n",
              "      <td>In this ad, a voice over talks about the ford ...</td>\n",
              "      <td>Increase awareness of product/brand</td>\n",
              "      <td>5</td>\n",
              "      <td>4</td>\n",
              "      <td>na</td>\n",
              "      <td>The brand is ford. In this ad, a voice over ta...</td>\n",
              "      <td>na</td>\n",
              "      <td>2953810.mp4</td>\n",
              "    </tr>\n",
              "    <tr>\n",
              "      <th>345</th>\n",
              "      <td>5/28/2024 2:25:01</td>\n",
              "      <td>2953810</td>\n",
              "      <td>No</td>\n",
              "      <td>Yes</td>\n",
              "      <td>Yes</td>\n",
              "      <td>Yes</td>\n",
              "      <td>Yes</td>\n",
              "      <td>Yes</td>\n",
              "      <td>No</td>\n",
              "      <td>Yes</td>\n",
              "      <td>...</td>\n",
              "      <td>No</td>\n",
              "      <td>NaN</td>\n",
              "      <td>Ford is offering a Return plan where the buyer...</td>\n",
              "      <td>Increase awareness of product/brand, Directly ...</td>\n",
              "      <td>4</td>\n",
              "      <td>4</td>\n",
              "      <td>NaN</td>\n",
              "      <td>The brand is Ford and there is a product being...</td>\n",
              "      <td>NaN</td>\n",
              "      <td>2953810.mp4</td>\n",
              "    </tr>\n",
              "  </tbody>\n",
              "</table>\n",
              "<p>4 rows × 36 columns</p>\n",
              "</div>\n",
              "    <div class=\"colab-df-buttons\">\n",
              "\n",
              "  <div class=\"colab-df-container\">\n",
              "    <button class=\"colab-df-convert\" onclick=\"convertToInteractive('df-586525a3-d6a6-4d24-891f-015290493849')\"\n",
              "            title=\"Convert this dataframe to an interactive table.\"\n",
              "            style=\"display:none;\">\n",
              "\n",
              "  <svg xmlns=\"http://www.w3.org/2000/svg\" height=\"24px\" viewBox=\"0 -960 960 960\">\n",
              "    <path d=\"M120-120v-720h720v720H120Zm60-500h600v-160H180v160Zm220 220h160v-160H400v160Zm0 220h160v-160H400v160ZM180-400h160v-160H180v160Zm440 0h160v-160H620v160ZM180-180h160v-160H180v160Zm440 0h160v-160H620v160Z\"/>\n",
              "  </svg>\n",
              "    </button>\n",
              "\n",
              "  <style>\n",
              "    .colab-df-container {\n",
              "      display:flex;\n",
              "      gap: 12px;\n",
              "    }\n",
              "\n",
              "    .colab-df-convert {\n",
              "      background-color: #E8F0FE;\n",
              "      border: none;\n",
              "      border-radius: 50%;\n",
              "      cursor: pointer;\n",
              "      display: none;\n",
              "      fill: #1967D2;\n",
              "      height: 32px;\n",
              "      padding: 0 0 0 0;\n",
              "      width: 32px;\n",
              "    }\n",
              "\n",
              "    .colab-df-convert:hover {\n",
              "      background-color: #E2EBFA;\n",
              "      box-shadow: 0px 1px 2px rgba(60, 64, 67, 0.3), 0px 1px 3px 1px rgba(60, 64, 67, 0.15);\n",
              "      fill: #174EA6;\n",
              "    }\n",
              "\n",
              "    .colab-df-buttons div {\n",
              "      margin-bottom: 4px;\n",
              "    }\n",
              "\n",
              "    [theme=dark] .colab-df-convert {\n",
              "      background-color: #3B4455;\n",
              "      fill: #D2E3FC;\n",
              "    }\n",
              "\n",
              "    [theme=dark] .colab-df-convert:hover {\n",
              "      background-color: #434B5C;\n",
              "      box-shadow: 0px 1px 3px 1px rgba(0, 0, 0, 0.15);\n",
              "      filter: drop-shadow(0px 1px 2px rgba(0, 0, 0, 0.3));\n",
              "      fill: #FFFFFF;\n",
              "    }\n",
              "  </style>\n",
              "\n",
              "    <script>\n",
              "      const buttonEl =\n",
              "        document.querySelector('#df-586525a3-d6a6-4d24-891f-015290493849 button.colab-df-convert');\n",
              "      buttonEl.style.display =\n",
              "        google.colab.kernel.accessAllowed ? 'block' : 'none';\n",
              "\n",
              "      async function convertToInteractive(key) {\n",
              "        const element = document.querySelector('#df-586525a3-d6a6-4d24-891f-015290493849');\n",
              "        const dataTable =\n",
              "          await google.colab.kernel.invokeFunction('convertToInteractive',\n",
              "                                                    [key], {});\n",
              "        if (!dataTable) return;\n",
              "\n",
              "        const docLinkHtml = 'Like what you see? Visit the ' +\n",
              "          '<a target=\"_blank\" href=https://colab.research.google.com/notebooks/data_table.ipynb>data table notebook</a>'\n",
              "          + ' to learn more about interactive tables.';\n",
              "        element.innerHTML = '';\n",
              "        dataTable['output_type'] = 'display_data';\n",
              "        await google.colab.output.renderOutput(dataTable, element);\n",
              "        const docLink = document.createElement('div');\n",
              "        docLink.innerHTML = docLinkHtml;\n",
              "        element.appendChild(docLink);\n",
              "      }\n",
              "    </script>\n",
              "  </div>\n",
              "\n",
              "\n",
              "<div id=\"df-cc493daf-d892-4614-8e8d-269314b306d2\">\n",
              "  <button class=\"colab-df-quickchart\" onclick=\"quickchart('df-cc493daf-d892-4614-8e8d-269314b306d2')\"\n",
              "            title=\"Suggest charts\"\n",
              "            style=\"display:none;\">\n",
              "\n",
              "<svg xmlns=\"http://www.w3.org/2000/svg\" height=\"24px\"viewBox=\"0 0 24 24\"\n",
              "     width=\"24px\">\n",
              "    <g>\n",
              "        <path d=\"M19 3H5c-1.1 0-2 .9-2 2v14c0 1.1.9 2 2 2h14c1.1 0 2-.9 2-2V5c0-1.1-.9-2-2-2zM9 17H7v-7h2v7zm4 0h-2V7h2v10zm4 0h-2v-4h2v4z\"/>\n",
              "    </g>\n",
              "</svg>\n",
              "  </button>\n",
              "\n",
              "<style>\n",
              "  .colab-df-quickchart {\n",
              "      --bg-color: #E8F0FE;\n",
              "      --fill-color: #1967D2;\n",
              "      --hover-bg-color: #E2EBFA;\n",
              "      --hover-fill-color: #174EA6;\n",
              "      --disabled-fill-color: #AAA;\n",
              "      --disabled-bg-color: #DDD;\n",
              "  }\n",
              "\n",
              "  [theme=dark] .colab-df-quickchart {\n",
              "      --bg-color: #3B4455;\n",
              "      --fill-color: #D2E3FC;\n",
              "      --hover-bg-color: #434B5C;\n",
              "      --hover-fill-color: #FFFFFF;\n",
              "      --disabled-bg-color: #3B4455;\n",
              "      --disabled-fill-color: #666;\n",
              "  }\n",
              "\n",
              "  .colab-df-quickchart {\n",
              "    background-color: var(--bg-color);\n",
              "    border: none;\n",
              "    border-radius: 50%;\n",
              "    cursor: pointer;\n",
              "    display: none;\n",
              "    fill: var(--fill-color);\n",
              "    height: 32px;\n",
              "    padding: 0;\n",
              "    width: 32px;\n",
              "  }\n",
              "\n",
              "  .colab-df-quickchart:hover {\n",
              "    background-color: var(--hover-bg-color);\n",
              "    box-shadow: 0 1px 2px rgba(60, 64, 67, 0.3), 0 1px 3px 1px rgba(60, 64, 67, 0.15);\n",
              "    fill: var(--button-hover-fill-color);\n",
              "  }\n",
              "\n",
              "  .colab-df-quickchart-complete:disabled,\n",
              "  .colab-df-quickchart-complete:disabled:hover {\n",
              "    background-color: var(--disabled-bg-color);\n",
              "    fill: var(--disabled-fill-color);\n",
              "    box-shadow: none;\n",
              "  }\n",
              "\n",
              "  .colab-df-spinner {\n",
              "    border: 2px solid var(--fill-color);\n",
              "    border-color: transparent;\n",
              "    border-bottom-color: var(--fill-color);\n",
              "    animation:\n",
              "      spin 1s steps(1) infinite;\n",
              "  }\n",
              "\n",
              "  @keyframes spin {\n",
              "    0% {\n",
              "      border-color: transparent;\n",
              "      border-bottom-color: var(--fill-color);\n",
              "      border-left-color: var(--fill-color);\n",
              "    }\n",
              "    20% {\n",
              "      border-color: transparent;\n",
              "      border-left-color: var(--fill-color);\n",
              "      border-top-color: var(--fill-color);\n",
              "    }\n",
              "    30% {\n",
              "      border-color: transparent;\n",
              "      border-left-color: var(--fill-color);\n",
              "      border-top-color: var(--fill-color);\n",
              "      border-right-color: var(--fill-color);\n",
              "    }\n",
              "    40% {\n",
              "      border-color: transparent;\n",
              "      border-right-color: var(--fill-color);\n",
              "      border-top-color: var(--fill-color);\n",
              "    }\n",
              "    60% {\n",
              "      border-color: transparent;\n",
              "      border-right-color: var(--fill-color);\n",
              "    }\n",
              "    80% {\n",
              "      border-color: transparent;\n",
              "      border-right-color: var(--fill-color);\n",
              "      border-bottom-color: var(--fill-color);\n",
              "    }\n",
              "    90% {\n",
              "      border-color: transparent;\n",
              "      border-bottom-color: var(--fill-color);\n",
              "    }\n",
              "  }\n",
              "</style>\n",
              "\n",
              "  <script>\n",
              "    async function quickchart(key) {\n",
              "      const quickchartButtonEl =\n",
              "        document.querySelector('#' + key + ' button');\n",
              "      quickchartButtonEl.disabled = true;  // To prevent multiple clicks.\n",
              "      quickchartButtonEl.classList.add('colab-df-spinner');\n",
              "      try {\n",
              "        const charts = await google.colab.kernel.invokeFunction(\n",
              "            'suggestCharts', [key], {});\n",
              "      } catch (error) {\n",
              "        console.error('Error during call to suggestCharts:', error);\n",
              "      }\n",
              "      quickchartButtonEl.classList.remove('colab-df-spinner');\n",
              "      quickchartButtonEl.classList.add('colab-df-quickchart-complete');\n",
              "    }\n",
              "    (() => {\n",
              "      let quickchartButtonEl =\n",
              "        document.querySelector('#df-cc493daf-d892-4614-8e8d-269314b306d2 button');\n",
              "      quickchartButtonEl.style.display =\n",
              "        google.colab.kernel.accessAllowed ? 'block' : 'none';\n",
              "    })();\n",
              "  </script>\n",
              "</div>\n",
              "\n",
              "    </div>\n",
              "  </div>\n"
            ],
            "application/vnd.google.colaboratory.intrinsic+json": {
              "type": "dataframe"
            }
          },
          "metadata": {},
          "execution_count": 12
        }
      ]
    },
    {
      "cell_type": "code",
      "source": [
        "# Define a list of columns to drop from the ground truth DataFrame\n",
        "columns_to_drop = [\"Timestamp\", \"If \\\"yes\\\" to the above, which of the following emotions is closest to the emotion that the ad was intending the viewer to feel? (Select all that apply.)\", \"If yes to the above, did the ad successfully affect you emotionally, as intended?\", \"If yes to the above, was the ad successfully funny, as intended?\", \"Was there a famous person in this ad? \", \"If yes to the above, write the name of the famous person, if known.\", \"What happened in this ad? (Answer in 2-3 sentences each)\", \"What was/were the company's goal(s) with this ad? Choose (potentially multiple) from:\", \"How successful was the ad in achieving its goal(s)?\", \"How much did you like the ad? (1. Strongly dislike, 2. Dislike, 3. Neither Like or Dislike, 4. Like, 5. Strongly Like)\", \"What was the slogan presented in the ad, if any?\", \"After addressing the specific survey items, write a general description of the ad. You can use answers to the questions above to formulate your answer. Your description should include:\\nBrand and Product Identification: \\nSpecify the brand and whether a product is being advertised. (1 sentence)\\nVisual Elements: Describe what is seen on the screen, including setting, characters, and any text or graphics. (max 2 sentences)\\nAuditory Elements: Note what is heard, such as dialogue, voice-over, music, or sound effects. (max 2 sentences)\\n\", \"Any additional feedback or things we should be aware of? \", \"Please enter the video identifier one more time (e.g. 123456789.mp4)\"]"
      ],
      "metadata": {
        "id": "gsMkyPztx3fB"
      },
      "execution_count": 13,
      "outputs": []
    },
    {
      "cell_type": "code",
      "source": [
        "# Print the column names of the ground truth DataFrame\n",
        "ground_truth.columns"
      ],
      "metadata": {
        "colab": {
          "base_uri": "https://localhost:8080/"
        },
        "id": "5JEzw1uMx6KI",
        "outputId": "6c015807-c8b1-4135-dc1e-89f335ae4b7b"
      },
      "execution_count": 14,
      "outputs": [
        {
          "output_type": "execute_result",
          "data": {
            "text/plain": [
              "Index(['Timestamp', 'creative_data_id',\n",
              "       'Is there a call to go online (e.g., shop online, visit the Web)? ',\n",
              "       'Is there online contact information provided (e.g., URL, website)? ',\n",
              "       'Is there a visual or verbal call to purchase (e.g., buy now, order now)?',\n",
              "       'Does the ad portray a sense of urgency to act (e.g., buy before sales ends, order before ends)? ',\n",
              "       'Is there an incentive to buy (e.g., a discount, a coupon, a sale or \"limited time offer\")? ',\n",
              "       'Is there offline contact information provided (e.g., phone, mail, store location)?',\n",
              "       'Is there mention of something free? ',\n",
              "       'Does the ad mention at least one specific product or service (e.g., model, type, item)? ',\n",
              "       'Is there any verbal or visual mention of the price?',\n",
              "       'Does the ad show the brand (logo, brand name) or trademark (something that most people know is the brand) multiple times?\\n\\nFor example, Nike ads often have the \"swoosh\" logo prominently displayed on shoes and apparel worn by celebrity athletes. The \"Just Do It\" slogan is another Nike trademark frequently included.',\n",
              "       'Does the ad show the brand or trademark exactly once at the end of the ad?',\n",
              "       'Is the ad intended to affect the viewer emotionally, either with positive emotion (fun, joy), negative emotion (sad, anxious) or another type of emotion? (Note: You may not personally agree, but assess if that was the intention.)',\n",
              "       'If \"yes\" to the above, which of the following emotions is closest to the emotion that the ad was intending the viewer to feel? (Select all that apply.)',\n",
              "       'If yes to the above, did the ad successfully affect you emotionally, as intended?',\n",
              "       'Does the ad give you a positive feeling about the brand? ',\n",
              "       'Does the ad have a story arc, with a beginning and an end? ',\n",
              "       'Does the ad have a reversal of fortune, where something changes for the better, or changes for the worse?',\n",
              "       'Does the ad have relatable characters? ', 'Is the ad creative/clever?',\n",
              "       'Is the ad intended to be funny? (Note: You may not personally agree, but assess if that was the intention.) ',\n",
              "       'If yes to the above, was the ad successfully funny, as intended?',\n",
              "       'Does this ad provide sensory stimulation (e.g., cool visuals, arousing music, mouth-watering)? ',\n",
              "       'Is the ad visually pleasing?',\n",
              "       'Does the ad have cute elements like animals, babies, animated, characters, etc?',\n",
              "       'Was there a famous person in this ad? ',\n",
              "       'If yes to the above, write the name of the famous person, if known.',\n",
              "       'What happened in this ad? (Answer in 2-3 sentences each)',\n",
              "       'What was/were the company's goal(s) with this ad? Choose (potentially multiple) from:',\n",
              "       'How successful was the ad in achieving its goal(s)?',\n",
              "       'How much did you like the ad? (1. Strongly dislike, 2. Dislike, 3. Neither Like or Dislike, 4. Like, 5. Strongly Like)',\n",
              "       'What was the slogan presented in the ad, if any?',\n",
              "       'After addressing the specific survey items, write a general description of the ad. You can use answers to the questions above to formulate your answer. Your description should include:\\nBrand and Product Identification: \\nSpecify the brand and whether a product is being advertised. (1 sentence)\\nVisual Elements: Describe what is seen on the screen, including setting, characters, and any text or graphics. (max 2 sentences)\\nAuditory Elements: Note what is heard, such as dialogue, voice-over, music, or sound effects. (max 2 sentences)\\n',\n",
              "       'Any additional feedback or things we should be aware of? ',\n",
              "       'Please enter the video identifier one more time (e.g. 123456789.mp4)'],\n",
              "      dtype='object')"
            ]
          },
          "metadata": {},
          "execution_count": 14
        }
      ]
    },
    {
      "cell_type": "code",
      "source": [
        "# Drop the specified columns from the ground truth DataFrame\n",
        "ground_truth = ground_truth.drop(columns=columns_to_drop, axis=1)"
      ],
      "metadata": {
        "id": "QfVxR-6MoFa8"
      },
      "execution_count": 15,
      "outputs": []
    },
    {
      "cell_type": "code",
      "source": [
        "# Print the column names of the updated ground truth DataFrame\n",
        "ground_truth.columns"
      ],
      "metadata": {
        "colab": {
          "base_uri": "https://localhost:8080/"
        },
        "id": "XPzRlUBGoJlK",
        "outputId": "9df02299-2810-4ef5-9e2c-1cfb1da30107"
      },
      "execution_count": 16,
      "outputs": [
        {
          "output_type": "execute_result",
          "data": {
            "text/plain": [
              "Index(['creative_data_id',\n",
              "       'Is there a call to go online (e.g., shop online, visit the Web)? ',\n",
              "       'Is there online contact information provided (e.g., URL, website)? ',\n",
              "       'Is there a visual or verbal call to purchase (e.g., buy now, order now)?',\n",
              "       'Does the ad portray a sense of urgency to act (e.g., buy before sales ends, order before ends)? ',\n",
              "       'Is there an incentive to buy (e.g., a discount, a coupon, a sale or \"limited time offer\")? ',\n",
              "       'Is there offline contact information provided (e.g., phone, mail, store location)?',\n",
              "       'Is there mention of something free? ',\n",
              "       'Does the ad mention at least one specific product or service (e.g., model, type, item)? ',\n",
              "       'Is there any verbal or visual mention of the price?',\n",
              "       'Does the ad show the brand (logo, brand name) or trademark (something that most people know is the brand) multiple times?\\n\\nFor example, Nike ads often have the \"swoosh\" logo prominently displayed on shoes and apparel worn by celebrity athletes. The \"Just Do It\" slogan is another Nike trademark frequently included.',\n",
              "       'Does the ad show the brand or trademark exactly once at the end of the ad?',\n",
              "       'Is the ad intended to affect the viewer emotionally, either with positive emotion (fun, joy), negative emotion (sad, anxious) or another type of emotion? (Note: You may not personally agree, but assess if that was the intention.)',\n",
              "       'Does the ad give you a positive feeling about the brand? ',\n",
              "       'Does the ad have a story arc, with a beginning and an end? ',\n",
              "       'Does the ad have a reversal of fortune, where something changes for the better, or changes for the worse?',\n",
              "       'Does the ad have relatable characters? ', 'Is the ad creative/clever?',\n",
              "       'Is the ad intended to be funny? (Note: You may not personally agree, but assess if that was the intention.) ',\n",
              "       'Does this ad provide sensory stimulation (e.g., cool visuals, arousing music, mouth-watering)? ',\n",
              "       'Is the ad visually pleasing?',\n",
              "       'Does the ad have cute elements like animals, babies, animated, characters, etc?'],\n",
              "      dtype='object')"
            ]
          },
          "metadata": {},
          "execution_count": 16
        }
      ]
    },
    {
      "cell_type": "code",
      "source": [
        "# Print the shape (number of rows and columns) of the updated ground truth DataFrame\n",
        "ground_truth.shape"
      ],
      "metadata": {
        "colab": {
          "base_uri": "https://localhost:8080/"
        },
        "id": "0wcU2I_9oMUJ",
        "outputId": "961d3072-4f90-46f5-cd07-0ed5b92b2faa"
      },
      "execution_count": 17,
      "outputs": [
        {
          "output_type": "execute_result",
          "data": {
            "text/plain": [
              "(449, 22)"
            ]
          },
          "metadata": {},
          "execution_count": 17
        }
      ]
    },
    {
      "cell_type": "code",
      "source": [
        "# Check for any missing values in the updated ground truth DataFrame\n",
        "ground_truth.isnull().sum().sum()"
      ],
      "metadata": {
        "colab": {
          "base_uri": "https://localhost:8080/"
        },
        "id": "PBzcB0VKoPqK",
        "outputId": "b16569ac-3bc5-4008-f5e4-24731d9d315d"
      },
      "execution_count": 18,
      "outputs": [
        {
          "output_type": "execute_result",
          "data": {
            "text/plain": [
              "0"
            ]
          },
          "metadata": {},
          "execution_count": 18
        }
      ]
    },
    {
      "cell_type": "code",
      "source": [
        "# Display rows in the updated ground truth data where 'creative_data_id' is 2953810\n",
        "ground_truth[ground_truth['creative_data_id'] == 2953810]"
      ],
      "metadata": {
        "colab": {
          "base_uri": "https://localhost:8080/",
          "height": 589
        },
        "id": "avoDKZFVoSoj",
        "outputId": "83164a99-e63d-45ed-c92d-715c6cef1096"
      },
      "execution_count": 19,
      "outputs": [
        {
          "output_type": "execute_result",
          "data": {
            "text/plain": [
              "     creative_data_id  \\\n",
              "342           2953810   \n",
              "343           2953810   \n",
              "344           2953810   \n",
              "345           2953810   \n",
              "\n",
              "    Is there a call to go online (e.g., shop online, visit the Web)?   \\\n",
              "342                                                Yes                  \n",
              "343                                                 No                  \n",
              "344                                                 No                  \n",
              "345                                                 No                  \n",
              "\n",
              "    Is there online contact information provided (e.g., URL, website)?   \\\n",
              "342                                                Yes                    \n",
              "343                                                 No                    \n",
              "344                                                Yes                    \n",
              "345                                                Yes                    \n",
              "\n",
              "    Is there a visual or verbal call to purchase (e.g., buy now, order now)?  \\\n",
              "342                                                Yes                         \n",
              "343                                                 No                         \n",
              "344                                                Yes                         \n",
              "345                                                Yes                         \n",
              "\n",
              "    Does the ad portray a sense of urgency to act (e.g., buy before sales ends, order before ends)?   \\\n",
              "342                                                Yes                                                 \n",
              "343                                                 No                                                 \n",
              "344                                                Yes                                                 \n",
              "345                                                Yes                                                 \n",
              "\n",
              "    Is there an incentive to buy (e.g., a discount, a coupon, a sale or \"limited time offer\")?   \\\n",
              "342                                                Yes                                            \n",
              "343                                                 No                                            \n",
              "344                                                 No                                            \n",
              "345                                                Yes                                            \n",
              "\n",
              "    Is there offline contact information provided (e.g., phone, mail, store location)?  \\\n",
              "342                                                Yes                                   \n",
              "343                                                 No                                   \n",
              "344                                                 No                                   \n",
              "345                                                Yes                                   \n",
              "\n",
              "    Is there mention of something free?   \\\n",
              "342                                   No   \n",
              "343                                   No   \n",
              "344                                   No   \n",
              "345                                   No   \n",
              "\n",
              "    Does the ad mention at least one specific product or service (e.g., model, type, item)?   \\\n",
              "342                                                Yes                                         \n",
              "343                                                Yes                                         \n",
              "344                                                 No                                         \n",
              "345                                                Yes                                         \n",
              "\n",
              "    Is there any verbal or visual mention of the price?  ...  \\\n",
              "342                                                 No   ...   \n",
              "343                                                 No   ...   \n",
              "344                                                 No   ...   \n",
              "345                                          Yes, both   ...   \n",
              "\n",
              "    Is the ad intended to affect the viewer emotionally, either with positive emotion (fun, joy), negative emotion (sad, anxious) or another type of emotion? (Note: You may not personally agree, but assess if that was the intention.)  \\\n",
              "342                                                Yes                                                                                                                                                                                      \n",
              "343                                                 No                                                                                                                                                                                      \n",
              "344                                                Yes                                                                                                                                                                                      \n",
              "345                                                 No                                                                                                                                                                                      \n",
              "\n",
              "    Does the ad give you a positive feeling about the brand?   \\\n",
              "342                                                Yes          \n",
              "343                                                Yes          \n",
              "344                                                Yes          \n",
              "345                                                Yes          \n",
              "\n",
              "    Does the ad have a story arc, with a beginning and an end?   \\\n",
              "342                                                 No            \n",
              "343                                                 No            \n",
              "344                                                 No            \n",
              "345                                                 No            \n",
              "\n",
              "    Does the ad have a reversal of fortune, where something changes for the better, or changes for the worse?  \\\n",
              "342                                                 No                                                          \n",
              "343                                                 No                                                          \n",
              "344                                                 No                                                          \n",
              "345                                                Yes                                                          \n",
              "\n",
              "    Does the ad have relatable characters?  Is the ad creative/clever?  \\\n",
              "342                                      No                         No   \n",
              "343                                     Yes                        Yes   \n",
              "344                                      No                         No   \n",
              "345                                      No                        Yes   \n",
              "\n",
              "    Is the ad intended to be funny? (Note: You may not personally agree, but assess if that was the intention.)   \\\n",
              "342                                                 No                                                             \n",
              "343                                                 No                                                             \n",
              "344                                                 No                                                             \n",
              "345                                                 No                                                             \n",
              "\n",
              "    Does this ad provide sensory stimulation (e.g., cool visuals, arousing music, mouth-watering)?   \\\n",
              "342                                                Yes                                                \n",
              "343                                                Yes                                                \n",
              "344                                                 No                                                \n",
              "345                                                Yes                                                \n",
              "\n",
              "    Is the ad visually pleasing?  \\\n",
              "342                          Yes   \n",
              "343                          Yes   \n",
              "344                           No   \n",
              "345                          Yes   \n",
              "\n",
              "    Does the ad have cute elements like animals, babies, animated, characters, etc?  \n",
              "342                                                 No                               \n",
              "343                                                 No                               \n",
              "344                                                 No                               \n",
              "345                                                 No                               \n",
              "\n",
              "[4 rows x 22 columns]"
            ],
            "text/html": [
              "\n",
              "  <div id=\"df-3778970b-c7ca-4899-80a3-6e4c3b95d2f8\" class=\"colab-df-container\">\n",
              "    <div>\n",
              "<style scoped>\n",
              "    .dataframe tbody tr th:only-of-type {\n",
              "        vertical-align: middle;\n",
              "    }\n",
              "\n",
              "    .dataframe tbody tr th {\n",
              "        vertical-align: top;\n",
              "    }\n",
              "\n",
              "    .dataframe thead th {\n",
              "        text-align: right;\n",
              "    }\n",
              "</style>\n",
              "<table border=\"1\" class=\"dataframe\">\n",
              "  <thead>\n",
              "    <tr style=\"text-align: right;\">\n",
              "      <th></th>\n",
              "      <th>creative_data_id</th>\n",
              "      <th>Is there a call to go online (e.g., shop online, visit the Web)?</th>\n",
              "      <th>Is there online contact information provided (e.g., URL, website)?</th>\n",
              "      <th>Is there a visual or verbal call to purchase (e.g., buy now, order now)?</th>\n",
              "      <th>Does the ad portray a sense of urgency to act (e.g., buy before sales ends, order before ends)?</th>\n",
              "      <th>Is there an incentive to buy (e.g., a discount, a coupon, a sale or \"limited time offer\")?</th>\n",
              "      <th>Is there offline contact information provided (e.g., phone, mail, store location)?</th>\n",
              "      <th>Is there mention of something free?</th>\n",
              "      <th>Does the ad mention at least one specific product or service (e.g., model, type, item)?</th>\n",
              "      <th>Is there any verbal or visual mention of the price?</th>\n",
              "      <th>...</th>\n",
              "      <th>Is the ad intended to affect the viewer emotionally, either with positive emotion (fun, joy), negative emotion (sad, anxious) or another type of emotion? (Note: You may not personally agree, but assess if that was the intention.)</th>\n",
              "      <th>Does the ad give you a positive feeling about the brand?</th>\n",
              "      <th>Does the ad have a story arc, with a beginning and an end?</th>\n",
              "      <th>Does the ad have a reversal of fortune, where something changes for the better, or changes for the worse?</th>\n",
              "      <th>Does the ad have relatable characters?</th>\n",
              "      <th>Is the ad creative/clever?</th>\n",
              "      <th>Is the ad intended to be funny? (Note: You may not personally agree, but assess if that was the intention.)</th>\n",
              "      <th>Does this ad provide sensory stimulation (e.g., cool visuals, arousing music, mouth-watering)?</th>\n",
              "      <th>Is the ad visually pleasing?</th>\n",
              "      <th>Does the ad have cute elements like animals, babies, animated, characters, etc?</th>\n",
              "    </tr>\n",
              "  </thead>\n",
              "  <tbody>\n",
              "    <tr>\n",
              "      <th>342</th>\n",
              "      <td>2953810</td>\n",
              "      <td>Yes</td>\n",
              "      <td>Yes</td>\n",
              "      <td>Yes</td>\n",
              "      <td>Yes</td>\n",
              "      <td>Yes</td>\n",
              "      <td>Yes</td>\n",
              "      <td>No</td>\n",
              "      <td>Yes</td>\n",
              "      <td>No</td>\n",
              "      <td>...</td>\n",
              "      <td>Yes</td>\n",
              "      <td>Yes</td>\n",
              "      <td>No</td>\n",
              "      <td>No</td>\n",
              "      <td>No</td>\n",
              "      <td>No</td>\n",
              "      <td>No</td>\n",
              "      <td>Yes</td>\n",
              "      <td>Yes</td>\n",
              "      <td>No</td>\n",
              "    </tr>\n",
              "    <tr>\n",
              "      <th>343</th>\n",
              "      <td>2953810</td>\n",
              "      <td>No</td>\n",
              "      <td>No</td>\n",
              "      <td>No</td>\n",
              "      <td>No</td>\n",
              "      <td>No</td>\n",
              "      <td>No</td>\n",
              "      <td>No</td>\n",
              "      <td>Yes</td>\n",
              "      <td>No</td>\n",
              "      <td>...</td>\n",
              "      <td>No</td>\n",
              "      <td>Yes</td>\n",
              "      <td>No</td>\n",
              "      <td>No</td>\n",
              "      <td>Yes</td>\n",
              "      <td>Yes</td>\n",
              "      <td>No</td>\n",
              "      <td>Yes</td>\n",
              "      <td>Yes</td>\n",
              "      <td>No</td>\n",
              "    </tr>\n",
              "    <tr>\n",
              "      <th>344</th>\n",
              "      <td>2953810</td>\n",
              "      <td>No</td>\n",
              "      <td>Yes</td>\n",
              "      <td>Yes</td>\n",
              "      <td>Yes</td>\n",
              "      <td>No</td>\n",
              "      <td>No</td>\n",
              "      <td>No</td>\n",
              "      <td>No</td>\n",
              "      <td>No</td>\n",
              "      <td>...</td>\n",
              "      <td>Yes</td>\n",
              "      <td>Yes</td>\n",
              "      <td>No</td>\n",
              "      <td>No</td>\n",
              "      <td>No</td>\n",
              "      <td>No</td>\n",
              "      <td>No</td>\n",
              "      <td>No</td>\n",
              "      <td>No</td>\n",
              "      <td>No</td>\n",
              "    </tr>\n",
              "    <tr>\n",
              "      <th>345</th>\n",
              "      <td>2953810</td>\n",
              "      <td>No</td>\n",
              "      <td>Yes</td>\n",
              "      <td>Yes</td>\n",
              "      <td>Yes</td>\n",
              "      <td>Yes</td>\n",
              "      <td>Yes</td>\n",
              "      <td>No</td>\n",
              "      <td>Yes</td>\n",
              "      <td>Yes, both</td>\n",
              "      <td>...</td>\n",
              "      <td>No</td>\n",
              "      <td>Yes</td>\n",
              "      <td>No</td>\n",
              "      <td>Yes</td>\n",
              "      <td>No</td>\n",
              "      <td>Yes</td>\n",
              "      <td>No</td>\n",
              "      <td>Yes</td>\n",
              "      <td>Yes</td>\n",
              "      <td>No</td>\n",
              "    </tr>\n",
              "  </tbody>\n",
              "</table>\n",
              "<p>4 rows × 22 columns</p>\n",
              "</div>\n",
              "    <div class=\"colab-df-buttons\">\n",
              "\n",
              "  <div class=\"colab-df-container\">\n",
              "    <button class=\"colab-df-convert\" onclick=\"convertToInteractive('df-3778970b-c7ca-4899-80a3-6e4c3b95d2f8')\"\n",
              "            title=\"Convert this dataframe to an interactive table.\"\n",
              "            style=\"display:none;\">\n",
              "\n",
              "  <svg xmlns=\"http://www.w3.org/2000/svg\" height=\"24px\" viewBox=\"0 -960 960 960\">\n",
              "    <path d=\"M120-120v-720h720v720H120Zm60-500h600v-160H180v160Zm220 220h160v-160H400v160Zm0 220h160v-160H400v160ZM180-400h160v-160H180v160Zm440 0h160v-160H620v160ZM180-180h160v-160H180v160Zm440 0h160v-160H620v160Z\"/>\n",
              "  </svg>\n",
              "    </button>\n",
              "\n",
              "  <style>\n",
              "    .colab-df-container {\n",
              "      display:flex;\n",
              "      gap: 12px;\n",
              "    }\n",
              "\n",
              "    .colab-df-convert {\n",
              "      background-color: #E8F0FE;\n",
              "      border: none;\n",
              "      border-radius: 50%;\n",
              "      cursor: pointer;\n",
              "      display: none;\n",
              "      fill: #1967D2;\n",
              "      height: 32px;\n",
              "      padding: 0 0 0 0;\n",
              "      width: 32px;\n",
              "    }\n",
              "\n",
              "    .colab-df-convert:hover {\n",
              "      background-color: #E2EBFA;\n",
              "      box-shadow: 0px 1px 2px rgba(60, 64, 67, 0.3), 0px 1px 3px 1px rgba(60, 64, 67, 0.15);\n",
              "      fill: #174EA6;\n",
              "    }\n",
              "\n",
              "    .colab-df-buttons div {\n",
              "      margin-bottom: 4px;\n",
              "    }\n",
              "\n",
              "    [theme=dark] .colab-df-convert {\n",
              "      background-color: #3B4455;\n",
              "      fill: #D2E3FC;\n",
              "    }\n",
              "\n",
              "    [theme=dark] .colab-df-convert:hover {\n",
              "      background-color: #434B5C;\n",
              "      box-shadow: 0px 1px 3px 1px rgba(0, 0, 0, 0.15);\n",
              "      filter: drop-shadow(0px 1px 2px rgba(0, 0, 0, 0.3));\n",
              "      fill: #FFFFFF;\n",
              "    }\n",
              "  </style>\n",
              "\n",
              "    <script>\n",
              "      const buttonEl =\n",
              "        document.querySelector('#df-3778970b-c7ca-4899-80a3-6e4c3b95d2f8 button.colab-df-convert');\n",
              "      buttonEl.style.display =\n",
              "        google.colab.kernel.accessAllowed ? 'block' : 'none';\n",
              "\n",
              "      async function convertToInteractive(key) {\n",
              "        const element = document.querySelector('#df-3778970b-c7ca-4899-80a3-6e4c3b95d2f8');\n",
              "        const dataTable =\n",
              "          await google.colab.kernel.invokeFunction('convertToInteractive',\n",
              "                                                    [key], {});\n",
              "        if (!dataTable) return;\n",
              "\n",
              "        const docLinkHtml = 'Like what you see? Visit the ' +\n",
              "          '<a target=\"_blank\" href=https://colab.research.google.com/notebooks/data_table.ipynb>data table notebook</a>'\n",
              "          + ' to learn more about interactive tables.';\n",
              "        element.innerHTML = '';\n",
              "        dataTable['output_type'] = 'display_data';\n",
              "        await google.colab.output.renderOutput(dataTable, element);\n",
              "        const docLink = document.createElement('div');\n",
              "        docLink.innerHTML = docLinkHtml;\n",
              "        element.appendChild(docLink);\n",
              "      }\n",
              "    </script>\n",
              "  </div>\n",
              "\n",
              "\n",
              "<div id=\"df-fa8176e9-954d-4f04-86e3-e076b7764fdd\">\n",
              "  <button class=\"colab-df-quickchart\" onclick=\"quickchart('df-fa8176e9-954d-4f04-86e3-e076b7764fdd')\"\n",
              "            title=\"Suggest charts\"\n",
              "            style=\"display:none;\">\n",
              "\n",
              "<svg xmlns=\"http://www.w3.org/2000/svg\" height=\"24px\"viewBox=\"0 0 24 24\"\n",
              "     width=\"24px\">\n",
              "    <g>\n",
              "        <path d=\"M19 3H5c-1.1 0-2 .9-2 2v14c0 1.1.9 2 2 2h14c1.1 0 2-.9 2-2V5c0-1.1-.9-2-2-2zM9 17H7v-7h2v7zm4 0h-2V7h2v10zm4 0h-2v-4h2v4z\"/>\n",
              "    </g>\n",
              "</svg>\n",
              "  </button>\n",
              "\n",
              "<style>\n",
              "  .colab-df-quickchart {\n",
              "      --bg-color: #E8F0FE;\n",
              "      --fill-color: #1967D2;\n",
              "      --hover-bg-color: #E2EBFA;\n",
              "      --hover-fill-color: #174EA6;\n",
              "      --disabled-fill-color: #AAA;\n",
              "      --disabled-bg-color: #DDD;\n",
              "  }\n",
              "\n",
              "  [theme=dark] .colab-df-quickchart {\n",
              "      --bg-color: #3B4455;\n",
              "      --fill-color: #D2E3FC;\n",
              "      --hover-bg-color: #434B5C;\n",
              "      --hover-fill-color: #FFFFFF;\n",
              "      --disabled-bg-color: #3B4455;\n",
              "      --disabled-fill-color: #666;\n",
              "  }\n",
              "\n",
              "  .colab-df-quickchart {\n",
              "    background-color: var(--bg-color);\n",
              "    border: none;\n",
              "    border-radius: 50%;\n",
              "    cursor: pointer;\n",
              "    display: none;\n",
              "    fill: var(--fill-color);\n",
              "    height: 32px;\n",
              "    padding: 0;\n",
              "    width: 32px;\n",
              "  }\n",
              "\n",
              "  .colab-df-quickchart:hover {\n",
              "    background-color: var(--hover-bg-color);\n",
              "    box-shadow: 0 1px 2px rgba(60, 64, 67, 0.3), 0 1px 3px 1px rgba(60, 64, 67, 0.15);\n",
              "    fill: var(--button-hover-fill-color);\n",
              "  }\n",
              "\n",
              "  .colab-df-quickchart-complete:disabled,\n",
              "  .colab-df-quickchart-complete:disabled:hover {\n",
              "    background-color: var(--disabled-bg-color);\n",
              "    fill: var(--disabled-fill-color);\n",
              "    box-shadow: none;\n",
              "  }\n",
              "\n",
              "  .colab-df-spinner {\n",
              "    border: 2px solid var(--fill-color);\n",
              "    border-color: transparent;\n",
              "    border-bottom-color: var(--fill-color);\n",
              "    animation:\n",
              "      spin 1s steps(1) infinite;\n",
              "  }\n",
              "\n",
              "  @keyframes spin {\n",
              "    0% {\n",
              "      border-color: transparent;\n",
              "      border-bottom-color: var(--fill-color);\n",
              "      border-left-color: var(--fill-color);\n",
              "    }\n",
              "    20% {\n",
              "      border-color: transparent;\n",
              "      border-left-color: var(--fill-color);\n",
              "      border-top-color: var(--fill-color);\n",
              "    }\n",
              "    30% {\n",
              "      border-color: transparent;\n",
              "      border-left-color: var(--fill-color);\n",
              "      border-top-color: var(--fill-color);\n",
              "      border-right-color: var(--fill-color);\n",
              "    }\n",
              "    40% {\n",
              "      border-color: transparent;\n",
              "      border-right-color: var(--fill-color);\n",
              "      border-top-color: var(--fill-color);\n",
              "    }\n",
              "    60% {\n",
              "      border-color: transparent;\n",
              "      border-right-color: var(--fill-color);\n",
              "    }\n",
              "    80% {\n",
              "      border-color: transparent;\n",
              "      border-right-color: var(--fill-color);\n",
              "      border-bottom-color: var(--fill-color);\n",
              "    }\n",
              "    90% {\n",
              "      border-color: transparent;\n",
              "      border-bottom-color: var(--fill-color);\n",
              "    }\n",
              "  }\n",
              "</style>\n",
              "\n",
              "  <script>\n",
              "    async function quickchart(key) {\n",
              "      const quickchartButtonEl =\n",
              "        document.querySelector('#' + key + ' button');\n",
              "      quickchartButtonEl.disabled = true;  // To prevent multiple clicks.\n",
              "      quickchartButtonEl.classList.add('colab-df-spinner');\n",
              "      try {\n",
              "        const charts = await google.colab.kernel.invokeFunction(\n",
              "            'suggestCharts', [key], {});\n",
              "      } catch (error) {\n",
              "        console.error('Error during call to suggestCharts:', error);\n",
              "      }\n",
              "      quickchartButtonEl.classList.remove('colab-df-spinner');\n",
              "      quickchartButtonEl.classList.add('colab-df-quickchart-complete');\n",
              "    }\n",
              "    (() => {\n",
              "      let quickchartButtonEl =\n",
              "        document.querySelector('#df-fa8176e9-954d-4f04-86e3-e076b7764fdd button');\n",
              "      quickchartButtonEl.style.display =\n",
              "        google.colab.kernel.accessAllowed ? 'block' : 'none';\n",
              "    })();\n",
              "  </script>\n",
              "</div>\n",
              "\n",
              "    </div>\n",
              "  </div>\n"
            ],
            "application/vnd.google.colaboratory.intrinsic+json": {
              "type": "dataframe"
            }
          },
          "metadata": {},
          "execution_count": 19
        }
      ]
    },
    {
      "cell_type": "markdown",
      "source": [
        "# Check the distribution of values in specific columns of the updated ground truth DataFrame"
      ],
      "metadata": {
        "id": "dosJYk8WNEle"
      }
    },
    {
      "cell_type": "code",
      "source": [
        "ground_truth['Is there a call to go online (e.g., shop online, visit the Web)? '].value_counts()"
      ],
      "metadata": {
        "colab": {
          "base_uri": "https://localhost:8080/"
        },
        "id": "k4Xg4rn0oV0O",
        "outputId": "e2932dc5-154e-4374-ffba-6f108df6766a"
      },
      "execution_count": 20,
      "outputs": [
        {
          "output_type": "execute_result",
          "data": {
            "text/plain": [
              "Is there a call to go online (e.g., shop online, visit the Web)? \n",
              "No     301\n",
              "Yes    148\n",
              "Name: count, dtype: int64"
            ]
          },
          "metadata": {},
          "execution_count": 20
        }
      ]
    },
    {
      "cell_type": "code",
      "source": [
        "ground_truth['Is there online contact information provided (e.g., URL, website)? '].value_counts()"
      ],
      "metadata": {
        "colab": {
          "base_uri": "https://localhost:8080/"
        },
        "id": "LOdJ2NKRocDr",
        "outputId": "45388a95-d4d6-43d3-f43d-98eab446ea17"
      },
      "execution_count": 21,
      "outputs": [
        {
          "output_type": "execute_result",
          "data": {
            "text/plain": [
              "Is there online contact information provided (e.g., URL, website)? \n",
              "No     242\n",
              "Yes    207\n",
              "Name: count, dtype: int64"
            ]
          },
          "metadata": {},
          "execution_count": 21
        }
      ]
    },
    {
      "cell_type": "code",
      "source": [
        "ground_truth['Is there a visual or verbal call to purchase (e.g., buy now, order now)?'].value_counts()"
      ],
      "metadata": {
        "colab": {
          "base_uri": "https://localhost:8080/"
        },
        "id": "ANOjjU69odB7",
        "outputId": "a22a8889-64f5-4fd0-c9f2-97ab09335518"
      },
      "execution_count": 22,
      "outputs": [
        {
          "output_type": "execute_result",
          "data": {
            "text/plain": [
              "Is there a visual or verbal call to purchase (e.g., buy now, order now)?\n",
              "No     260\n",
              "Yes    189\n",
              "Name: count, dtype: int64"
            ]
          },
          "metadata": {},
          "execution_count": 22
        }
      ]
    },
    {
      "cell_type": "code",
      "source": [
        "ground_truth['Does the ad portray a sense of urgency to act (e.g., buy before sales ends, order before ends)? '].value_counts()"
      ],
      "metadata": {
        "colab": {
          "base_uri": "https://localhost:8080/"
        },
        "id": "D_hcOqreoiDQ",
        "outputId": "0b3d6c53-0d74-490f-cb9f-0bc87790978a"
      },
      "execution_count": 23,
      "outputs": [
        {
          "output_type": "execute_result",
          "data": {
            "text/plain": [
              "Does the ad portray a sense of urgency to act (e.g., buy before sales ends, order before ends)? \n",
              "No     319\n",
              "Yes    130\n",
              "Name: count, dtype: int64"
            ]
          },
          "metadata": {},
          "execution_count": 23
        }
      ]
    },
    {
      "cell_type": "code",
      "source": [
        "ground_truth['Is there an incentive to buy (e.g., a discount, a coupon, a sale or \"limited time offer\")? '].value_counts()"
      ],
      "metadata": {
        "colab": {
          "base_uri": "https://localhost:8080/"
        },
        "id": "RIN5nRsTok8b",
        "outputId": "390f0fc9-bce6-4ab8-fac8-2c88d63f9322"
      },
      "execution_count": 24,
      "outputs": [
        {
          "output_type": "execute_result",
          "data": {
            "text/plain": [
              "Is there an incentive to buy (e.g., a discount, a coupon, a sale or \"limited time offer\")? \n",
              "No     269\n",
              "Yes    180\n",
              "Name: count, dtype: int64"
            ]
          },
          "metadata": {},
          "execution_count": 24
        }
      ]
    },
    {
      "cell_type": "code",
      "source": [
        "ground_truth['Is there offline contact information provided (e.g., phone, mail, store location)?'].value_counts()"
      ],
      "metadata": {
        "colab": {
          "base_uri": "https://localhost:8080/"
        },
        "id": "vm7tys2ron5_",
        "outputId": "098f8cb1-5f75-4f6b-a851-5c2e25b69844"
      },
      "execution_count": 25,
      "outputs": [
        {
          "output_type": "execute_result",
          "data": {
            "text/plain": [
              "Is there offline contact information provided (e.g., phone, mail, store location)?\n",
              "No     350\n",
              "Yes     99\n",
              "Name: count, dtype: int64"
            ]
          },
          "metadata": {},
          "execution_count": 25
        }
      ]
    },
    {
      "cell_type": "code",
      "source": [
        "ground_truth['Is there mention of something free? '].value_counts()"
      ],
      "metadata": {
        "colab": {
          "base_uri": "https://localhost:8080/"
        },
        "id": "uiayoyyUoqdB",
        "outputId": "8c47df8f-8b33-4d4c-9660-9077e5480556"
      },
      "execution_count": 26,
      "outputs": [
        {
          "output_type": "execute_result",
          "data": {
            "text/plain": [
              "Is there mention of something free? \n",
              "No     412\n",
              "Yes     37\n",
              "Name: count, dtype: int64"
            ]
          },
          "metadata": {},
          "execution_count": 26
        }
      ]
    },
    {
      "cell_type": "code",
      "source": [
        "ground_truth['Does the ad mention at least one specific product or service (e.g., model, type, item)? '].value_counts()"
      ],
      "metadata": {
        "colab": {
          "base_uri": "https://localhost:8080/"
        },
        "id": "YfKvAdguowMA",
        "outputId": "282b0ba8-a497-4f06-cef4-536c96847b07"
      },
      "execution_count": 27,
      "outputs": [
        {
          "output_type": "execute_result",
          "data": {
            "text/plain": [
              "Does the ad mention at least one specific product or service (e.g., model, type, item)? \n",
              "Yes    365\n",
              "No      84\n",
              "Name: count, dtype: int64"
            ]
          },
          "metadata": {},
          "execution_count": 27
        }
      ]
    },
    {
      "cell_type": "code",
      "source": [
        "ground_truth['Is there any verbal or visual mention of the price?'].value_counts()"
      ],
      "metadata": {
        "colab": {
          "base_uri": "https://localhost:8080/"
        },
        "id": "KQqtnHE2ozYy",
        "outputId": "d90d1db9-9f07-4407-95be-e64ce7cfd0e5"
      },
      "execution_count": 28,
      "outputs": [
        {
          "output_type": "execute_result",
          "data": {
            "text/plain": [
              "Is there any verbal or visual mention of the price?\n",
              "No             286\n",
              "Yes, both      127\n",
              "Yes, visual     31\n",
              "Yes, verbal      5\n",
              "Name: count, dtype: int64"
            ]
          },
          "metadata": {},
          "execution_count": 28
        }
      ]
    },
    {
      "cell_type": "code",
      "source": [
        "ground_truth['Does the ad show the brand (logo, brand name) or trademark (something that most people know is the brand) multiple times?\\n\\nFor example, Nike ads often have the \"swoosh\" logo prominently displayed on shoes and apparel worn by celebrity athletes. The \"Just Do It\" slogan is another Nike trademark frequently included.'].value_counts()"
      ],
      "metadata": {
        "colab": {
          "base_uri": "https://localhost:8080/"
        },
        "id": "fflWTceMo1NS",
        "outputId": "43c921cd-b354-46bb-9098-055656bf0226"
      },
      "execution_count": 29,
      "outputs": [
        {
          "output_type": "execute_result",
          "data": {
            "text/plain": [
              "Does the ad show the brand (logo, brand name) or trademark (something that most people know is the brand) multiple times?\\n\\nFor example, Nike ads often have the \"swoosh\" logo prominently displayed on shoes and apparel worn by celebrity athletes. The \"Just Do It\" slogan is another Nike trademark frequently included.\n",
              "Yes    358\n",
              "No      91\n",
              "Name: count, dtype: int64"
            ]
          },
          "metadata": {},
          "execution_count": 29
        }
      ]
    },
    {
      "cell_type": "code",
      "source": [
        "ground_truth['Does the ad show the brand or trademark exactly once at the end of the ad?'].value_counts()"
      ],
      "metadata": {
        "colab": {
          "base_uri": "https://localhost:8080/"
        },
        "id": "GMekA5fPo5FN",
        "outputId": "e02fe64a-b265-4ae1-f95f-2c3481d144f9"
      },
      "execution_count": 30,
      "outputs": [
        {
          "output_type": "execute_result",
          "data": {
            "text/plain": [
              "Does the ad show the brand or trademark exactly once at the end of the ad?\n",
              "Yes    339\n",
              "No     110\n",
              "Name: count, dtype: int64"
            ]
          },
          "metadata": {},
          "execution_count": 30
        }
      ]
    },
    {
      "cell_type": "code",
      "source": [
        "ground_truth['Is the ad intended to affect the viewer emotionally, either with positive emotion (fun, joy), negative emotion (sad, anxious) or another type of emotion? (Note: You may not personally agree, but assess if that was the intention.)'].value_counts()"
      ],
      "metadata": {
        "colab": {
          "base_uri": "https://localhost:8080/"
        },
        "id": "0shoIlTNo8S6",
        "outputId": "2434fc40-02f1-4d87-d45b-53fd2da9deb7"
      },
      "execution_count": 31,
      "outputs": [
        {
          "output_type": "execute_result",
          "data": {
            "text/plain": [
              "Is the ad intended to affect the viewer emotionally, either with positive emotion (fun, joy), negative emotion (sad, anxious) or another type of emotion? (Note: You may not personally agree, but assess if that was the intention.)\n",
              "Yes    342\n",
              "No     107\n",
              "Name: count, dtype: int64"
            ]
          },
          "metadata": {},
          "execution_count": 31
        }
      ]
    },
    {
      "cell_type": "code",
      "source": [
        "ground_truth['Does the ad give you a positive feeling about the brand? '].value_counts()"
      ],
      "metadata": {
        "colab": {
          "base_uri": "https://localhost:8080/"
        },
        "id": "EHP9RCWJo_BD",
        "outputId": "0bd41c19-fd98-42d5-88ec-1dae57ba5397"
      },
      "execution_count": 32,
      "outputs": [
        {
          "output_type": "execute_result",
          "data": {
            "text/plain": [
              "Does the ad give you a positive feeling about the brand? \n",
              "Yes    352\n",
              "No      97\n",
              "Name: count, dtype: int64"
            ]
          },
          "metadata": {},
          "execution_count": 32
        }
      ]
    },
    {
      "cell_type": "code",
      "source": [
        "ground_truth['Does the ad have a story arc, with a beginning and an end? '].value_counts()"
      ],
      "metadata": {
        "colab": {
          "base_uri": "https://localhost:8080/"
        },
        "id": "-uQtwAQMpBai",
        "outputId": "42780927-f7dd-4640-9045-3fbc9a995e3a"
      },
      "execution_count": 33,
      "outputs": [
        {
          "output_type": "execute_result",
          "data": {
            "text/plain": [
              "Does the ad have a story arc, with a beginning and an end? \n",
              "No     326\n",
              "Yes    123\n",
              "Name: count, dtype: int64"
            ]
          },
          "metadata": {},
          "execution_count": 33
        }
      ]
    },
    {
      "cell_type": "code",
      "source": [
        "ground_truth['Does the ad have a reversal of fortune, where something changes for the better, or changes for the worse?'].value_counts()"
      ],
      "metadata": {
        "colab": {
          "base_uri": "https://localhost:8080/"
        },
        "id": "lO9zW6LdpD-1",
        "outputId": "cd90a917-a2e7-40b1-dc82-443b99b14da4"
      },
      "execution_count": 34,
      "outputs": [
        {
          "output_type": "execute_result",
          "data": {
            "text/plain": [
              "Does the ad have a reversal of fortune, where something changes for the better, or changes for the worse?\n",
              "No     368\n",
              "Yes     81\n",
              "Name: count, dtype: int64"
            ]
          },
          "metadata": {},
          "execution_count": 34
        }
      ]
    },
    {
      "cell_type": "code",
      "source": [
        "ground_truth['Does the ad have relatable characters? '].value_counts()"
      ],
      "metadata": {
        "colab": {
          "base_uri": "https://localhost:8080/"
        },
        "id": "rFD9N0OYpJkJ",
        "outputId": "4dd965d5-7383-484a-d9c3-a3a76a01d71d"
      },
      "execution_count": 35,
      "outputs": [
        {
          "output_type": "execute_result",
          "data": {
            "text/plain": [
              "Does the ad have relatable characters? \n",
              "No     228\n",
              "Yes    221\n",
              "Name: count, dtype: int64"
            ]
          },
          "metadata": {},
          "execution_count": 35
        }
      ]
    },
    {
      "cell_type": "code",
      "source": [
        "ground_truth['Is the ad creative/clever?'].value_counts()"
      ],
      "metadata": {
        "colab": {
          "base_uri": "https://localhost:8080/"
        },
        "id": "pvj2ny1epL2v",
        "outputId": "4d9eccf3-c6fb-45a2-fef6-1d85aafc93e4"
      },
      "execution_count": 36,
      "outputs": [
        {
          "output_type": "execute_result",
          "data": {
            "text/plain": [
              "Is the ad creative/clever?\n",
              "Yes    270\n",
              "No     179\n",
              "Name: count, dtype: int64"
            ]
          },
          "metadata": {},
          "execution_count": 36
        }
      ]
    },
    {
      "cell_type": "code",
      "source": [
        "ground_truth['Is the ad intended to be funny? (Note: You may not personally agree, but assess if that was the intention.) '].value_counts()"
      ],
      "metadata": {
        "colab": {
          "base_uri": "https://localhost:8080/"
        },
        "id": "ICtBm-DtpMud",
        "outputId": "3c0ecebd-3971-42d6-832d-359c91f0e6f3"
      },
      "execution_count": 37,
      "outputs": [
        {
          "output_type": "execute_result",
          "data": {
            "text/plain": [
              "Is the ad intended to be funny? (Note: You may not personally agree, but assess if that was the intention.) \n",
              "No     356\n",
              "Yes     93\n",
              "Name: count, dtype: int64"
            ]
          },
          "metadata": {},
          "execution_count": 37
        }
      ]
    },
    {
      "cell_type": "code",
      "source": [
        "ground_truth['Does this ad provide sensory stimulation (e.g., cool visuals, arousing music, mouth-watering)? '].value_counts()"
      ],
      "metadata": {
        "colab": {
          "base_uri": "https://localhost:8080/"
        },
        "id": "XBlldC4ypQ6s",
        "outputId": "af64dd09-c292-403a-e4b5-c59fe96c4d40"
      },
      "execution_count": 38,
      "outputs": [
        {
          "output_type": "execute_result",
          "data": {
            "text/plain": [
              "Does this ad provide sensory stimulation (e.g., cool visuals, arousing music, mouth-watering)? \n",
              "Yes    252\n",
              "No     197\n",
              "Name: count, dtype: int64"
            ]
          },
          "metadata": {},
          "execution_count": 38
        }
      ]
    },
    {
      "cell_type": "code",
      "source": [
        "ground_truth['Is the ad visually pleasing?'].value_counts()"
      ],
      "metadata": {
        "colab": {
          "base_uri": "https://localhost:8080/"
        },
        "id": "a21mhccNpVsD",
        "outputId": "fb6fad61-7e5d-4696-99ed-6e64bf96bdb8"
      },
      "execution_count": 39,
      "outputs": [
        {
          "output_type": "execute_result",
          "data": {
            "text/plain": [
              "Is the ad visually pleasing?\n",
              "Yes    301\n",
              "No     148\n",
              "Name: count, dtype: int64"
            ]
          },
          "metadata": {},
          "execution_count": 39
        }
      ]
    },
    {
      "cell_type": "code",
      "source": [
        "ground_truth['Does the ad have cute elements like animals, babies, animated, characters, etc?'].value_counts()"
      ],
      "metadata": {
        "colab": {
          "base_uri": "https://localhost:8080/"
        },
        "id": "xSnRW-VrpWiP",
        "outputId": "f31276eb-7ec5-4f33-ca73-7b3164855175"
      },
      "execution_count": 40,
      "outputs": [
        {
          "output_type": "execute_result",
          "data": {
            "text/plain": [
              "Does the ad have cute elements like animals, babies, animated, characters, etc?\n",
              "No     336\n",
              "Yes    113\n",
              "Name: count, dtype: int64"
            ]
          },
          "metadata": {},
          "execution_count": 40
        }
      ]
    },
    {
      "cell_type": "code",
      "source": [
        "# Print the shape (number of rows and columns) of the updated ground truth DataFrame\n",
        "ground_truth.shape"
      ],
      "metadata": {
        "colab": {
          "base_uri": "https://localhost:8080/"
        },
        "id": "i3PVti65_2kE",
        "outputId": "1bf75c19-f5ce-4dc9-b21d-6eec870b10c3"
      },
      "execution_count": 41,
      "outputs": [
        {
          "output_type": "execute_result",
          "data": {
            "text/plain": [
              "(449, 22)"
            ]
          },
          "metadata": {},
          "execution_count": 41
        }
      ]
    },
    {
      "cell_type": "code",
      "source": [
        "# Function to perform majority vote on binary questions\n",
        "def majority_vote(series):\n",
        "    counts = series.value_counts()\n",
        "    if counts.get('Yes', 0) >= counts.get('No', 0):  # Resolving ties in favor of 'Yes'\n",
        "        return 'Yes'\n",
        "    else:\n",
        "        return 'No'"
      ],
      "metadata": {
        "id": "WpaBSPVjpY9Q"
      },
      "execution_count": 42,
      "outputs": []
    },
    {
      "cell_type": "code",
      "source": [
        "# Function to perform majority vote on the multi-class question\n",
        "def majority_vote_special(series):\n",
        "    counts = series.value_counts()\n",
        "    if counts.get('Yes, both', 0) > max(counts.get('Yes, visual', 0), counts.get('Yes, verbal', 0), counts.get('No', 0)):\n",
        "        return 'Yes, both'\n",
        "    elif counts.get('Yes, visual', 0) > max(counts.get('Yes, both', 0), counts.get('Yes, verbal', 0), counts.get('No', 0)):\n",
        "        return 'Yes, visual'\n",
        "    elif counts.get('Yes, verbal', 0) > max(counts.get('Yes, both', 0), counts.get('Yes, visual', 0), counts.get('No', 0)):\n",
        "        return 'Yes, verbal'\n",
        "    else:\n",
        "        return 'No'"
      ],
      "metadata": {
        "id": "4XxeV8aNpbp1"
      },
      "execution_count": 43,
      "outputs": []
    },
    {
      "cell_type": "code",
      "source": [
        "# Group the ground truth data by 'creative_data_id'\n",
        "grouped = ground_truth.groupby('creative_data_id')"
      ],
      "metadata": {
        "id": "gxY9C9W8pd_p"
      },
      "execution_count": 44,
      "outputs": []
    },
    {
      "cell_type": "code",
      "source": [
        "# Deduce the majority vote for each group and create a new DataFrame\n",
        "deduced_rows = []\n",
        "for creative_data_id, group in grouped:\n",
        "    deduced_row = {'creative_data_id': creative_data_id}\n",
        "    for column in ground_truth.columns:\n",
        "        if column != 'creative_data_id':\n",
        "            if column == 'Is there any verbal or visual mention of the price?':  # Replace with the actual column name\n",
        "                deduced_row[column] = majority_vote_special(group[column])\n",
        "            else:\n",
        "                deduced_row[column] = majority_vote(group[column])\n",
        "    deduced_rows.append(deduced_row)"
      ],
      "metadata": {
        "id": "2JBs1oQYphDI"
      },
      "execution_count": 45,
      "outputs": []
    },
    {
      "cell_type": "code",
      "source": [
        "# Create a new DataFrame from the deduced rows\n",
        "deduced_df = pd.DataFrame(deduced_rows)"
      ],
      "metadata": {
        "id": "57KFR7F1pjZM"
      },
      "execution_count": 46,
      "outputs": []
    },
    {
      "cell_type": "code",
      "source": [
        "# Save the deduced DataFrame to a CSV file\n",
        "deduced_df.to_csv('deduced_ground_truth.csv', index=False)"
      ],
      "metadata": {
        "id": "Y87kQ_jipmXV"
      },
      "execution_count": 47,
      "outputs": []
    },
    {
      "cell_type": "code",
      "source": [
        "# Print the shape (number of rows and columns) of the deduced DataFrame\n",
        "deduced_df.shape"
      ],
      "metadata": {
        "colab": {
          "base_uri": "https://localhost:8080/"
        },
        "id": "u5RXrb6dpojr",
        "outputId": "f9f8d1fc-b796-4612-857a-2860936f3d8e"
      },
      "execution_count": 48,
      "outputs": [
        {
          "output_type": "execute_result",
          "data": {
            "text/plain": [
              "(150, 22)"
            ]
          },
          "metadata": {},
          "execution_count": 48
        }
      ]
    },
    {
      "cell_type": "code",
      "source": [
        "# Print the column names of the deduced DataFrame\n",
        "deduced_df.columns"
      ],
      "metadata": {
        "colab": {
          "base_uri": "https://localhost:8080/"
        },
        "id": "fIPc9mnapq3V",
        "outputId": "a9c05ce4-bcc3-446a-e9a5-65ec27aca2d0"
      },
      "execution_count": 49,
      "outputs": [
        {
          "output_type": "execute_result",
          "data": {
            "text/plain": [
              "Index(['creative_data_id',\n",
              "       'Is there a call to go online (e.g., shop online, visit the Web)? ',\n",
              "       'Is there online contact information provided (e.g., URL, website)? ',\n",
              "       'Is there a visual or verbal call to purchase (e.g., buy now, order now)?',\n",
              "       'Does the ad portray a sense of urgency to act (e.g., buy before sales ends, order before ends)? ',\n",
              "       'Is there an incentive to buy (e.g., a discount, a coupon, a sale or \"limited time offer\")? ',\n",
              "       'Is there offline contact information provided (e.g., phone, mail, store location)?',\n",
              "       'Is there mention of something free? ',\n",
              "       'Does the ad mention at least one specific product or service (e.g., model, type, item)? ',\n",
              "       'Is there any verbal or visual mention of the price?',\n",
              "       'Does the ad show the brand (logo, brand name) or trademark (something that most people know is the brand) multiple times?\\n\\nFor example, Nike ads often have the \"swoosh\" logo prominently displayed on shoes and apparel worn by celebrity athletes. The \"Just Do It\" slogan is another Nike trademark frequently included.',\n",
              "       'Does the ad show the brand or trademark exactly once at the end of the ad?',\n",
              "       'Is the ad intended to affect the viewer emotionally, either with positive emotion (fun, joy), negative emotion (sad, anxious) or another type of emotion? (Note: You may not personally agree, but assess if that was the intention.)',\n",
              "       'Does the ad give you a positive feeling about the brand? ',\n",
              "       'Does the ad have a story arc, with a beginning and an end? ',\n",
              "       'Does the ad have a reversal of fortune, where something changes for the better, or changes for the worse?',\n",
              "       'Does the ad have relatable characters? ', 'Is the ad creative/clever?',\n",
              "       'Is the ad intended to be funny? (Note: You may not personally agree, but assess if that was the intention.) ',\n",
              "       'Does this ad provide sensory stimulation (e.g., cool visuals, arousing music, mouth-watering)? ',\n",
              "       'Is the ad visually pleasing?',\n",
              "       'Does the ad have cute elements like animals, babies, animated, characters, etc?'],\n",
              "      dtype='object')"
            ]
          },
          "metadata": {},
          "execution_count": 49
        }
      ]
    },
    {
      "cell_type": "code",
      "source": [
        "# Check the distribution of values in the 'creative_data_id' column of the deduced DataFrame\n",
        "deduced_df['creative_data_id'].value_counts()"
      ],
      "metadata": {
        "colab": {
          "base_uri": "https://localhost:8080/"
        },
        "id": "-elPmcRfpt19",
        "outputId": "da07de21-d158-4e55-c404-058fda71eaf1"
      },
      "execution_count": 50,
      "outputs": [
        {
          "output_type": "execute_result",
          "data": {
            "text/plain": [
              "creative_data_id\n",
              "1471363    1\n",
              "2592911    1\n",
              "2597996    1\n",
              "2612386    1\n",
              "2620437    1\n",
              "          ..\n",
              "2090919    1\n",
              "2142915    1\n",
              "2149098    1\n",
              "2150923    1\n",
              "3422482    1\n",
              "Name: count, Length: 150, dtype: int64"
            ]
          },
          "metadata": {},
          "execution_count": 50
        }
      ]
    },
    {
      "cell_type": "code",
      "source": [
        "# Check the distribution of values in the specific column of the deduced DataFrame\n",
        "deduced_df['Is there any verbal or visual mention of the price?'].value_counts()"
      ],
      "metadata": {
        "colab": {
          "base_uri": "https://localhost:8080/"
        },
        "id": "Q0ehcYJfpw_x",
        "outputId": "e0febd42-0583-4969-f53a-c42d78c62ae2"
      },
      "execution_count": 51,
      "outputs": [
        {
          "output_type": "execute_result",
          "data": {
            "text/plain": [
              "Is there any verbal or visual mention of the price?\n",
              "No             102\n",
              "Yes, both       40\n",
              "Yes, visual      8\n",
              "Name: count, dtype: int64"
            ]
          },
          "metadata": {},
          "execution_count": 51
        }
      ]
    },
    {
      "cell_type": "markdown",
      "source": [
        "# Part 2: Working with Video Data\n",
        "\n",
        "# This script processes video data by extracting frames and applying OCR to extract text from each frame.\n",
        "# It also cleans the textual data to prepare it for further analysis.\n"
      ],
      "metadata": {
        "id": "1vDfd_U8QWw7"
      }
    },
    {
      "cell_type": "code",
      "source": [
        "# Install necessary libraries for working with videos and text extraction\n",
        "!pip install torch torchvision torchaudio transformers pytesseract opencv-python-headless\n",
        "!apt-get install tesseract-ocr"
      ],
      "metadata": {
        "colab": {
          "base_uri": "https://localhost:8080/"
        },
        "id": "hjYhSdEop2QB",
        "outputId": "6c4c58de-fb8d-4af4-b923-fc98eafb4c49"
      },
      "execution_count": 53,
      "outputs": [
        {
          "output_type": "stream",
          "name": "stdout",
          "text": [
            "Requirement already satisfied: torch in /usr/local/lib/python3.10/dist-packages (2.3.0+cu121)\n",
            "Requirement already satisfied: torchvision in /usr/local/lib/python3.10/dist-packages (0.18.0+cu121)\n",
            "Requirement already satisfied: torchaudio in /usr/local/lib/python3.10/dist-packages (2.3.0+cu121)\n",
            "Requirement already satisfied: transformers in /usr/local/lib/python3.10/dist-packages (4.41.2)\n",
            "Collecting pytesseract\n",
            "  Downloading pytesseract-0.3.10-py3-none-any.whl (14 kB)\n",
            "Requirement already satisfied: opencv-python-headless in /usr/local/lib/python3.10/dist-packages (4.10.0.84)\n",
            "Requirement already satisfied: filelock in /usr/local/lib/python3.10/dist-packages (from torch) (3.15.4)\n",
            "Requirement already satisfied: typing-extensions>=4.8.0 in /usr/local/lib/python3.10/dist-packages (from torch) (4.12.2)\n",
            "Requirement already satisfied: sympy in /usr/local/lib/python3.10/dist-packages (from torch) (1.13.0)\n",
            "Requirement already satisfied: networkx in /usr/local/lib/python3.10/dist-packages (from torch) (3.3)\n",
            "Requirement already satisfied: jinja2 in /usr/local/lib/python3.10/dist-packages (from torch) (3.1.4)\n",
            "Requirement already satisfied: fsspec in /usr/local/lib/python3.10/dist-packages (from torch) (2023.6.0)\n",
            "Collecting nvidia-cuda-nvrtc-cu12==12.1.105 (from torch)\n",
            "  Using cached nvidia_cuda_nvrtc_cu12-12.1.105-py3-none-manylinux1_x86_64.whl (23.7 MB)\n",
            "Collecting nvidia-cuda-runtime-cu12==12.1.105 (from torch)\n",
            "  Using cached nvidia_cuda_runtime_cu12-12.1.105-py3-none-manylinux1_x86_64.whl (823 kB)\n",
            "Collecting nvidia-cuda-cupti-cu12==12.1.105 (from torch)\n",
            "  Using cached nvidia_cuda_cupti_cu12-12.1.105-py3-none-manylinux1_x86_64.whl (14.1 MB)\n",
            "Collecting nvidia-cudnn-cu12==8.9.2.26 (from torch)\n",
            "  Using cached nvidia_cudnn_cu12-8.9.2.26-py3-none-manylinux1_x86_64.whl (731.7 MB)\n",
            "Collecting nvidia-cublas-cu12==12.1.3.1 (from torch)\n",
            "  Using cached nvidia_cublas_cu12-12.1.3.1-py3-none-manylinux1_x86_64.whl (410.6 MB)\n",
            "Collecting nvidia-cufft-cu12==11.0.2.54 (from torch)\n",
            "  Using cached nvidia_cufft_cu12-11.0.2.54-py3-none-manylinux1_x86_64.whl (121.6 MB)\n",
            "Collecting nvidia-curand-cu12==10.3.2.106 (from torch)\n",
            "  Using cached nvidia_curand_cu12-10.3.2.106-py3-none-manylinux1_x86_64.whl (56.5 MB)\n",
            "Collecting nvidia-cusolver-cu12==11.4.5.107 (from torch)\n",
            "  Using cached nvidia_cusolver_cu12-11.4.5.107-py3-none-manylinux1_x86_64.whl (124.2 MB)\n",
            "Collecting nvidia-cusparse-cu12==12.1.0.106 (from torch)\n",
            "  Using cached nvidia_cusparse_cu12-12.1.0.106-py3-none-manylinux1_x86_64.whl (196.0 MB)\n",
            "Collecting nvidia-nccl-cu12==2.20.5 (from torch)\n",
            "  Using cached nvidia_nccl_cu12-2.20.5-py3-none-manylinux2014_x86_64.whl (176.2 MB)\n",
            "Collecting nvidia-nvtx-cu12==12.1.105 (from torch)\n",
            "  Using cached nvidia_nvtx_cu12-12.1.105-py3-none-manylinux1_x86_64.whl (99 kB)\n",
            "Requirement already satisfied: triton==2.3.0 in /usr/local/lib/python3.10/dist-packages (from torch) (2.3.0)\n",
            "Collecting nvidia-nvjitlink-cu12 (from nvidia-cusolver-cu12==11.4.5.107->torch)\n",
            "  Downloading nvidia_nvjitlink_cu12-12.5.82-py3-none-manylinux2014_x86_64.whl (21.3 MB)\n",
            "\u001b[2K     \u001b[90m━━━━━━━━━━━━━━━━━━━━━━━━━━━━━━━━━━━━━━━━\u001b[0m \u001b[32m21.3/21.3 MB\u001b[0m \u001b[31m79.9 MB/s\u001b[0m eta \u001b[36m0:00:00\u001b[0m\n",
            "\u001b[?25hRequirement already satisfied: numpy in /usr/local/lib/python3.10/dist-packages (from torchvision) (1.25.2)\n",
            "Requirement already satisfied: pillow!=8.3.*,>=5.3.0 in /usr/local/lib/python3.10/dist-packages (from torchvision) (9.4.0)\n",
            "Requirement already satisfied: huggingface-hub<1.0,>=0.23.0 in /usr/local/lib/python3.10/dist-packages (from transformers) (0.23.4)\n",
            "Requirement already satisfied: packaging>=20.0 in /usr/local/lib/python3.10/dist-packages (from transformers) (24.1)\n",
            "Requirement already satisfied: pyyaml>=5.1 in /usr/local/lib/python3.10/dist-packages (from transformers) (6.0.1)\n",
            "Requirement already satisfied: regex!=2019.12.17 in /usr/local/lib/python3.10/dist-packages (from transformers) (2024.5.15)\n",
            "Requirement already satisfied: requests in /usr/local/lib/python3.10/dist-packages (from transformers) (2.31.0)\n",
            "Requirement already satisfied: tokenizers<0.20,>=0.19 in /usr/local/lib/python3.10/dist-packages (from transformers) (0.19.1)\n",
            "Requirement already satisfied: safetensors>=0.4.1 in /usr/local/lib/python3.10/dist-packages (from transformers) (0.4.3)\n",
            "Requirement already satisfied: tqdm>=4.27 in /usr/local/lib/python3.10/dist-packages (from transformers) (4.66.4)\n",
            "Requirement already satisfied: MarkupSafe>=2.0 in /usr/local/lib/python3.10/dist-packages (from jinja2->torch) (2.1.5)\n",
            "Requirement already satisfied: charset-normalizer<4,>=2 in /usr/local/lib/python3.10/dist-packages (from requests->transformers) (3.3.2)\n",
            "Requirement already satisfied: idna<4,>=2.5 in /usr/local/lib/python3.10/dist-packages (from requests->transformers) (3.7)\n",
            "Requirement already satisfied: urllib3<3,>=1.21.1 in /usr/local/lib/python3.10/dist-packages (from requests->transformers) (2.0.7)\n",
            "Requirement already satisfied: certifi>=2017.4.17 in /usr/local/lib/python3.10/dist-packages (from requests->transformers) (2024.7.4)\n",
            "Requirement already satisfied: mpmath<1.4,>=1.1.0 in /usr/local/lib/python3.10/dist-packages (from sympy->torch) (1.3.0)\n",
            "Installing collected packages: pytesseract, nvidia-nvtx-cu12, nvidia-nvjitlink-cu12, nvidia-nccl-cu12, nvidia-curand-cu12, nvidia-cufft-cu12, nvidia-cuda-runtime-cu12, nvidia-cuda-nvrtc-cu12, nvidia-cuda-cupti-cu12, nvidia-cublas-cu12, nvidia-cusparse-cu12, nvidia-cudnn-cu12, nvidia-cusolver-cu12\n",
            "Successfully installed nvidia-cublas-cu12-12.1.3.1 nvidia-cuda-cupti-cu12-12.1.105 nvidia-cuda-nvrtc-cu12-12.1.105 nvidia-cuda-runtime-cu12-12.1.105 nvidia-cudnn-cu12-8.9.2.26 nvidia-cufft-cu12-11.0.2.54 nvidia-curand-cu12-10.3.2.106 nvidia-cusolver-cu12-11.4.5.107 nvidia-cusparse-cu12-12.1.0.106 nvidia-nccl-cu12-2.20.5 nvidia-nvjitlink-cu12-12.5.82 nvidia-nvtx-cu12-12.1.105 pytesseract-0.3.10\n",
            "Reading package lists... Done\n",
            "Building dependency tree... Done\n",
            "Reading state information... Done\n",
            "The following additional packages will be installed:\n",
            "  tesseract-ocr-eng tesseract-ocr-osd\n",
            "The following NEW packages will be installed:\n",
            "  tesseract-ocr tesseract-ocr-eng tesseract-ocr-osd\n",
            "0 upgraded, 3 newly installed, 0 to remove and 45 not upgraded.\n",
            "Need to get 4,816 kB of archives.\n",
            "After this operation, 15.6 MB of additional disk space will be used.\n",
            "Get:1 http://archive.ubuntu.com/ubuntu jammy/universe amd64 tesseract-ocr-eng all 1:4.00~git30-7274cfa-1.1 [1,591 kB]\n",
            "Get:2 http://archive.ubuntu.com/ubuntu jammy/universe amd64 tesseract-ocr-osd all 1:4.00~git30-7274cfa-1.1 [2,990 kB]\n",
            "Get:3 http://archive.ubuntu.com/ubuntu jammy/universe amd64 tesseract-ocr amd64 4.1.1-2.1build1 [236 kB]\n",
            "Fetched 4,816 kB in 0s (26.9 MB/s)\n",
            "Selecting previously unselected package tesseract-ocr-eng.\n",
            "(Reading database ... 123586 files and directories currently installed.)\n",
            "Preparing to unpack .../tesseract-ocr-eng_1%3a4.00~git30-7274cfa-1.1_all.deb ...\n",
            "Unpacking tesseract-ocr-eng (1:4.00~git30-7274cfa-1.1) ...\n",
            "Selecting previously unselected package tesseract-ocr-osd.\n",
            "Preparing to unpack .../tesseract-ocr-osd_1%3a4.00~git30-7274cfa-1.1_all.deb ...\n",
            "Unpacking tesseract-ocr-osd (1:4.00~git30-7274cfa-1.1) ...\n",
            "Selecting previously unselected package tesseract-ocr.\n",
            "Preparing to unpack .../tesseract-ocr_4.1.1-2.1build1_amd64.deb ...\n",
            "Unpacking tesseract-ocr (4.1.1-2.1build1) ...\n",
            "Setting up tesseract-ocr-eng (1:4.00~git30-7274cfa-1.1) ...\n",
            "Setting up tesseract-ocr-osd (1:4.00~git30-7274cfa-1.1) ...\n",
            "Setting up tesseract-ocr (4.1.1-2.1build1) ...\n",
            "Processing triggers for man-db (2.10.2-1) ...\n"
          ]
        }
      ]
    },
    {
      "cell_type": "code",
      "source": [
        "import os\n",
        "print(os.listdir('.'))"
      ],
      "metadata": {
        "colab": {
          "base_uri": "https://localhost:8080/"
        },
        "id": "LJAixFvZp4-7",
        "outputId": "36210b6d-aa79-426d-ea6b-724f40cfda35"
      },
      "execution_count": 54,
      "outputs": [
        {
          "output_type": "stream",
          "name": "stdout",
          "text": [
            "['.config', 'drive', 'deduced_ground_truth.csv', 'Sample.csv', 'groundtruth.csv', 'sample_data']\n"
          ]
        }
      ]
    },
    {
      "cell_type": "code",
      "source": [
        "import pandas as pd\n",
        "import nltk\n",
        "import string\n",
        "from nltk.corpus import stopwords\n",
        "from nltk.tokenize import word_tokenize\n",
        "\n",
        "# Ensure you have the necessary nltk packages\n",
        "nltk.download('stopwords')\n",
        "nltk.download('punkt')\n",
        "\n",
        "# Function to clean text\n",
        "def clean_text(text):\n",
        "    if pd.isna(text):\n",
        "        return \"\"\n",
        "    text = text.translate(str.maketrans('', '', string.punctuation))\n",
        "    text = text.lower()\n",
        "    stop_words = set(stopwords.words('english'))\n",
        "    words = word_tokenize(text)\n",
        "    text = ' '.join([word for word in words if word not in stop_words])\n",
        "    return text\n",
        "\n",
        "# Apply the function to clean the text columns\n",
        "text_data['cleaned_description'] = text_data['creative_data_description'].apply(clean_text)\n",
        "text_data['cleaned_speech'] = text_data['speech'].apply(clean_text)\n",
        "\n",
        "# Display the cleaned text\n",
        "print(\"Cleaned Descriptions:\")\n",
        "print(text_data['cleaned_description'].head())\n",
        "print(\"\\nCleaned Speech Text:\")\n",
        "print(text_data['cleaned_speech'].head())"
      ],
      "metadata": {
        "colab": {
          "base_uri": "https://localhost:8080/"
        },
        "id": "Q47uvnMqp8XP",
        "outputId": "0cbe264e-bbcb-4593-bce3-98de36270cd9"
      },
      "execution_count": 55,
      "outputs": [
        {
          "output_type": "stream",
          "name": "stderr",
          "text": [
            "[nltk_data] Downloading package stopwords to /root/nltk_data...\n",
            "[nltk_data]   Unzipping corpora/stopwords.zip.\n",
            "[nltk_data] Downloading package punkt to /root/nltk_data...\n",
            "[nltk_data]   Unzipping tokenizers/punkt.zip.\n"
          ]
        },
        {
          "output_type": "stream",
          "name": "stdout",
          "text": [
            "Cleaned Descriptions:\n",
            "0    kim going state farm drive safe save discount ...\n",
            "1    uncomfortable shabby apartment roommate seems ...\n",
            "2    flonase guesses wouldnt accept incomplete job ...\n",
            "3    progressive box starts vlog takes videos amazi...\n",
            "4    chevrolet owners tell stories silverados taken...\n",
            "Name: cleaned_description, dtype: object\n",
            "\n",
            "Cleaned Speech Text:\n",
            "0    kim going big drive safe save discount yep usi...\n",
            "1    check credit scores free learn improve credit ...\n",
            "2    wouldnt accept incomplete job anyone else acce...\n",
            "3    subword box 30 savings safe drivers coming bra...\n",
            "4    got scar tissue thing dings truck story happen...\n",
            "Name: cleaned_speech, dtype: object\n"
          ]
        }
      ]
    },
    {
      "cell_type": "code",
      "source": [
        "import cv2\n",
        "import pytesseract\n",
        "import os\n",
        "import pandas as pd"
      ],
      "metadata": {
        "id": "qpk1tC1pp_Qg"
      },
      "execution_count": 56,
      "outputs": []
    },
    {
      "cell_type": "code",
      "source": [
        "# Function to extract frames from a video and apply OCR to extract text from each frame\n",
        "def extract_frames_and_ocr(video_path):\n",
        "    cap = cv2.VideoCapture(video_path)\n",
        "    ocr_text = []\n",
        "    frame_count = 0\n",
        "\n",
        "    while cap.isOpened():\n",
        "        ret, frame = cap.read()\n",
        "        if not ret:\n",
        "            break\n",
        "        if frame_count % 30 == 0:  # Extract one frame per second (assuming 30 FPS)\n",
        "            text = pytesseract.image_to_string(frame)\n",
        "            ocr_text.append(text)\n",
        "        frame_count += 1\n",
        "\n",
        "    cap.release()\n",
        "    return ' '.join(ocr_text)"
      ],
      "metadata": {
        "id": "yKZXCe_KqB4j"
      },
      "execution_count": 57,
      "outputs": []
    },
    {
      "cell_type": "code",
      "source": [
        "# Define the directory containing the video files\n",
        "video_dir = '/content/drive/MyDrive/sample'"
      ],
      "metadata": {
        "id": "H1dU4guMqEhj"
      },
      "execution_count": 58,
      "outputs": []
    },
    {
      "cell_type": "code",
      "source": [
        "# Process each video file in the directory\n",
        "video_data = []\n",
        "for video_file in os.listdir(video_dir):\n",
        "    if video_file.endswith('.mp4'):\n",
        "        video_path = os.path.join(video_dir, video_file)\n",
        "        video_text = extract_frames_and_ocr(video_path)\n",
        "        video_id = os.path.splitext(video_file)[0]\n",
        "        video_data.append({'video_id': video_id, 'video_text': video_text})\n"
      ],
      "metadata": {
        "id": "qsxDDbsIqG8N"
      },
      "execution_count": 59,
      "outputs": []
    },
    {
      "cell_type": "code",
      "source": [
        "# Mount Google Drive to access video files\n",
        "from google.colab import drive\n",
        "drive.mount('/content/drive')"
      ],
      "metadata": {
        "colab": {
          "base_uri": "https://localhost:8080/"
        },
        "id": "Mx9ROoF7qJ--",
        "outputId": "94dde45c-7771-4895-c440-622e04f5d10d"
      },
      "execution_count": 1,
      "outputs": [
        {
          "output_type": "stream",
          "name": "stdout",
          "text": [
            "Mounted at /content/drive\n"
          ]
        }
      ]
    },
    {
      "cell_type": "code",
      "source": [
        "# Create a DataFrame to store the extracted video text data\n",
        "video_data_df = pd.DataFrame(video_data)"
      ],
      "metadata": {
        "id": "ZZXIQ7K_0YSe"
      },
      "execution_count": 60,
      "outputs": []
    },
    {
      "cell_type": "code",
      "source": [
        "# Display the shape (number of rows and columns) of the video data DataFrame\n",
        "video_data_df.shape"
      ],
      "metadata": {
        "colab": {
          "base_uri": "https://localhost:8080/"
        },
        "id": "DuIhxKUF0a6J",
        "outputId": "997f23de-81f6-40a5-9c04-4530672918a8"
      },
      "execution_count": 61,
      "outputs": [
        {
          "output_type": "execute_result",
          "data": {
            "text/plain": [
              "(150, 2)"
            ]
          },
          "metadata": {},
          "execution_count": 61
        }
      ]
    },
    {
      "cell_type": "code",
      "source": [
        "# Display the column names of the video data DataFrame\n",
        "video_data_df.columns"
      ],
      "metadata": {
        "colab": {
          "base_uri": "https://localhost:8080/"
        },
        "id": "JTJF0cGy0fL0",
        "outputId": "a269d984-8f72-49f0-e7a6-04ae56967d74"
      },
      "execution_count": 62,
      "outputs": [
        {
          "output_type": "execute_result",
          "data": {
            "text/plain": [
              "Index(['video_id', 'video_text'], dtype='object')"
            ]
          },
          "metadata": {},
          "execution_count": 62
        }
      ]
    },
    {
      "cell_type": "code",
      "source": [
        "# Check the distribution of values in the 'video_id' column of the video data DataFrame\n",
        "video_data_df['video_id'].value_counts()"
      ],
      "metadata": {
        "colab": {
          "base_uri": "https://localhost:8080/"
        },
        "id": "Jw26hy-M0gPc",
        "outputId": "eb395a58-4b76-4b52-b840-fe912467b62f"
      },
      "execution_count": 63,
      "outputs": [
        {
          "output_type": "execute_result",
          "data": {
            "text/plain": [
              "video_id\n",
              "2194673    1\n",
              "3066063    1\n",
              "2418354    1\n",
              "2597996    1\n",
              "3265336    1\n",
              "          ..\n",
              "2544459    1\n",
              "1676138    1\n",
              "2507887    1\n",
              "1788954    1\n",
              "3326009    1\n",
              "Name: count, Length: 150, dtype: int64"
            ]
          },
          "metadata": {},
          "execution_count": 63
        }
      ]
    },
    {
      "cell_type": "markdown",
      "source": [
        "# Part 3: Merging Video and Textual Data\n",
        "\n",
        "# This script merges the extracted video data with the cleaned textual data,\n",
        "# applies zero-shot classification to predict answers to predefined questions,\n",
        "# and evaluates the predictions against deduced ground truth data."
      ],
      "metadata": {
        "id": "3mFOUR5ZUVfx"
      }
    },
    {
      "cell_type": "code",
      "source": [
        "\n",
        "text_data['creative_data_id']"
      ],
      "metadata": {
        "colab": {
          "base_uri": "https://localhost:8080/"
        },
        "id": "9TIYhcXe00ig",
        "outputId": "71ae1994-a48c-43df-80ca-09031edb1d85"
      },
      "execution_count": 65,
      "outputs": [
        {
          "output_type": "execute_result",
          "data": {
            "text/plain": [
              "0      2194673\n",
              "1      2142915\n",
              "2      1702851\n",
              "3      1671980\n",
              "4      1749291\n",
              "        ...   \n",
              "145    2755227\n",
              "146    2259242\n",
              "147    3124938\n",
              "148    3264190\n",
              "149    3326009\n",
              "Name: creative_data_id, Length: 150, dtype: int64"
            ]
          },
          "metadata": {},
          "execution_count": 65
        }
      ]
    },
    {
      "cell_type": "code",
      "source": [
        "# Convert the 'video_id' in video_data_df to integer for merging\n",
        "video_data_df['video_id'] = video_data_df['video_id'].astype(int)"
      ],
      "metadata": {
        "id": "6C0bplP302-h"
      },
      "execution_count": 66,
      "outputs": []
    },
    {
      "cell_type": "code",
      "source": [
        "# Convert the 'creative_data_id' in text_data to integer for merging\n",
        "text_data['creative_data_id'] = text_data['creative_data_id'].astype(int)"
      ],
      "metadata": {
        "id": "nHEunUQE05gx"
      },
      "execution_count": 67,
      "outputs": []
    },
    {
      "cell_type": "code",
      "source": [
        "# Merge video data with text data on matching IDs\n",
        "merged_data = pd.merge(video_data_df, text_data, left_on='video_id', right_on='creative_data_id')"
      ],
      "metadata": {
        "id": "HdjwAAbP071I"
      },
      "execution_count": 68,
      "outputs": []
    },
    {
      "cell_type": "code",
      "source": [
        "# Display the shape of the merged DataFrame\n",
        "merged_data.shape"
      ],
      "metadata": {
        "colab": {
          "base_uri": "https://localhost:8080/"
        },
        "id": "yjiIsGr0099Z",
        "outputId": "aa285868-e19d-4e44-bbc2-bcce0d8c75b9"
      },
      "execution_count": 69,
      "outputs": [
        {
          "output_type": "execute_result",
          "data": {
            "text/plain": [
              "(150, 13)"
            ]
          },
          "metadata": {},
          "execution_count": 69
        }
      ]
    },
    {
      "cell_type": "code",
      "source": [
        "# Display the first few rows of the merged DataFrame\n",
        "merged_data.head()"
      ],
      "metadata": {
        "colab": {
          "base_uri": "https://localhost:8080/",
          "height": 608
        },
        "id": "1CJ1sTVM1AXU",
        "outputId": "e8024b39-be62-4943-b911-e63e0662677d"
      },
      "execution_count": 70,
      "outputs": [
        {
          "output_type": "execute_result",
          "data": {
            "text/plain": [
              "   video_id                                         video_text  \\\n",
              "0   2194673  \n",
              "  \\n\n",
              "  \\n\n",
              "  \\n\n",
              "  \\n\n",
              "  \\n\n",
              "  \\n\n",
              "  \\n\n",
              "  \\n\n",
              "  \\n\n",
              "...   \n",
              "1   2142915  \n",
              " bi\\n=\\n\\ncredit karma\\n\\n \\n\n",
              "    \\n\\ncredit ...   \n",
              "2   1671980   \\n\n",
              "  \\n\n",
              "   \\n\\na P\\n=, IR AC eR TU) accidents...   \n",
              "3   1702851   \\n\\n>\\n\\n‘te -\\n\\nom\\n«a\\n\\n \\n\n",
              "  \\n\\n- - * o...   \n",
              "4   2381477   \\n\n",
              "  \\n\n",
              "  \\n\\n5\\n4\\n8\\n§\\n~\\nA\\nH\\n3\\nA\\n4\\nE...   \n",
              "\n",
              "   creative_data_id                            creative_data_title  \\\n",
              "0           2194673                   30s Kim's Discount - 2194673   \n",
              "1           2142915                         30s New Flat - 2142915   \n",
              "2           1671980                         30s Box Vlog - 1671980   \n",
              "3           1702851  30s Most Pills Don't Finish the Job - 1702851   \n",
              "4           2381477                   30s Matching Socks - 2381477   \n",
              "\n",
              "                           creative_data_description  creative_data_duration  \\\n",
              "0  Kim is going for the State Farm Drive Safe & S...                      30   \n",
              "1  Uncomfortable with her shabby apartment and ro...                      30   \n",
              "2  The Progressive Box starts his own vlog as he ...                      30   \n",
              "3  Flonase guesses you wouldn't accept an incompl...                      30   \n",
              "4  GEICO Customer Erin M. switched to GEICO Car I...                      30   \n",
              "\n",
              "   creative_data_lifetime_spend_estimated  \\\n",
              "0                             29789808.73   \n",
              "1                              5423001.70   \n",
              "2                             44909836.61   \n",
              "3                             23072716.78   \n",
              "4                             11445395.80   \n",
              "\n",
              "   creative_data_lifetime_airings_count creative_data_airing_date_first_et  \\\n",
              "0                                 13949          2019-04-06T22:19:06-04:00   \n",
              "1                                 10132          2019-03-04T06:49:02-05:00   \n",
              "2                                  7766          2018-01-01T00:17:22-05:00   \n",
              "3                                  8491          2018-02-19T07:42:14-05:00   \n",
              "4                                  4530          2019-08-12T03:49:10-04:00   \n",
              "\n",
              "  creative_data_airing_date_last_et  \\\n",
              "0         2020-08-04T18:42:50-04:00   \n",
              "1         2021-08-03T11:12:36-04:00   \n",
              "2         2018-06-10T15:53:15-04:00   \n",
              "3         2020-06-01T04:22:16-04:00   \n",
              "4         2019-10-11T12:50:11-04:00   \n",
              "\n",
              "                                              speech  \\\n",
              "0  So Kim, you going for a big drive safe and sav...   \n",
              "1  Check your credit scores for free and learn ho...   \n",
              "2  Subword. It's the box with 30% savings for saf...   \n",
              "3  You wouldn't accept an incomplete job from any...   \n",
              "4  I saved hundreds when I switched my car insura...   \n",
              "\n",
              "                                 cleaned_description  \\\n",
              "0  kim going state farm drive safe save discount ...   \n",
              "1  uncomfortable shabby apartment roommate seems ...   \n",
              "2  progressive box starts vlog takes videos amazi...   \n",
              "3  flonase guesses wouldnt accept incomplete job ...   \n",
              "4  geico customer erin switched geico car insuran...   \n",
              "\n",
              "                                      cleaned_speech  \n",
              "0  kim going big drive safe save discount yep usi...  \n",
              "1  check credit scores free learn improve credit ...  \n",
              "2  subword box 30 savings safe drivers coming bra...  \n",
              "3  wouldnt accept incomplete job anyone else acce...  \n",
              "4  saved hundreds switched car insurance geico ma...  "
            ],
            "text/html": [
              "\n",
              "  <div id=\"df-50262f0c-9d20-4bbd-a7fb-9fcae6af2818\" class=\"colab-df-container\">\n",
              "    <div>\n",
              "<style scoped>\n",
              "    .dataframe tbody tr th:only-of-type {\n",
              "        vertical-align: middle;\n",
              "    }\n",
              "\n",
              "    .dataframe tbody tr th {\n",
              "        vertical-align: top;\n",
              "    }\n",
              "\n",
              "    .dataframe thead th {\n",
              "        text-align: right;\n",
              "    }\n",
              "</style>\n",
              "<table border=\"1\" class=\"dataframe\">\n",
              "  <thead>\n",
              "    <tr style=\"text-align: right;\">\n",
              "      <th></th>\n",
              "      <th>video_id</th>\n",
              "      <th>video_text</th>\n",
              "      <th>creative_data_id</th>\n",
              "      <th>creative_data_title</th>\n",
              "      <th>creative_data_description</th>\n",
              "      <th>creative_data_duration</th>\n",
              "      <th>creative_data_lifetime_spend_estimated</th>\n",
              "      <th>creative_data_lifetime_airings_count</th>\n",
              "      <th>creative_data_airing_date_first_et</th>\n",
              "      <th>creative_data_airing_date_last_et</th>\n",
              "      <th>speech</th>\n",
              "      <th>cleaned_description</th>\n",
              "      <th>cleaned_speech</th>\n",
              "    </tr>\n",
              "  </thead>\n",
              "  <tbody>\n",
              "    <tr>\n",
              "      <th>0</th>\n",
              "      <td>2194673</td>\n",
              "      <td>\\n\f  \\n\f  \\n\f  \\n\f  \\n\f  \\n\f  \\n\f  \\n\f  \\n\f...</td>\n",
              "      <td>2194673</td>\n",
              "      <td>30s Kim's Discount - 2194673</td>\n",
              "      <td>Kim is going for the State Farm Drive Safe &amp; S...</td>\n",
              "      <td>30</td>\n",
              "      <td>29789808.73</td>\n",
              "      <td>13949</td>\n",
              "      <td>2019-04-06T22:19:06-04:00</td>\n",
              "      <td>2020-08-04T18:42:50-04:00</td>\n",
              "      <td>So Kim, you going for a big drive safe and sav...</td>\n",
              "      <td>kim going state farm drive safe save discount ...</td>\n",
              "      <td>kim going big drive safe save discount yep usi...</td>\n",
              "    </tr>\n",
              "    <tr>\n",
              "      <th>1</th>\n",
              "      <td>2142915</td>\n",
              "      <td>bi\\n=\\n\\ncredit karma\\n\\n \\n\f    \\n\\ncredit ...</td>\n",
              "      <td>2142915</td>\n",
              "      <td>30s New Flat - 2142915</td>\n",
              "      <td>Uncomfortable with her shabby apartment and ro...</td>\n",
              "      <td>30</td>\n",
              "      <td>5423001.70</td>\n",
              "      <td>10132</td>\n",
              "      <td>2019-03-04T06:49:02-05:00</td>\n",
              "      <td>2021-08-03T11:12:36-04:00</td>\n",
              "      <td>Check your credit scores for free and learn ho...</td>\n",
              "      <td>uncomfortable shabby apartment roommate seems ...</td>\n",
              "      <td>check credit scores free learn improve credit ...</td>\n",
              "    </tr>\n",
              "    <tr>\n",
              "      <th>2</th>\n",
              "      <td>1671980</td>\n",
              "      <td>\\n\f  \\n\f   \\n\\na P\\n=, IR AC eR TU) accidents...</td>\n",
              "      <td>1671980</td>\n",
              "      <td>30s Box Vlog - 1671980</td>\n",
              "      <td>The Progressive Box starts his own vlog as he ...</td>\n",
              "      <td>30</td>\n",
              "      <td>44909836.61</td>\n",
              "      <td>7766</td>\n",
              "      <td>2018-01-01T00:17:22-05:00</td>\n",
              "      <td>2018-06-10T15:53:15-04:00</td>\n",
              "      <td>Subword. It's the box with 30% savings for saf...</td>\n",
              "      <td>progressive box starts vlog takes videos amazi...</td>\n",
              "      <td>subword box 30 savings safe drivers coming bra...</td>\n",
              "    </tr>\n",
              "    <tr>\n",
              "      <th>3</th>\n",
              "      <td>1702851</td>\n",
              "      <td>\\n\\n&gt;\\n\\n‘te -\\n\\nom\\n«a\\n\\n \\n\f  \\n\\n- - * o...</td>\n",
              "      <td>1702851</td>\n",
              "      <td>30s Most Pills Don't Finish the Job - 1702851</td>\n",
              "      <td>Flonase guesses you wouldn't accept an incompl...</td>\n",
              "      <td>30</td>\n",
              "      <td>23072716.78</td>\n",
              "      <td>8491</td>\n",
              "      <td>2018-02-19T07:42:14-05:00</td>\n",
              "      <td>2020-06-01T04:22:16-04:00</td>\n",
              "      <td>You wouldn't accept an incomplete job from any...</td>\n",
              "      <td>flonase guesses wouldnt accept incomplete job ...</td>\n",
              "      <td>wouldnt accept incomplete job anyone else acce...</td>\n",
              "    </tr>\n",
              "    <tr>\n",
              "      <th>4</th>\n",
              "      <td>2381477</td>\n",
              "      <td>\\n\f  \\n\f  \\n\\n5\\n4\\n8\\n§\\n~\\nA\\nH\\n3\\nA\\n4\\nE...</td>\n",
              "      <td>2381477</td>\n",
              "      <td>30s Matching Socks - 2381477</td>\n",
              "      <td>GEICO Customer Erin M. switched to GEICO Car I...</td>\n",
              "      <td>30</td>\n",
              "      <td>11445395.80</td>\n",
              "      <td>4530</td>\n",
              "      <td>2019-08-12T03:49:10-04:00</td>\n",
              "      <td>2019-10-11T12:50:11-04:00</td>\n",
              "      <td>I saved hundreds when I switched my car insura...</td>\n",
              "      <td>geico customer erin switched geico car insuran...</td>\n",
              "      <td>saved hundreds switched car insurance geico ma...</td>\n",
              "    </tr>\n",
              "  </tbody>\n",
              "</table>\n",
              "</div>\n",
              "    <div class=\"colab-df-buttons\">\n",
              "\n",
              "  <div class=\"colab-df-container\">\n",
              "    <button class=\"colab-df-convert\" onclick=\"convertToInteractive('df-50262f0c-9d20-4bbd-a7fb-9fcae6af2818')\"\n",
              "            title=\"Convert this dataframe to an interactive table.\"\n",
              "            style=\"display:none;\">\n",
              "\n",
              "  <svg xmlns=\"http://www.w3.org/2000/svg\" height=\"24px\" viewBox=\"0 -960 960 960\">\n",
              "    <path d=\"M120-120v-720h720v720H120Zm60-500h600v-160H180v160Zm220 220h160v-160H400v160Zm0 220h160v-160H400v160ZM180-400h160v-160H180v160Zm440 0h160v-160H620v160ZM180-180h160v-160H180v160Zm440 0h160v-160H620v160Z\"/>\n",
              "  </svg>\n",
              "    </button>\n",
              "\n",
              "  <style>\n",
              "    .colab-df-container {\n",
              "      display:flex;\n",
              "      gap: 12px;\n",
              "    }\n",
              "\n",
              "    .colab-df-convert {\n",
              "      background-color: #E8F0FE;\n",
              "      border: none;\n",
              "      border-radius: 50%;\n",
              "      cursor: pointer;\n",
              "      display: none;\n",
              "      fill: #1967D2;\n",
              "      height: 32px;\n",
              "      padding: 0 0 0 0;\n",
              "      width: 32px;\n",
              "    }\n",
              "\n",
              "    .colab-df-convert:hover {\n",
              "      background-color: #E2EBFA;\n",
              "      box-shadow: 0px 1px 2px rgba(60, 64, 67, 0.3), 0px 1px 3px 1px rgba(60, 64, 67, 0.15);\n",
              "      fill: #174EA6;\n",
              "    }\n",
              "\n",
              "    .colab-df-buttons div {\n",
              "      margin-bottom: 4px;\n",
              "    }\n",
              "\n",
              "    [theme=dark] .colab-df-convert {\n",
              "      background-color: #3B4455;\n",
              "      fill: #D2E3FC;\n",
              "    }\n",
              "\n",
              "    [theme=dark] .colab-df-convert:hover {\n",
              "      background-color: #434B5C;\n",
              "      box-shadow: 0px 1px 3px 1px rgba(0, 0, 0, 0.15);\n",
              "      filter: drop-shadow(0px 1px 2px rgba(0, 0, 0, 0.3));\n",
              "      fill: #FFFFFF;\n",
              "    }\n",
              "  </style>\n",
              "\n",
              "    <script>\n",
              "      const buttonEl =\n",
              "        document.querySelector('#df-50262f0c-9d20-4bbd-a7fb-9fcae6af2818 button.colab-df-convert');\n",
              "      buttonEl.style.display =\n",
              "        google.colab.kernel.accessAllowed ? 'block' : 'none';\n",
              "\n",
              "      async function convertToInteractive(key) {\n",
              "        const element = document.querySelector('#df-50262f0c-9d20-4bbd-a7fb-9fcae6af2818');\n",
              "        const dataTable =\n",
              "          await google.colab.kernel.invokeFunction('convertToInteractive',\n",
              "                                                    [key], {});\n",
              "        if (!dataTable) return;\n",
              "\n",
              "        const docLinkHtml = 'Like what you see? Visit the ' +\n",
              "          '<a target=\"_blank\" href=https://colab.research.google.com/notebooks/data_table.ipynb>data table notebook</a>'\n",
              "          + ' to learn more about interactive tables.';\n",
              "        element.innerHTML = '';\n",
              "        dataTable['output_type'] = 'display_data';\n",
              "        await google.colab.output.renderOutput(dataTable, element);\n",
              "        const docLink = document.createElement('div');\n",
              "        docLink.innerHTML = docLinkHtml;\n",
              "        element.appendChild(docLink);\n",
              "      }\n",
              "    </script>\n",
              "  </div>\n",
              "\n",
              "\n",
              "<div id=\"df-9a8dc691-f25e-403d-a24e-b2a80b7cd03d\">\n",
              "  <button class=\"colab-df-quickchart\" onclick=\"quickchart('df-9a8dc691-f25e-403d-a24e-b2a80b7cd03d')\"\n",
              "            title=\"Suggest charts\"\n",
              "            style=\"display:none;\">\n",
              "\n",
              "<svg xmlns=\"http://www.w3.org/2000/svg\" height=\"24px\"viewBox=\"0 0 24 24\"\n",
              "     width=\"24px\">\n",
              "    <g>\n",
              "        <path d=\"M19 3H5c-1.1 0-2 .9-2 2v14c0 1.1.9 2 2 2h14c1.1 0 2-.9 2-2V5c0-1.1-.9-2-2-2zM9 17H7v-7h2v7zm4 0h-2V7h2v10zm4 0h-2v-4h2v4z\"/>\n",
              "    </g>\n",
              "</svg>\n",
              "  </button>\n",
              "\n",
              "<style>\n",
              "  .colab-df-quickchart {\n",
              "      --bg-color: #E8F0FE;\n",
              "      --fill-color: #1967D2;\n",
              "      --hover-bg-color: #E2EBFA;\n",
              "      --hover-fill-color: #174EA6;\n",
              "      --disabled-fill-color: #AAA;\n",
              "      --disabled-bg-color: #DDD;\n",
              "  }\n",
              "\n",
              "  [theme=dark] .colab-df-quickchart {\n",
              "      --bg-color: #3B4455;\n",
              "      --fill-color: #D2E3FC;\n",
              "      --hover-bg-color: #434B5C;\n",
              "      --hover-fill-color: #FFFFFF;\n",
              "      --disabled-bg-color: #3B4455;\n",
              "      --disabled-fill-color: #666;\n",
              "  }\n",
              "\n",
              "  .colab-df-quickchart {\n",
              "    background-color: var(--bg-color);\n",
              "    border: none;\n",
              "    border-radius: 50%;\n",
              "    cursor: pointer;\n",
              "    display: none;\n",
              "    fill: var(--fill-color);\n",
              "    height: 32px;\n",
              "    padding: 0;\n",
              "    width: 32px;\n",
              "  }\n",
              "\n",
              "  .colab-df-quickchart:hover {\n",
              "    background-color: var(--hover-bg-color);\n",
              "    box-shadow: 0 1px 2px rgba(60, 64, 67, 0.3), 0 1px 3px 1px rgba(60, 64, 67, 0.15);\n",
              "    fill: var(--button-hover-fill-color);\n",
              "  }\n",
              "\n",
              "  .colab-df-quickchart-complete:disabled,\n",
              "  .colab-df-quickchart-complete:disabled:hover {\n",
              "    background-color: var(--disabled-bg-color);\n",
              "    fill: var(--disabled-fill-color);\n",
              "    box-shadow: none;\n",
              "  }\n",
              "\n",
              "  .colab-df-spinner {\n",
              "    border: 2px solid var(--fill-color);\n",
              "    border-color: transparent;\n",
              "    border-bottom-color: var(--fill-color);\n",
              "    animation:\n",
              "      spin 1s steps(1) infinite;\n",
              "  }\n",
              "\n",
              "  @keyframes spin {\n",
              "    0% {\n",
              "      border-color: transparent;\n",
              "      border-bottom-color: var(--fill-color);\n",
              "      border-left-color: var(--fill-color);\n",
              "    }\n",
              "    20% {\n",
              "      border-color: transparent;\n",
              "      border-left-color: var(--fill-color);\n",
              "      border-top-color: var(--fill-color);\n",
              "    }\n",
              "    30% {\n",
              "      border-color: transparent;\n",
              "      border-left-color: var(--fill-color);\n",
              "      border-top-color: var(--fill-color);\n",
              "      border-right-color: var(--fill-color);\n",
              "    }\n",
              "    40% {\n",
              "      border-color: transparent;\n",
              "      border-right-color: var(--fill-color);\n",
              "      border-top-color: var(--fill-color);\n",
              "    }\n",
              "    60% {\n",
              "      border-color: transparent;\n",
              "      border-right-color: var(--fill-color);\n",
              "    }\n",
              "    80% {\n",
              "      border-color: transparent;\n",
              "      border-right-color: var(--fill-color);\n",
              "      border-bottom-color: var(--fill-color);\n",
              "    }\n",
              "    90% {\n",
              "      border-color: transparent;\n",
              "      border-bottom-color: var(--fill-color);\n",
              "    }\n",
              "  }\n",
              "</style>\n",
              "\n",
              "  <script>\n",
              "    async function quickchart(key) {\n",
              "      const quickchartButtonEl =\n",
              "        document.querySelector('#' + key + ' button');\n",
              "      quickchartButtonEl.disabled = true;  // To prevent multiple clicks.\n",
              "      quickchartButtonEl.classList.add('colab-df-spinner');\n",
              "      try {\n",
              "        const charts = await google.colab.kernel.invokeFunction(\n",
              "            'suggestCharts', [key], {});\n",
              "      } catch (error) {\n",
              "        console.error('Error during call to suggestCharts:', error);\n",
              "      }\n",
              "      quickchartButtonEl.classList.remove('colab-df-spinner');\n",
              "      quickchartButtonEl.classList.add('colab-df-quickchart-complete');\n",
              "    }\n",
              "    (() => {\n",
              "      let quickchartButtonEl =\n",
              "        document.querySelector('#df-9a8dc691-f25e-403d-a24e-b2a80b7cd03d button');\n",
              "      quickchartButtonEl.style.display =\n",
              "        google.colab.kernel.accessAllowed ? 'block' : 'none';\n",
              "    })();\n",
              "  </script>\n",
              "</div>\n",
              "\n",
              "    </div>\n",
              "  </div>\n"
            ],
            "application/vnd.google.colaboratory.intrinsic+json": {
              "type": "dataframe",
              "variable_name": "merged_data",
              "summary": "{\n  \"name\": \"merged_data\",\n  \"rows\": 150,\n  \"fields\": [\n    {\n      \"column\": \"video_id\",\n      \"properties\": {\n        \"dtype\": \"number\",\n        \"std\": 564448,\n        \"min\": 1471363,\n        \"max\": 3422482,\n        \"num_unique_values\": 150,\n        \"samples\": [\n          3422482,\n          3078623,\n          1963503\n        ],\n        \"semantic_type\": \"\",\n        \"description\": \"\"\n      }\n    },\n    {\n      \"column\": \"video_text\",\n      \"properties\": {\n        \"dtype\": \"string\",\n        \"num_unique_values\": 150,\n        \"samples\": [\n          \" \\n\\f    \\n   \\n \\n\\n\\u2018OPPORTUNITY\\n\\n \\n\\n \\n\\n \\n\\f  \\n\\f  \\n\\f  \\n\\f  \\n\\f  \\n\\f  \\n\\f  \\n\\f  \\n\\f  \\n\\f  \\n\\f  \\n\\f  \\n\\f  \\n\\f  \\n\\f  \\n\\f  \\n\\f  \\n\\f  \\n\\f  \\n\\f  \\n\\f  \\n\\f DET Sos\\n\\n \\n\\f  \\n\\f  \\n\\f OQvexus\\n\\nGOLDEN OPPORTUNITY\\nSALES EVENT\\n\\n \\n\\nFOR A LIMITED TIME\\n\\f OQvexus\\n\\nGOLDEN OPPORTUNITY\\nSALES EVENT\\n\\n \\n\\nFOR A LIMITED TIME\\n\\f \\f Care <a\\n\\nEXPERIENCE AMAZING\\n\\nlexus.com\\n\\f \\f\",\n          \"\\f  \\n\\f  \\n\\f    \\n  \\n\\n5Gin..\\n\\f  \\n\\f  \\n\\f  \\n\\f  \\n\\f aero oe\\nTN Cae\\n\\f  \\n\\ntdi) ate)a\\\\- VA\\n\\n   \\n\\f rae io a\\n\\n \\n\\f @iPhone12\\n\\n \\n\\nWith new line, qualifying Gen trade-in, & 30 Rey a\\nbill credits. For well-qualified customers; plus tax. .\\nf z \\u2018 :\\n\\nce ec (ec eee reece |\\nee cent CCM mca es\\nOPEV Re mM emo iE eeu ea merle Mua le aI caae\\n\\n \\n\\f @iPhone12\\n\\n \\n\\n( With new line, qualifying iPhone trade-in, & OMe iN\\ne eH accom xem ralke Witte Kel ellis olsat sae\\n\\nee Ce ee mee ee ue)\\nee cements\\nQualifying consumer plan required. SIM & support charges may apply. 4/acct.\\n\\n \\n\\f      \\n \\n\\n  \\n\\nI n\\\\ | i\\n\\nWith new line, qualifying iPhone trade-in, & 30 monthly. \\u201c\\nbill credits. For well-qualified customers; plus Icha\\n\\n \\n\\nIf you cancel before 30 credits, credits stop & balance on required\\nee cea caer enccates \\u00b0\\nQualifying consumer plan required. SIM & support charges may apply. 4/acct.\\n\\f @iPhone12\\n\\n    \\n \\n\\nPee mae ucane caccucr\\n\\nRenee eM eUneen kM eee asset\\nEMRE ecu Reco asa\\n\\f @iPhone12 he\\n\\n     \\n\\nGWA SSR Meet anr ome lati)\\n\\nBeene Noein eke ele assay\\nPEUNCe cea Re oa aC\\n\\f  \\n\\f  \\n\\f Fe ener\\n\\nL 4\\n{ m\\nne\\n\\nia\\nFf Dh Ne mae z\\n\\nee f\\nie Pia aa ere\\ncot a a\\nae Oa\\n\\ner.\\nes A Va\\nSS SSS\\n\\na\\n\\ni\\n\\f  \\n\\f  \\n\\f   \\n\\nNUS\\n\\nWith new'line, qualifying iPhone trade-in, & 30 monthly bill credits.\\nFor well-qualified customers; plus tax.\\n\\n \\n\\nIf you cancel before 30 credits, credits stop & balance on required finance agreement may be due (64GB: $829.99); contact us. Qualifying consumer plan required.\\n\\f    \\n    \\n\\n \\n\\nalii WN =\\n\\nBscy\\n\\nCre ue eee eet nace Rea uneg er\\nRewer kos\\n\\f  \\n\\naC Ata\\n\\n5G.\\n\\nNETWORK\\n\\neee es Tue Oe mee Reread\\nRema an koa\\n\\n  \\n\\f   \\n \\n \\n\\nsae =\\n\\nPER\\nMONTH\\n\\n   \\n\\nOn Essentials plan with 2 lines\\nvs. the other major carriers\\n\\f        \\n\\naaa\\nMONTH\\n\\ne/a sn) Se ol Lao)\\nAZMn UireMel Unt -Tarir-l (elmore Utes)\\n\\f  \\n\\f  \\n\\f  \\n  \\n    \\n\\nSc ig oS ro\\n, BNP) ee PAR ae ae y\\nfide Lee ye 43 pace Sp en \\u2014~ 4\\ni caer ae x \\u2018 oS oF a be\\nSa he? cn feet |, Mio. 4 SY EA cane\\nme\\u201d ee eS SD oo oo\\n\\u2018Gaur 0 * . a ee\\na PP RS Fs k\\n\\na gs Te\\nf Be nec cals ee\\n\\n   \\n\\f  \\n\\f\",\n          \" \\n\\f  \\n\\f  \\n\\f  \\n\\f  \\n\\f  \\n\\f  \\n\\f Ei Baa\\n\\nEVGA Le\\n\\n \\n\\f =) ait) ee\\n\\n\\u2014\\u2014 SALES EVENT \\u2014\\u2014 | _\\n\\n \\n\\f    \\n\\n|\\n| BLACK FRIDAY\\n\\nee eee\\n\\f  \\n\\f hy.\\nNe REE ac CouNe a ue a See aL ecu et\\nGaAs ee RO RUE Re eC co Se\\n\\n \\n\\f aay\\n\\na as\\n\\nTaal\\n\\nAG) 2018 ano 2019\\nay\\n\\nVisit chevyblackfridaysale.com for vahlele sligibllity. Length of contract limited. Must finance with GM Financial. Some cu\\nGEDA OC ee ee One Ccme LMe e eel CORCE aaa\\n\\n \\n\\f     \\n\\n      \\n   \\n         \\n \\n \\n \\n\\n \\n\\n \\n\\nCena\\naiiaeen aaa\\nRa\\n\\n8 Wie ee\\n\\nae)\\n\\n \\n \\n  \\n\\nNee or cna el\\nEe ACen Toph Ce ee eae eee OES aU ace ce eae\\n\\n \\n\\f ac\\n\\nAPR\\n\\naaa\\n2018 AND 2019\\nCMa ky\\n\\n \\n\\f 1 En.\\n. Sa\\n\\nAPR\\n\\nTay\\nPar) =\\nCrna a\\n\\n \\n\\n \\n\\n \\n\\na Visit chevyblackfridaysale.com for vehicle eligibility. Length of contract limited. Must finance with GM Financial. Some customers P\\n= ~. Cee ee ae Lone Cen areas eC ace e aaa\\n\\f  \\n\\n    \\n \\n\\n \\n \\n\\nPL\\naT)\\n\\n0 PO ar\\n\\nCoase\\n\\nRoe ae Cara Ue Re ane nS\\nCECE a eee ne eee OR aes mC eo og cc\\n\\n     \\n    \\n\\f Pe) eles to 1th daisy\\n\\n \\n\\nTepe sle eerie Avnet allicdaa eduaicte teact ie acluese nat sal wd\\nee ee ate tet ne el etree ere\\nSD ite\\n\\f ee aay \\\\\\n\\u2014\\u2014 SALES EVENT \\u2014\\u2014\\n\\nBe UE Tai\\n0VA\\n\\n       \\n\\n \\n\\nCe ee eed CHEVROLET ame\\nSe ian de hredideinsdslpdioshsetsighietaiilahtlbe Mitt ra Datta te LL\\nBTC Me te\\n\\f     \\n\\n: =] Ne a NG\\nMOU Aa) ais) \\u2014\\u2014 SALES EVENT \\u2014\\n\\n \\n\\nDa eal Race ca :\\nFeared gl a CHEVRO!\\nDL pon LET Ji\\n\\f  \\n\\nare gy, Monty paments 2.8 fo every S000 yeu aoe. xan do Cae\\nei Ue\\nBe Le\\n\\f  \\n\\nLoser desteg lc Acid a cusiladaliseseriehueor selibebeecaalaill CHEVROLET ca ted\\nCoe ee ae Loe\\nSe ers\\n\\f BLACK FRIDAY\\n\\u2014\\u2014 SALES EVENT \\u2014\\u2014\\n\\nre) mele Aa oth dah)\\n\\n   \\n\\n \\n\\nCer cata leutais ikacet adam oal CHEVROLET ca Ge\\nDei i ee au Te\\nBe be oi\\n\\f BLACK FRIDAY\\nTTA As. rr\\n\\n \\n\\nbc Fe eee oe cH\\neietnpyeaeitcas peop ape teeny echoes oper we\\nCe ee ete cere\\n\\f STW \\\\g\\nTha 2) (=)\\n\\n \\n\\nCe eT et CHEVROLET ae\\nCoe ee ee a ee ee Le\\n\\f TW qa). 9\\nNO MONTHLY PAYMENTS FOR prety teaaia\\n\\n \\n\\nNene eee enn Cee CHEVROLET = io\\nLele santte useetcane carseny heared memioueicrsioee: omnes\\nCee ete ee ee ed\\n\\f BLACK FRIDAY\\nNO MONTHLY WNL FOR \\u2014 SALES EVENT \\u2014\\n\\n \\n\\nNee ere) sey tna dc Scr t, CHEVROLET ame\\ndete cai can ere keratin coins eee oie as\\nPepe vinern atari pemmtiire ane emerges\\n\\f = = LHEVRULE \\u2014\\n\\nChevyOffers.com -\\n\\n   \\n \\n\\f = == CHEVROLEE =\\nChevyOffers.com\\n\\n    \\n\\f an Geen 2 | AN) 8 | a) my\\n\\n| ChevyOffers.com\\n\\n~ = wi = 3 :\\n\\n     \\n \\n\\f\"\n        ],\n        \"semantic_type\": \"\",\n        \"description\": \"\"\n      }\n    },\n    {\n      \"column\": \"creative_data_id\",\n      \"properties\": {\n        \"dtype\": \"number\",\n        \"std\": 564448,\n        \"min\": 1471363,\n        \"max\": 3422482,\n        \"num_unique_values\": 150,\n        \"samples\": [\n          3422482,\n          3078623,\n          1963503\n        ],\n        \"semantic_type\": \"\",\n        \"description\": \"\"\n      }\n    },\n    {\n      \"column\": \"creative_data_title\",\n      \"properties\": {\n        \"dtype\": \"string\",\n        \"num_unique_values\": 150,\n        \"samples\": [\n          \"30s Golden Opportunity Sales Event: Everyone's Safety [T1] - 3422482\",\n          \"30s Holidays: Apple iPhone 12 on Us - 3078623\",\n          \"30s Black Friday Sales Event: Everyone's Excited [T2] - 1963503\"\n        ],\n        \"semantic_type\": \"\",\n        \"description\": \"\"\n      }\n    },\n    {\n      \"column\": \"creative_data_description\",\n      \"properties\": {\n        \"dtype\": \"string\",\n        \"num_unique_values\": 149,\n        \"samples\": [\n          \"For those who view everyone's safety as equally important, Lexus encourages drivers to experience its advanced standard safety technology. During the Golden Opportunity Sales Event, get special deals for a limited time.\",\n          \"T-Mobile is encouraging you to connect with your loved ones on its 5G network this holiday season. You can get an iPhone 12 on the wireless carrier when you switch, plus a savings of up to 20% off your old bill.\",\n          \"Sometimes, you just need a boost after working the graveyard shift. McDonald's is happy to provide this \\\"overnight shift is over\\\" meal by offering breakfast items including a Sausage McGriddle and Chicken McGriddle paired with a soda for $1.\"\n        ],\n        \"semantic_type\": \"\",\n        \"description\": \"\"\n      }\n    },\n    {\n      \"column\": \"creative_data_duration\",\n      \"properties\": {\n        \"dtype\": \"number\",\n        \"std\": 0,\n        \"min\": 30,\n        \"max\": 30,\n        \"num_unique_values\": 1,\n        \"samples\": [\n          30\n        ],\n        \"semantic_type\": \"\",\n        \"description\": \"\"\n      }\n    },\n    {\n      \"column\": \"creative_data_lifetime_spend_estimated\",\n      \"properties\": {\n        \"dtype\": \"number\",\n        \"std\": 6887834.409199806,\n        \"min\": 0.0,\n        \"max\": 44909836.61,\n        \"num_unique_values\": 150,\n        \"samples\": [\n          1194113.75\n        ],\n        \"semantic_type\": \"\",\n        \"description\": \"\"\n      }\n    },\n    {\n      \"column\": \"creative_data_lifetime_airings_count\",\n      \"properties\": {\n        \"dtype\": \"number\",\n        \"std\": 1930,\n        \"min\": 8,\n        \"max\": 13949,\n        \"num_unique_values\": 128,\n        \"samples\": [\n          678\n        ],\n        \"semantic_type\": \"\",\n        \"description\": \"\"\n      }\n    },\n    {\n      \"column\": \"creative_data_airing_date_first_et\",\n      \"properties\": {\n        \"dtype\": \"object\",\n        \"num_unique_values\": 150,\n        \"samples\": [\n          \"2021-07-01T16:16:42-04:00\"\n        ],\n        \"semantic_type\": \"\",\n        \"description\": \"\"\n      }\n    },\n    {\n      \"column\": \"creative_data_airing_date_last_et\",\n      \"properties\": {\n        \"dtype\": \"object\",\n        \"num_unique_values\": 150,\n        \"samples\": [\n          \"2021-08-02T22:53:23-04:00\"\n        ],\n        \"semantic_type\": \"\",\n        \"description\": \"\"\n      }\n    },\n    {\n      \"column\": \"speech\",\n      \"properties\": {\n        \"dtype\": \"string\",\n        \"num_unique_values\": 150,\n        \"samples\": [\n          \"For those who see everyone's safety as equally important experience, our advanced standard safety technology on a full line of vehicles at the Lexus Golden opportunity, sales event experience. Amazing at your Lexus dealer.\"\n        ],\n        \"semantic_type\": \"\",\n        \"description\": \"\"\n      }\n    },\n    {\n      \"column\": \"cleaned_description\",\n      \"properties\": {\n        \"dtype\": \"string\",\n        \"num_unique_values\": 149,\n        \"samples\": [\n          \"view everyones safety equally important lexus encourages drivers experience advanced standard safety technology golden opportunity sales event get special deals limited time\"\n        ],\n        \"semantic_type\": \"\",\n        \"description\": \"\"\n      }\n    },\n    {\n      \"column\": \"cleaned_speech\",\n      \"properties\": {\n        \"dtype\": \"string\",\n        \"num_unique_values\": 150,\n        \"samples\": [\n          \"see everyones safety equally important experience advanced standard safety technology full line vehicles lexus golden opportunity sales event experience amazing lexus dealer\"\n        ],\n        \"semantic_type\": \"\",\n        \"description\": \"\"\n      }\n    }\n  ]\n}"
            }
          },
          "metadata": {},
          "execution_count": 70
        }
      ]
    },
    {
      "cell_type": "code",
      "source": [
        "# Display the column names of the merged DataFrame\n",
        "merged_data.columns"
      ],
      "metadata": {
        "colab": {
          "base_uri": "https://localhost:8080/"
        },
        "id": "dBc4L13m1C7l",
        "outputId": "27971e60-5661-4330-f7af-0e2d430af7ee"
      },
      "execution_count": 71,
      "outputs": [
        {
          "output_type": "execute_result",
          "data": {
            "text/plain": [
              "Index(['video_id', 'video_text', 'creative_data_id', 'creative_data_title',\n",
              "       'creative_data_description', 'creative_data_duration',\n",
              "       'creative_data_lifetime_spend_estimated',\n",
              "       'creative_data_lifetime_airings_count',\n",
              "       'creative_data_airing_date_first_et',\n",
              "       'creative_data_airing_date_last_et', 'speech', 'cleaned_description',\n",
              "       'cleaned_speech'],\n",
              "      dtype='object')"
            ]
          },
          "metadata": {},
          "execution_count": 71
        }
      ]
    },
    {
      "cell_type": "code",
      "source": [
        "# Drop the 'creative_data_id' column as it is redundant after merging\n",
        "merged_data = merged_data.drop(columns=['creative_data_id'])"
      ],
      "metadata": {
        "id": "wsRzeN7LCI2N"
      },
      "execution_count": 72,
      "outputs": []
    },
    {
      "cell_type": "code",
      "source": [
        "# Display the column names of the updated merged DataFrame\n",
        "merged_data.columns"
      ],
      "metadata": {
        "colab": {
          "base_uri": "https://localhost:8080/"
        },
        "id": "PZ4TgGuLVJcV",
        "outputId": "42f0c188-1eaf-4107-8e66-55a2cb1cf3c3"
      },
      "execution_count": 73,
      "outputs": [
        {
          "output_type": "execute_result",
          "data": {
            "text/plain": [
              "Index(['video_id', 'video_text', 'creative_data_title',\n",
              "       'creative_data_description', 'creative_data_duration',\n",
              "       'creative_data_lifetime_spend_estimated',\n",
              "       'creative_data_lifetime_airings_count',\n",
              "       'creative_data_airing_date_first_et',\n",
              "       'creative_data_airing_date_last_et', 'speech', 'cleaned_description',\n",
              "       'cleaned_speech'],\n",
              "      dtype='object')"
            ]
          },
          "metadata": {},
          "execution_count": 73
        }
      ]
    },
    {
      "cell_type": "code",
      "source": [
        "# Drop the original text columns as we will use the cleaned versions\n",
        "columns = ['creative_data_description', 'speech']\n",
        "merged_data = merged_data.drop(columns=columns)"
      ],
      "metadata": {
        "id": "UsLC-W5qVUdk"
      },
      "execution_count": 74,
      "outputs": []
    },
    {
      "cell_type": "code",
      "source": [
        "# Display the column names of the updated merged DataFrame\n",
        "merged_data.columns"
      ],
      "metadata": {
        "colab": {
          "base_uri": "https://localhost:8080/"
        },
        "id": "2fxON889W1XV",
        "outputId": "27439d08-716e-4a26-868d-bd1f0feeae70"
      },
      "execution_count": 75,
      "outputs": [
        {
          "output_type": "execute_result",
          "data": {
            "text/plain": [
              "Index(['video_id', 'video_text', 'creative_data_title',\n",
              "       'creative_data_duration', 'creative_data_lifetime_spend_estimated',\n",
              "       'creative_data_lifetime_airings_count',\n",
              "       'creative_data_airing_date_first_et',\n",
              "       'creative_data_airing_date_last_et', 'cleaned_description',\n",
              "       'cleaned_speech'],\n",
              "      dtype='object')"
            ]
          },
          "metadata": {},
          "execution_count": 75
        }
      ]
    },
    {
      "cell_type": "code",
      "source": [
        "# Combine text from video OCR, cleaned description, and cleaned speech into a single column\n",
        "merged_data['combined_text'] = merged_data.apply(lambda row: ' '.join([\n",
        "    str(row['video_text']),\n",
        "    str(row['cleaned_description']),\n",
        "    str(row['cleaned_speech'])\n",
        "]), axis=1)"
      ],
      "metadata": {
        "id": "VlfJut1u1F98"
      },
      "execution_count": 76,
      "outputs": []
    },
    {
      "cell_type": "code",
      "source": [
        "# Drop the individual text columns as they are now combined\n",
        "columns = ['video_text', 'cleaned_description', 'cleaned_speech']"
      ],
      "metadata": {
        "id": "pH0au5NQYw9t"
      },
      "execution_count": 77,
      "outputs": []
    },
    {
      "cell_type": "code",
      "source": [
        "merged_data = merged_data.drop(columns=columns)"
      ],
      "metadata": {
        "id": "Db3PLXNUZAVg"
      },
      "execution_count": 78,
      "outputs": []
    },
    {
      "cell_type": "code",
      "source": [
        "# Display the column names of the updated merged DataFrame\n",
        "merged_data.columns"
      ],
      "metadata": {
        "colab": {
          "base_uri": "https://localhost:8080/"
        },
        "id": "07TbsvuUZQJX",
        "outputId": "69654656-76e1-4d8c-a831-f90c20a80002"
      },
      "execution_count": 79,
      "outputs": [
        {
          "output_type": "execute_result",
          "data": {
            "text/plain": [
              "Index(['video_id', 'creative_data_title', 'creative_data_duration',\n",
              "       'creative_data_lifetime_spend_estimated',\n",
              "       'creative_data_lifetime_airings_count',\n",
              "       'creative_data_airing_date_first_et',\n",
              "       'creative_data_airing_date_last_et', 'combined_text'],\n",
              "      dtype='object')"
            ]
          },
          "metadata": {},
          "execution_count": 79
        }
      ]
    },
    {
      "cell_type": "code",
      "source": [
        "# Display the first few rows of the combined text column\n",
        "print(merged_data['combined_text'].head())"
      ],
      "metadata": {
        "colab": {
          "base_uri": "https://localhost:8080/"
        },
        "id": "dOv3311L1IVs",
        "outputId": "b6d154c6-29ec-4d52-b7e9-1670bef6d22f"
      },
      "execution_count": 80,
      "outputs": [
        {
          "output_type": "stream",
          "name": "stdout",
          "text": [
            "0    \f  \\n\f  \\n\f  \\n\f  \\n\f  \\n\f  \\n\f  \\n\f  \\n\f  \\n\f...\n",
            "1    \f bi\\n=\\n\\ncredit karma\\n\\n \\n\f    \\n\\ncredit ...\n",
            "2     \\n\f  \\n\f   \\n\\na P\\n=, IR AC eR TU) accidents...\n",
            "3     \\n\\n>\\n\\n‘te -\\n\\nom\\n«a\\n\\n \\n\f  \\n\\n- - * o...\n",
            "4     \\n\f  \\n\f  \\n\\n5\\n4\\n8\\n§\\n~\\nA\\nH\\n3\\nA\\n4\\nE...\n",
            "Name: combined_text, dtype: object\n"
          ]
        }
      ]
    },
    {
      "cell_type": "code",
      "source": [
        "# Install the necessary libraries for zero-shot classification\n",
        "!pip install transformers\n",
        "!pip install torch"
      ],
      "metadata": {
        "colab": {
          "base_uri": "https://localhost:8080/"
        },
        "id": "NO060p_d1Kcq",
        "outputId": "114ee94c-16c5-451b-8283-4da06f850b4f"
      },
      "execution_count": 81,
      "outputs": [
        {
          "output_type": "stream",
          "name": "stdout",
          "text": [
            "Requirement already satisfied: transformers in /usr/local/lib/python3.10/dist-packages (4.41.2)\n",
            "Requirement already satisfied: filelock in /usr/local/lib/python3.10/dist-packages (from transformers) (3.15.4)\n",
            "Requirement already satisfied: huggingface-hub<1.0,>=0.23.0 in /usr/local/lib/python3.10/dist-packages (from transformers) (0.23.4)\n",
            "Requirement already satisfied: numpy>=1.17 in /usr/local/lib/python3.10/dist-packages (from transformers) (1.25.2)\n",
            "Requirement already satisfied: packaging>=20.0 in /usr/local/lib/python3.10/dist-packages (from transformers) (24.1)\n",
            "Requirement already satisfied: pyyaml>=5.1 in /usr/local/lib/python3.10/dist-packages (from transformers) (6.0.1)\n",
            "Requirement already satisfied: regex!=2019.12.17 in /usr/local/lib/python3.10/dist-packages (from transformers) (2024.5.15)\n",
            "Requirement already satisfied: requests in /usr/local/lib/python3.10/dist-packages (from transformers) (2.31.0)\n",
            "Requirement already satisfied: tokenizers<0.20,>=0.19 in /usr/local/lib/python3.10/dist-packages (from transformers) (0.19.1)\n",
            "Requirement already satisfied: safetensors>=0.4.1 in /usr/local/lib/python3.10/dist-packages (from transformers) (0.4.3)\n",
            "Requirement already satisfied: tqdm>=4.27 in /usr/local/lib/python3.10/dist-packages (from transformers) (4.66.4)\n",
            "Requirement already satisfied: fsspec>=2023.5.0 in /usr/local/lib/python3.10/dist-packages (from huggingface-hub<1.0,>=0.23.0->transformers) (2023.6.0)\n",
            "Requirement already satisfied: typing-extensions>=3.7.4.3 in /usr/local/lib/python3.10/dist-packages (from huggingface-hub<1.0,>=0.23.0->transformers) (4.12.2)\n",
            "Requirement already satisfied: charset-normalizer<4,>=2 in /usr/local/lib/python3.10/dist-packages (from requests->transformers) (3.3.2)\n",
            "Requirement already satisfied: idna<4,>=2.5 in /usr/local/lib/python3.10/dist-packages (from requests->transformers) (3.7)\n",
            "Requirement already satisfied: urllib3<3,>=1.21.1 in /usr/local/lib/python3.10/dist-packages (from requests->transformers) (2.0.7)\n",
            "Requirement already satisfied: certifi>=2017.4.17 in /usr/local/lib/python3.10/dist-packages (from requests->transformers) (2024.7.4)\n",
            "Requirement already satisfied: torch in /usr/local/lib/python3.10/dist-packages (2.3.0+cu121)\n",
            "Requirement already satisfied: filelock in /usr/local/lib/python3.10/dist-packages (from torch) (3.15.4)\n",
            "Requirement already satisfied: typing-extensions>=4.8.0 in /usr/local/lib/python3.10/dist-packages (from torch) (4.12.2)\n",
            "Requirement already satisfied: sympy in /usr/local/lib/python3.10/dist-packages (from torch) (1.13.0)\n",
            "Requirement already satisfied: networkx in /usr/local/lib/python3.10/dist-packages (from torch) (3.3)\n",
            "Requirement already satisfied: jinja2 in /usr/local/lib/python3.10/dist-packages (from torch) (3.1.4)\n",
            "Requirement already satisfied: fsspec in /usr/local/lib/python3.10/dist-packages (from torch) (2023.6.0)\n",
            "Requirement already satisfied: nvidia-cuda-nvrtc-cu12==12.1.105 in /usr/local/lib/python3.10/dist-packages (from torch) (12.1.105)\n",
            "Requirement already satisfied: nvidia-cuda-runtime-cu12==12.1.105 in /usr/local/lib/python3.10/dist-packages (from torch) (12.1.105)\n",
            "Requirement already satisfied: nvidia-cuda-cupti-cu12==12.1.105 in /usr/local/lib/python3.10/dist-packages (from torch) (12.1.105)\n",
            "Requirement already satisfied: nvidia-cudnn-cu12==8.9.2.26 in /usr/local/lib/python3.10/dist-packages (from torch) (8.9.2.26)\n",
            "Requirement already satisfied: nvidia-cublas-cu12==12.1.3.1 in /usr/local/lib/python3.10/dist-packages (from torch) (12.1.3.1)\n",
            "Requirement already satisfied: nvidia-cufft-cu12==11.0.2.54 in /usr/local/lib/python3.10/dist-packages (from torch) (11.0.2.54)\n",
            "Requirement already satisfied: nvidia-curand-cu12==10.3.2.106 in /usr/local/lib/python3.10/dist-packages (from torch) (10.3.2.106)\n",
            "Requirement already satisfied: nvidia-cusolver-cu12==11.4.5.107 in /usr/local/lib/python3.10/dist-packages (from torch) (11.4.5.107)\n",
            "Requirement already satisfied: nvidia-cusparse-cu12==12.1.0.106 in /usr/local/lib/python3.10/dist-packages (from torch) (12.1.0.106)\n",
            "Requirement already satisfied: nvidia-nccl-cu12==2.20.5 in /usr/local/lib/python3.10/dist-packages (from torch) (2.20.5)\n",
            "Requirement already satisfied: nvidia-nvtx-cu12==12.1.105 in /usr/local/lib/python3.10/dist-packages (from torch) (12.1.105)\n",
            "Requirement already satisfied: triton==2.3.0 in /usr/local/lib/python3.10/dist-packages (from torch) (2.3.0)\n",
            "Requirement already satisfied: nvidia-nvjitlink-cu12 in /usr/local/lib/python3.10/dist-packages (from nvidia-cusolver-cu12==11.4.5.107->torch) (12.5.82)\n",
            "Requirement already satisfied: MarkupSafe>=2.0 in /usr/local/lib/python3.10/dist-packages (from jinja2->torch) (2.1.5)\n",
            "Requirement already satisfied: mpmath<1.4,>=1.1.0 in /usr/local/lib/python3.10/dist-packages (from sympy->torch) (1.3.0)\n"
          ]
        }
      ]
    },
    {
      "cell_type": "code",
      "source": [
        "# Load the zero-shot classification pipeline\n",
        "from transformers import pipeline\n",
        "\n",
        "# Load the zero-shot classification pipeline\n",
        "classifier = pipeline('zero-shot-classification', model='facebook/bart-large-mnli')"
      ],
      "metadata": {
        "colab": {
          "base_uri": "https://localhost:8080/",
          "height": 336,
          "referenced_widgets": [
            "5db6c653cb72415c9427a4e611759644",
            "0136890e101548fe82c6471bc49432b2",
            "011a44e4d8f6466ca4aa90a54a891236",
            "670afae88a0f4cc4bff36e41aba7706d",
            "aea881fb3d924bcca39def287bde5e3b",
            "4744fc4d71124cfc898314601383ef7e",
            "4da05da4cf574c78a0a8fdad24cce87f",
            "4f3d0331a87f42ddaf3b046b4dc23212",
            "d6aff32757804815a073336a5ff25f8d",
            "ae54cf0ee367412b8724912f6133d75a",
            "fdd4a360496c4463860526a9be8892cb",
            "5ce8d14ea6684c7fa808f1a5c870bc2a",
            "fb66715e357740bba4b972f296a811b3",
            "6ed2157d241b4254952170c038ca6fc4",
            "72c58f76307e45bd971100f3060ab433",
            "95e03f6ef8d34bc09b479c078034e0f3",
            "46ea3a297c9f423fa6fa610b47ca1485",
            "ca06646ed26142dba843abbb443caf4d",
            "26bc35fd8042424c8b1dc5151bc16db6",
            "8f427538c4a84b7789f5dd9c9253e06d",
            "802b1b5bac844010938c1e2f59cb9c41",
            "9836781f63704ac2a7ee8c76c933cabb",
            "ff511ea48ddd4cddbed1c5ae43478729",
            "800cfd80ea3a4680ae13e0c4b9769b20",
            "4ba66d28ef2a4b4fa1715b647c223e78",
            "a2a05871fe6f487499a3a1e797a67567",
            "45887e4cca614731b5ccfdee069d91ce",
            "c1fd9f5d21e6446e8c6060f59e542094",
            "80a6e3527a73469c9dac2d219a94187b",
            "95106e4c8adc4b399123dbc9528ca575",
            "ae7615dddfde488c918f5af89cdc637d",
            "db37637ac21d42f7ba61efbc24f3dc7d",
            "604f713bbbf94d2e897530c37e30ce12",
            "3f4490709c45460f8033b73131676c95",
            "21c93c5c0f374cf3a0ec959987b0ad18",
            "8d9107623c00468ca7ed7e56956ec243",
            "496e643c32864bbabbe13856651d4c74",
            "19a687bfcc384349a606cad773ca3a41",
            "69e4be7f79a549d1a9e0625607e2eb08",
            "023989b561f04ba1bd4bdb04eb6da16f",
            "2d3be8e7b46c41c8b55e773e2b977779",
            "c4ad5059b19e4098a78c46d0decb7731",
            "af4c10d5fbd44492a0976286f6e17d3d",
            "fa341a7cb9a54c2aa8e98e5e309b06b8",
            "4e8a118602404cb284efb333296ca3ff",
            "1150b8f7178d4f85a0b8ef4872593b84",
            "ca43abcdf05f4019b3ec91f943477983",
            "c97baa12cf6a4168aa237df6dfc4cb2e",
            "eb47fb6c179a4cc0893fabe9dec835c7",
            "a0c6afa5756e4982a6dd5b8bf383381e",
            "7e229a9b5a224ad0a0a93c1573e2ca88",
            "231dd46ca57349dd83f34790f0b272f6",
            "ef73ddc448f64a62a513f5143970392a",
            "d8216e678b55468ba1c64e21960af378",
            "67736cf3638e43f7812d4647162be63b",
            "c44c4de18f5b4406a84c9105096777ad",
            "8ebb9d6317d94db184ffad4b5b9e1639",
            "ffeb74a2bfa34b6c8d1b60fc8dcb0a8a",
            "61e11c4db8344103aa700d5478474897",
            "7df3391f74864831bbffe6e1586d1933",
            "52f4137b6337425cb751bdff9f882035",
            "c237541fa48e4e268bc38c6e8b005d2b",
            "d0b3ea03a19c476f99c4435e4424a8be",
            "70dfaf6e800f4ae286d21fdec2d5be01",
            "5c4708b6a6ad4dc3a219f732f49f94d2",
            "52b34caff1b64ed2b745c8bdcb73e2c1"
          ]
        },
        "id": "kLEy8nAK1Tlz",
        "outputId": "1dc1aa73-9d06-487d-8bd0-420c02187b2b"
      },
      "execution_count": 82,
      "outputs": [
        {
          "output_type": "stream",
          "name": "stderr",
          "text": [
            "/usr/local/lib/python3.10/dist-packages/huggingface_hub/utils/_token.py:89: UserWarning: \n",
            "The secret `HF_TOKEN` does not exist in your Colab secrets.\n",
            "To authenticate with the Hugging Face Hub, create a token in your settings tab (https://huggingface.co/settings/tokens), set it as secret in your Google Colab and restart your session.\n",
            "You will be able to reuse this secret in all of your notebooks.\n",
            "Please note that authentication is recommended but still optional to access public models or datasets.\n",
            "  warnings.warn(\n"
          ]
        },
        {
          "output_type": "display_data",
          "data": {
            "text/plain": [
              "config.json:   0%|          | 0.00/1.15k [00:00<?, ?B/s]"
            ],
            "application/vnd.jupyter.widget-view+json": {
              "version_major": 2,
              "version_minor": 0,
              "model_id": "5db6c653cb72415c9427a4e611759644"
            }
          },
          "metadata": {}
        },
        {
          "output_type": "display_data",
          "data": {
            "text/plain": [
              "model.safetensors:   0%|          | 0.00/1.63G [00:00<?, ?B/s]"
            ],
            "application/vnd.jupyter.widget-view+json": {
              "version_major": 2,
              "version_minor": 0,
              "model_id": "5ce8d14ea6684c7fa808f1a5c870bc2a"
            }
          },
          "metadata": {}
        },
        {
          "output_type": "display_data",
          "data": {
            "text/plain": [
              "tokenizer_config.json:   0%|          | 0.00/26.0 [00:00<?, ?B/s]"
            ],
            "application/vnd.jupyter.widget-view+json": {
              "version_major": 2,
              "version_minor": 0,
              "model_id": "ff511ea48ddd4cddbed1c5ae43478729"
            }
          },
          "metadata": {}
        },
        {
          "output_type": "display_data",
          "data": {
            "text/plain": [
              "vocab.json:   0%|          | 0.00/899k [00:00<?, ?B/s]"
            ],
            "application/vnd.jupyter.widget-view+json": {
              "version_major": 2,
              "version_minor": 0,
              "model_id": "3f4490709c45460f8033b73131676c95"
            }
          },
          "metadata": {}
        },
        {
          "output_type": "display_data",
          "data": {
            "text/plain": [
              "merges.txt:   0%|          | 0.00/456k [00:00<?, ?B/s]"
            ],
            "application/vnd.jupyter.widget-view+json": {
              "version_major": 2,
              "version_minor": 0,
              "model_id": "4e8a118602404cb284efb333296ca3ff"
            }
          },
          "metadata": {}
        },
        {
          "output_type": "display_data",
          "data": {
            "text/plain": [
              "tokenizer.json:   0%|          | 0.00/1.36M [00:00<?, ?B/s]"
            ],
            "application/vnd.jupyter.widget-view+json": {
              "version_major": 2,
              "version_minor": 0,
              "model_id": "c44c4de18f5b4406a84c9105096777ad"
            }
          },
          "metadata": {}
        }
      ]
    },
    {
      "cell_type": "code",
      "source": [
        "# Define the questions to be used for zero-shot classification\n",
        "questions = [\n",
        "       \"Is there a call to go online (e.g., shop online, visit the Web)? \",\n",
        "       \"Is there online contact information provided (e.g., URL, website)? \",\n",
        "       \"Is there a visual or verbal call to purchase (e.g., buy now, order now)?\",\n",
        "       \"Does the ad portray a sense of urgency to act (e.g., buy before sales ends, order before ends)? \",\n",
        "       \"Is there an incentive to buy (e.g., a discount, a coupon, a sale or \\\"limited time offer\\\")? \",\n",
        "       \"Is there offline contact information provided (e.g., phone, mail, store location)?\",\n",
        "       \"Is there mention of something free? \",\n",
        "       \"Does the ad mention at least one specific product or service (e.g., model, type, item)? \",\n",
        "       \"Is there any verbal or visual mention of the price?\",\n",
        "       \"Does the ad show the brand (logo, brand name) or trademark (something that most people know is the brand) multiple times?\\n\\nFor example, Nike ads often have the \\\"swoosh\\\" logo prominently displayed on shoes and apparel worn by celebrity athletes. The \\\"Just Do It\\\" slogan is another Nike trademark frequently included.\",\n",
        "       \"Does the ad show the brand or trademark exactly once at the end of the ad?\",\n",
        "       \"Is the ad intended to affect the viewer emotionally, either with positive emotion (fun, joy), negative emotion (sad, anxious) or another type of emotion? (Note: You may not personally agree, but assess if that was the intention.)\",\n",
        "       \"Does the ad give you a positive feeling about the brand? \",\n",
        "       \"Does the ad have a story arc, with a beginning and an end? \",\n",
        "       \"Does the ad have a reversal of fortune, where something changes for the better, or changes for the worse?\",\n",
        "       \"Does the ad have relatable characters? \", \"Is the ad creative/clever?\",\n",
        "       \"Is the ad intended to be funny? (Note: You may not personally agree, but assess if that was the intention.) \",\n",
        "       \"Does this ad provide sensory stimulation (e.g., cool visuals, arousing music, mouth-watering)? \",\n",
        "       \"Is the ad visually pleasing?\",\n",
        "       \"Does the ad have cute elements like animals, babies, animated, characters, etc?\"]"
      ],
      "metadata": {
        "id": "ZnSVvOP_1aa2"
      },
      "execution_count": 83,
      "outputs": []
    },
    {
      "cell_type": "code",
      "source": [
        "# Function to get zero-shot predictions for each question\n",
        "def get_zero_shot_predictions(text, questions):\n",
        "    predictions = {}\n",
        "    for question in questions:\n",
        "        result = classifier(text, candidate_labels=[question], multi_label=True)\n",
        "        predictions[question] = 'yes' if result['scores'][0] > 0.5 else 'no'\n",
        "    return predictions\n"
      ],
      "metadata": {
        "id": "sjme0_gu2czP"
      },
      "execution_count": 84,
      "outputs": []
    },
    {
      "cell_type": "code",
      "source": [
        "# Apply the zero-shot predictions to the combined text column\n",
        "merged_data['predictions'] = merged_data['combined_text'].apply(lambda x: get_zero_shot_predictions(x, questions))"
      ],
      "metadata": {
        "id": "J_ND8X1a2fY2"
      },
      "execution_count": 85,
      "outputs": []
    },
    {
      "cell_type": "code",
      "source": [
        "# Display the predictions\n",
        "merged_data['predictions']"
      ],
      "metadata": {
        "colab": {
          "base_uri": "https://localhost:8080/"
        },
        "id": "m7epN74aIWf6",
        "outputId": "2a8cf004-0002-4fa9-d7d9-c4a79f25f100"
      },
      "execution_count": 86,
      "outputs": [
        {
          "output_type": "execute_result",
          "data": {
            "text/plain": [
              "0      {'Is there a call to go online (e.g., shop onl...\n",
              "1      {'Is there a call to go online (e.g., shop onl...\n",
              "2      {'Is there a call to go online (e.g., shop onl...\n",
              "3      {'Is there a call to go online (e.g., shop onl...\n",
              "4      {'Is there a call to go online (e.g., shop onl...\n",
              "                             ...                        \n",
              "145    {'Is there a call to go online (e.g., shop onl...\n",
              "146    {'Is there a call to go online (e.g., shop onl...\n",
              "147    {'Is there a call to go online (e.g., shop onl...\n",
              "148    {'Is there a call to go online (e.g., shop onl...\n",
              "149    {'Is there a call to go online (e.g., shop onl...\n",
              "Name: predictions, Length: 150, dtype: object"
            ]
          },
          "metadata": {},
          "execution_count": 86
        }
      ]
    },
    {
      "cell_type": "code",
      "source": [
        "deduced_df['Is there any verbal or visual mention of the price?'].value_counts()"
      ],
      "metadata": {
        "colab": {
          "base_uri": "https://localhost:8080/"
        },
        "id": "tGbz0NQpIYmx",
        "outputId": "7851b32e-7761-4b3c-8935-c925170e49ea"
      },
      "execution_count": 87,
      "outputs": [
        {
          "output_type": "execute_result",
          "data": {
            "text/plain": [
              "Is there any verbal or visual mention of the price?\n",
              "No             102\n",
              "Yes, both       40\n",
              "Yes, visual      8\n",
              "Name: count, dtype: int64"
            ]
          },
          "metadata": {},
          "execution_count": 87
        }
      ]
    },
    {
      "cell_type": "code",
      "source": [
        "# Convert the predictions column from dictionary format to DataFrame\n",
        "predictions_df = pd.DataFrame(merged_data['predictions'].tolist())"
      ],
      "metadata": {
        "id": "yPDRmFKtI3zB"
      },
      "execution_count": 88,
      "outputs": []
    },
    {
      "cell_type": "code",
      "source": [
        "# Add the 'creative_data_id' column to the predictions DataFrame\n",
        "predictions_df['creative_data_id'] = merged_data['video_id']"
      ],
      "metadata": {
        "id": "plOyQooBJAoO"
      },
      "execution_count": 89,
      "outputs": []
    },
    {
      "cell_type": "code",
      "source": [
        "# Reorder the columns to place 'creative_data_id' at the beginning\n",
        "columns = ['creative_data_id'] + [col for col in predictions_df if col != 'creative_data_id']\n",
        "predictions_df = predictions_df[columns]"
      ],
      "metadata": {
        "id": "yZdK2PA0JCoQ"
      },
      "execution_count": 90,
      "outputs": []
    },
    {
      "cell_type": "code",
      "source": [
        "# Display the column names of the predictions DataFrame\n",
        "predictions_df.columns\n"
      ],
      "metadata": {
        "colab": {
          "base_uri": "https://localhost:8080/"
        },
        "id": "iuNn3pOdJEVu",
        "outputId": "b6333772-eca0-4cfc-ab34-afb88f039ad7"
      },
      "execution_count": 91,
      "outputs": [
        {
          "output_type": "execute_result",
          "data": {
            "text/plain": [
              "Index(['creative_data_id',\n",
              "       'Is there a call to go online (e.g., shop online, visit the Web)? ',\n",
              "       'Is there online contact information provided (e.g., URL, website)? ',\n",
              "       'Is there a visual or verbal call to purchase (e.g., buy now, order now)?',\n",
              "       'Does the ad portray a sense of urgency to act (e.g., buy before sales ends, order before ends)? ',\n",
              "       'Is there an incentive to buy (e.g., a discount, a coupon, a sale or \"limited time offer\")? ',\n",
              "       'Is there offline contact information provided (e.g., phone, mail, store location)?',\n",
              "       'Is there mention of something free? ',\n",
              "       'Does the ad mention at least one specific product or service (e.g., model, type, item)? ',\n",
              "       'Is there any verbal or visual mention of the price?',\n",
              "       'Does the ad show the brand (logo, brand name) or trademark (something that most people know is the brand) multiple times?\\n\\nFor example, Nike ads often have the \"swoosh\" logo prominently displayed on shoes and apparel worn by celebrity athletes. The \"Just Do It\" slogan is another Nike trademark frequently included.',\n",
              "       'Does the ad show the brand or trademark exactly once at the end of the ad?',\n",
              "       'Is the ad intended to affect the viewer emotionally, either with positive emotion (fun, joy), negative emotion (sad, anxious) or another type of emotion? (Note: You may not personally agree, but assess if that was the intention.)',\n",
              "       'Does the ad give you a positive feeling about the brand? ',\n",
              "       'Does the ad have a story arc, with a beginning and an end? ',\n",
              "       'Does the ad have a reversal of fortune, where something changes for the better, or changes for the worse?',\n",
              "       'Does the ad have relatable characters? ', 'Is the ad creative/clever?',\n",
              "       'Is the ad intended to be funny? (Note: You may not personally agree, but assess if that was the intention.) ',\n",
              "       'Does this ad provide sensory stimulation (e.g., cool visuals, arousing music, mouth-watering)? ',\n",
              "       'Is the ad visually pleasing?',\n",
              "       'Does the ad have cute elements like animals, babies, animated, characters, etc?'],\n",
              "      dtype='object')"
            ]
          },
          "metadata": {},
          "execution_count": 91
        }
      ]
    },
    {
      "cell_type": "code",
      "source": [
        "# Display the shape of the predictions DataFrame\n",
        "predictions_df.shape"
      ],
      "metadata": {
        "colab": {
          "base_uri": "https://localhost:8080/"
        },
        "id": "NMqlMk4SJF_x",
        "outputId": "d128c430-f00e-4fbe-8de8-2356f451812f"
      },
      "execution_count": 92,
      "outputs": [
        {
          "output_type": "execute_result",
          "data": {
            "text/plain": [
              "(150, 22)"
            ]
          },
          "metadata": {},
          "execution_count": 92
        }
      ]
    },
    {
      "cell_type": "code",
      "source": [
        "# Display the first few rows of the predictions DataFrame\n",
        "predictions_df.head()"
      ],
      "metadata": {
        "colab": {
          "base_uri": "https://localhost:8080/",
          "height": 620
        },
        "id": "rIIzcVzTJIPh",
        "outputId": "5225ccfd-eb47-43ff-d52d-476010dda25a"
      },
      "execution_count": 93,
      "outputs": [
        {
          "output_type": "execute_result",
          "data": {
            "text/plain": [
              "   creative_data_id  \\\n",
              "0           2194673   \n",
              "1           2142915   \n",
              "2           1671980   \n",
              "3           1702851   \n",
              "4           2381477   \n",
              "\n",
              "  Is there a call to go online (e.g., shop online, visit the Web)?   \\\n",
              "0                                                yes                  \n",
              "1                                                yes                  \n",
              "2                                                yes                  \n",
              "3                                                 no                  \n",
              "4                                                yes                  \n",
              "\n",
              "  Is there online contact information provided (e.g., URL, website)?   \\\n",
              "0                                                yes                    \n",
              "1                                                yes                    \n",
              "2                                                yes                    \n",
              "3                                                yes                    \n",
              "4                                                yes                    \n",
              "\n",
              "  Is there a visual or verbal call to purchase (e.g., buy now, order now)?  \\\n",
              "0                                                yes                         \n",
              "1                                                yes                         \n",
              "2                                                yes                         \n",
              "3                                                yes                         \n",
              "4                                                yes                         \n",
              "\n",
              "  Does the ad portray a sense of urgency to act (e.g., buy before sales ends, order before ends)?   \\\n",
              "0                                                 no                                                 \n",
              "1                                                yes                                                 \n",
              "2                                                yes                                                 \n",
              "3                                                yes                                                 \n",
              "4                                                 no                                                 \n",
              "\n",
              "  Is there an incentive to buy (e.g., a discount, a coupon, a sale or \"limited time offer\")?   \\\n",
              "0                                                yes                                            \n",
              "1                                                yes                                            \n",
              "2                                                yes                                            \n",
              "3                                                yes                                            \n",
              "4                                                yes                                            \n",
              "\n",
              "  Is there offline contact information provided (e.g., phone, mail, store location)?  \\\n",
              "0                                                yes                                   \n",
              "1                                                yes                                   \n",
              "2                                                yes                                   \n",
              "3                                                 no                                   \n",
              "4                                                yes                                   \n",
              "\n",
              "  Is there mention of something free?   \\\n",
              "0                                  yes   \n",
              "1                                  yes   \n",
              "2                                  yes   \n",
              "3                                  yes   \n",
              "4                                  yes   \n",
              "\n",
              "  Does the ad mention at least one specific product or service (e.g., model, type, item)?   \\\n",
              "0                                                yes                                         \n",
              "1                                                yes                                         \n",
              "2                                                yes                                         \n",
              "3                                                yes                                         \n",
              "4                                                yes                                         \n",
              "\n",
              "  Is there any verbal or visual mention of the price?  ...  \\\n",
              "0                                                yes   ...   \n",
              "1                                                yes   ...   \n",
              "2                                                yes   ...   \n",
              "3                                                yes   ...   \n",
              "4                                                yes   ...   \n",
              "\n",
              "  Is the ad intended to affect the viewer emotionally, either with positive emotion (fun, joy), negative emotion (sad, anxious) or another type of emotion? (Note: You may not personally agree, but assess if that was the intention.)  \\\n",
              "0                                                yes                                                                                                                                                                                      \n",
              "1                                                yes                                                                                                                                                                                      \n",
              "2                                                yes                                                                                                                                                                                      \n",
              "3                                                yes                                                                                                                                                                                      \n",
              "4                                                yes                                                                                                                                                                                      \n",
              "\n",
              "  Does the ad give you a positive feeling about the brand?   \\\n",
              "0                                                yes          \n",
              "1                                                yes          \n",
              "2                                                yes          \n",
              "3                                                yes          \n",
              "4                                                yes          \n",
              "\n",
              "  Does the ad have a story arc, with a beginning and an end?   \\\n",
              "0                                                 no            \n",
              "1                                                yes            \n",
              "2                                                yes            \n",
              "3                                                yes            \n",
              "4                                                yes            \n",
              "\n",
              "  Does the ad have a reversal of fortune, where something changes for the better, or changes for the worse?  \\\n",
              "0                                                yes                                                          \n",
              "1                                                yes                                                          \n",
              "2                                                yes                                                          \n",
              "3                                                yes                                                          \n",
              "4                                                yes                                                          \n",
              "\n",
              "  Does the ad have relatable characters?  Is the ad creative/clever?  \\\n",
              "0                                     yes                        yes   \n",
              "1                                     yes                        yes   \n",
              "2                                     yes                        yes   \n",
              "3                                     yes                        yes   \n",
              "4                                     yes                        yes   \n",
              "\n",
              "  Is the ad intended to be funny? (Note: You may not personally agree, but assess if that was the intention.)   \\\n",
              "0                                                yes                                                             \n",
              "1                                                yes                                                             \n",
              "2                                                yes                                                             \n",
              "3                                                yes                                                             \n",
              "4                                                yes                                                             \n",
              "\n",
              "  Does this ad provide sensory stimulation (e.g., cool visuals, arousing music, mouth-watering)?   \\\n",
              "0                                                yes                                                \n",
              "1                                                yes                                                \n",
              "2                                                yes                                                \n",
              "3                                                yes                                                \n",
              "4                                                yes                                                \n",
              "\n",
              "  Is the ad visually pleasing?  \\\n",
              "0                          yes   \n",
              "1                          yes   \n",
              "2                          yes   \n",
              "3                          yes   \n",
              "4                          yes   \n",
              "\n",
              "  Does the ad have cute elements like animals, babies, animated, characters, etc?  \n",
              "0                                                yes                               \n",
              "1                                                yes                               \n",
              "2                                                yes                               \n",
              "3                                                yes                               \n",
              "4                                                yes                               \n",
              "\n",
              "[5 rows x 22 columns]"
            ],
            "text/html": [
              "\n",
              "  <div id=\"df-f02b5186-2ad6-4f1e-8b15-6ca7da0e2b71\" class=\"colab-df-container\">\n",
              "    <div>\n",
              "<style scoped>\n",
              "    .dataframe tbody tr th:only-of-type {\n",
              "        vertical-align: middle;\n",
              "    }\n",
              "\n",
              "    .dataframe tbody tr th {\n",
              "        vertical-align: top;\n",
              "    }\n",
              "\n",
              "    .dataframe thead th {\n",
              "        text-align: right;\n",
              "    }\n",
              "</style>\n",
              "<table border=\"1\" class=\"dataframe\">\n",
              "  <thead>\n",
              "    <tr style=\"text-align: right;\">\n",
              "      <th></th>\n",
              "      <th>creative_data_id</th>\n",
              "      <th>Is there a call to go online (e.g., shop online, visit the Web)?</th>\n",
              "      <th>Is there online contact information provided (e.g., URL, website)?</th>\n",
              "      <th>Is there a visual or verbal call to purchase (e.g., buy now, order now)?</th>\n",
              "      <th>Does the ad portray a sense of urgency to act (e.g., buy before sales ends, order before ends)?</th>\n",
              "      <th>Is there an incentive to buy (e.g., a discount, a coupon, a sale or \"limited time offer\")?</th>\n",
              "      <th>Is there offline contact information provided (e.g., phone, mail, store location)?</th>\n",
              "      <th>Is there mention of something free?</th>\n",
              "      <th>Does the ad mention at least one specific product or service (e.g., model, type, item)?</th>\n",
              "      <th>Is there any verbal or visual mention of the price?</th>\n",
              "      <th>...</th>\n",
              "      <th>Is the ad intended to affect the viewer emotionally, either with positive emotion (fun, joy), negative emotion (sad, anxious) or another type of emotion? (Note: You may not personally agree, but assess if that was the intention.)</th>\n",
              "      <th>Does the ad give you a positive feeling about the brand?</th>\n",
              "      <th>Does the ad have a story arc, with a beginning and an end?</th>\n",
              "      <th>Does the ad have a reversal of fortune, where something changes for the better, or changes for the worse?</th>\n",
              "      <th>Does the ad have relatable characters?</th>\n",
              "      <th>Is the ad creative/clever?</th>\n",
              "      <th>Is the ad intended to be funny? (Note: You may not personally agree, but assess if that was the intention.)</th>\n",
              "      <th>Does this ad provide sensory stimulation (e.g., cool visuals, arousing music, mouth-watering)?</th>\n",
              "      <th>Is the ad visually pleasing?</th>\n",
              "      <th>Does the ad have cute elements like animals, babies, animated, characters, etc?</th>\n",
              "    </tr>\n",
              "  </thead>\n",
              "  <tbody>\n",
              "    <tr>\n",
              "      <th>0</th>\n",
              "      <td>2194673</td>\n",
              "      <td>yes</td>\n",
              "      <td>yes</td>\n",
              "      <td>yes</td>\n",
              "      <td>no</td>\n",
              "      <td>yes</td>\n",
              "      <td>yes</td>\n",
              "      <td>yes</td>\n",
              "      <td>yes</td>\n",
              "      <td>yes</td>\n",
              "      <td>...</td>\n",
              "      <td>yes</td>\n",
              "      <td>yes</td>\n",
              "      <td>no</td>\n",
              "      <td>yes</td>\n",
              "      <td>yes</td>\n",
              "      <td>yes</td>\n",
              "      <td>yes</td>\n",
              "      <td>yes</td>\n",
              "      <td>yes</td>\n",
              "      <td>yes</td>\n",
              "    </tr>\n",
              "    <tr>\n",
              "      <th>1</th>\n",
              "      <td>2142915</td>\n",
              "      <td>yes</td>\n",
              "      <td>yes</td>\n",
              "      <td>yes</td>\n",
              "      <td>yes</td>\n",
              "      <td>yes</td>\n",
              "      <td>yes</td>\n",
              "      <td>yes</td>\n",
              "      <td>yes</td>\n",
              "      <td>yes</td>\n",
              "      <td>...</td>\n",
              "      <td>yes</td>\n",
              "      <td>yes</td>\n",
              "      <td>yes</td>\n",
              "      <td>yes</td>\n",
              "      <td>yes</td>\n",
              "      <td>yes</td>\n",
              "      <td>yes</td>\n",
              "      <td>yes</td>\n",
              "      <td>yes</td>\n",
              "      <td>yes</td>\n",
              "    </tr>\n",
              "    <tr>\n",
              "      <th>2</th>\n",
              "      <td>1671980</td>\n",
              "      <td>yes</td>\n",
              "      <td>yes</td>\n",
              "      <td>yes</td>\n",
              "      <td>yes</td>\n",
              "      <td>yes</td>\n",
              "      <td>yes</td>\n",
              "      <td>yes</td>\n",
              "      <td>yes</td>\n",
              "      <td>yes</td>\n",
              "      <td>...</td>\n",
              "      <td>yes</td>\n",
              "      <td>yes</td>\n",
              "      <td>yes</td>\n",
              "      <td>yes</td>\n",
              "      <td>yes</td>\n",
              "      <td>yes</td>\n",
              "      <td>yes</td>\n",
              "      <td>yes</td>\n",
              "      <td>yes</td>\n",
              "      <td>yes</td>\n",
              "    </tr>\n",
              "    <tr>\n",
              "      <th>3</th>\n",
              "      <td>1702851</td>\n",
              "      <td>no</td>\n",
              "      <td>yes</td>\n",
              "      <td>yes</td>\n",
              "      <td>yes</td>\n",
              "      <td>yes</td>\n",
              "      <td>no</td>\n",
              "      <td>yes</td>\n",
              "      <td>yes</td>\n",
              "      <td>yes</td>\n",
              "      <td>...</td>\n",
              "      <td>yes</td>\n",
              "      <td>yes</td>\n",
              "      <td>yes</td>\n",
              "      <td>yes</td>\n",
              "      <td>yes</td>\n",
              "      <td>yes</td>\n",
              "      <td>yes</td>\n",
              "      <td>yes</td>\n",
              "      <td>yes</td>\n",
              "      <td>yes</td>\n",
              "    </tr>\n",
              "    <tr>\n",
              "      <th>4</th>\n",
              "      <td>2381477</td>\n",
              "      <td>yes</td>\n",
              "      <td>yes</td>\n",
              "      <td>yes</td>\n",
              "      <td>no</td>\n",
              "      <td>yes</td>\n",
              "      <td>yes</td>\n",
              "      <td>yes</td>\n",
              "      <td>yes</td>\n",
              "      <td>yes</td>\n",
              "      <td>...</td>\n",
              "      <td>yes</td>\n",
              "      <td>yes</td>\n",
              "      <td>yes</td>\n",
              "      <td>yes</td>\n",
              "      <td>yes</td>\n",
              "      <td>yes</td>\n",
              "      <td>yes</td>\n",
              "      <td>yes</td>\n",
              "      <td>yes</td>\n",
              "      <td>yes</td>\n",
              "    </tr>\n",
              "  </tbody>\n",
              "</table>\n",
              "<p>5 rows × 22 columns</p>\n",
              "</div>\n",
              "    <div class=\"colab-df-buttons\">\n",
              "\n",
              "  <div class=\"colab-df-container\">\n",
              "    <button class=\"colab-df-convert\" onclick=\"convertToInteractive('df-f02b5186-2ad6-4f1e-8b15-6ca7da0e2b71')\"\n",
              "            title=\"Convert this dataframe to an interactive table.\"\n",
              "            style=\"display:none;\">\n",
              "\n",
              "  <svg xmlns=\"http://www.w3.org/2000/svg\" height=\"24px\" viewBox=\"0 -960 960 960\">\n",
              "    <path d=\"M120-120v-720h720v720H120Zm60-500h600v-160H180v160Zm220 220h160v-160H400v160Zm0 220h160v-160H400v160ZM180-400h160v-160H180v160Zm440 0h160v-160H620v160ZM180-180h160v-160H180v160Zm440 0h160v-160H620v160Z\"/>\n",
              "  </svg>\n",
              "    </button>\n",
              "\n",
              "  <style>\n",
              "    .colab-df-container {\n",
              "      display:flex;\n",
              "      gap: 12px;\n",
              "    }\n",
              "\n",
              "    .colab-df-convert {\n",
              "      background-color: #E8F0FE;\n",
              "      border: none;\n",
              "      border-radius: 50%;\n",
              "      cursor: pointer;\n",
              "      display: none;\n",
              "      fill: #1967D2;\n",
              "      height: 32px;\n",
              "      padding: 0 0 0 0;\n",
              "      width: 32px;\n",
              "    }\n",
              "\n",
              "    .colab-df-convert:hover {\n",
              "      background-color: #E2EBFA;\n",
              "      box-shadow: 0px 1px 2px rgba(60, 64, 67, 0.3), 0px 1px 3px 1px rgba(60, 64, 67, 0.15);\n",
              "      fill: #174EA6;\n",
              "    }\n",
              "\n",
              "    .colab-df-buttons div {\n",
              "      margin-bottom: 4px;\n",
              "    }\n",
              "\n",
              "    [theme=dark] .colab-df-convert {\n",
              "      background-color: #3B4455;\n",
              "      fill: #D2E3FC;\n",
              "    }\n",
              "\n",
              "    [theme=dark] .colab-df-convert:hover {\n",
              "      background-color: #434B5C;\n",
              "      box-shadow: 0px 1px 3px 1px rgba(0, 0, 0, 0.15);\n",
              "      filter: drop-shadow(0px 1px 2px rgba(0, 0, 0, 0.3));\n",
              "      fill: #FFFFFF;\n",
              "    }\n",
              "  </style>\n",
              "\n",
              "    <script>\n",
              "      const buttonEl =\n",
              "        document.querySelector('#df-f02b5186-2ad6-4f1e-8b15-6ca7da0e2b71 button.colab-df-convert');\n",
              "      buttonEl.style.display =\n",
              "        google.colab.kernel.accessAllowed ? 'block' : 'none';\n",
              "\n",
              "      async function convertToInteractive(key) {\n",
              "        const element = document.querySelector('#df-f02b5186-2ad6-4f1e-8b15-6ca7da0e2b71');\n",
              "        const dataTable =\n",
              "          await google.colab.kernel.invokeFunction('convertToInteractive',\n",
              "                                                    [key], {});\n",
              "        if (!dataTable) return;\n",
              "\n",
              "        const docLinkHtml = 'Like what you see? Visit the ' +\n",
              "          '<a target=\"_blank\" href=https://colab.research.google.com/notebooks/data_table.ipynb>data table notebook</a>'\n",
              "          + ' to learn more about interactive tables.';\n",
              "        element.innerHTML = '';\n",
              "        dataTable['output_type'] = 'display_data';\n",
              "        await google.colab.output.renderOutput(dataTable, element);\n",
              "        const docLink = document.createElement('div');\n",
              "        docLink.innerHTML = docLinkHtml;\n",
              "        element.appendChild(docLink);\n",
              "      }\n",
              "    </script>\n",
              "  </div>\n",
              "\n",
              "\n",
              "<div id=\"df-3d9cbf8b-8c1f-453d-be20-af4f4c2fa921\">\n",
              "  <button class=\"colab-df-quickchart\" onclick=\"quickchart('df-3d9cbf8b-8c1f-453d-be20-af4f4c2fa921')\"\n",
              "            title=\"Suggest charts\"\n",
              "            style=\"display:none;\">\n",
              "\n",
              "<svg xmlns=\"http://www.w3.org/2000/svg\" height=\"24px\"viewBox=\"0 0 24 24\"\n",
              "     width=\"24px\">\n",
              "    <g>\n",
              "        <path d=\"M19 3H5c-1.1 0-2 .9-2 2v14c0 1.1.9 2 2 2h14c1.1 0 2-.9 2-2V5c0-1.1-.9-2-2-2zM9 17H7v-7h2v7zm4 0h-2V7h2v10zm4 0h-2v-4h2v4z\"/>\n",
              "    </g>\n",
              "</svg>\n",
              "  </button>\n",
              "\n",
              "<style>\n",
              "  .colab-df-quickchart {\n",
              "      --bg-color: #E8F0FE;\n",
              "      --fill-color: #1967D2;\n",
              "      --hover-bg-color: #E2EBFA;\n",
              "      --hover-fill-color: #174EA6;\n",
              "      --disabled-fill-color: #AAA;\n",
              "      --disabled-bg-color: #DDD;\n",
              "  }\n",
              "\n",
              "  [theme=dark] .colab-df-quickchart {\n",
              "      --bg-color: #3B4455;\n",
              "      --fill-color: #D2E3FC;\n",
              "      --hover-bg-color: #434B5C;\n",
              "      --hover-fill-color: #FFFFFF;\n",
              "      --disabled-bg-color: #3B4455;\n",
              "      --disabled-fill-color: #666;\n",
              "  }\n",
              "\n",
              "  .colab-df-quickchart {\n",
              "    background-color: var(--bg-color);\n",
              "    border: none;\n",
              "    border-radius: 50%;\n",
              "    cursor: pointer;\n",
              "    display: none;\n",
              "    fill: var(--fill-color);\n",
              "    height: 32px;\n",
              "    padding: 0;\n",
              "    width: 32px;\n",
              "  }\n",
              "\n",
              "  .colab-df-quickchart:hover {\n",
              "    background-color: var(--hover-bg-color);\n",
              "    box-shadow: 0 1px 2px rgba(60, 64, 67, 0.3), 0 1px 3px 1px rgba(60, 64, 67, 0.15);\n",
              "    fill: var(--button-hover-fill-color);\n",
              "  }\n",
              "\n",
              "  .colab-df-quickchart-complete:disabled,\n",
              "  .colab-df-quickchart-complete:disabled:hover {\n",
              "    background-color: var(--disabled-bg-color);\n",
              "    fill: var(--disabled-fill-color);\n",
              "    box-shadow: none;\n",
              "  }\n",
              "\n",
              "  .colab-df-spinner {\n",
              "    border: 2px solid var(--fill-color);\n",
              "    border-color: transparent;\n",
              "    border-bottom-color: var(--fill-color);\n",
              "    animation:\n",
              "      spin 1s steps(1) infinite;\n",
              "  }\n",
              "\n",
              "  @keyframes spin {\n",
              "    0% {\n",
              "      border-color: transparent;\n",
              "      border-bottom-color: var(--fill-color);\n",
              "      border-left-color: var(--fill-color);\n",
              "    }\n",
              "    20% {\n",
              "      border-color: transparent;\n",
              "      border-left-color: var(--fill-color);\n",
              "      border-top-color: var(--fill-color);\n",
              "    }\n",
              "    30% {\n",
              "      border-color: transparent;\n",
              "      border-left-color: var(--fill-color);\n",
              "      border-top-color: var(--fill-color);\n",
              "      border-right-color: var(--fill-color);\n",
              "    }\n",
              "    40% {\n",
              "      border-color: transparent;\n",
              "      border-right-color: var(--fill-color);\n",
              "      border-top-color: var(--fill-color);\n",
              "    }\n",
              "    60% {\n",
              "      border-color: transparent;\n",
              "      border-right-color: var(--fill-color);\n",
              "    }\n",
              "    80% {\n",
              "      border-color: transparent;\n",
              "      border-right-color: var(--fill-color);\n",
              "      border-bottom-color: var(--fill-color);\n",
              "    }\n",
              "    90% {\n",
              "      border-color: transparent;\n",
              "      border-bottom-color: var(--fill-color);\n",
              "    }\n",
              "  }\n",
              "</style>\n",
              "\n",
              "  <script>\n",
              "    async function quickchart(key) {\n",
              "      const quickchartButtonEl =\n",
              "        document.querySelector('#' + key + ' button');\n",
              "      quickchartButtonEl.disabled = true;  // To prevent multiple clicks.\n",
              "      quickchartButtonEl.classList.add('colab-df-spinner');\n",
              "      try {\n",
              "        const charts = await google.colab.kernel.invokeFunction(\n",
              "            'suggestCharts', [key], {});\n",
              "      } catch (error) {\n",
              "        console.error('Error during call to suggestCharts:', error);\n",
              "      }\n",
              "      quickchartButtonEl.classList.remove('colab-df-spinner');\n",
              "      quickchartButtonEl.classList.add('colab-df-quickchart-complete');\n",
              "    }\n",
              "    (() => {\n",
              "      let quickchartButtonEl =\n",
              "        document.querySelector('#df-3d9cbf8b-8c1f-453d-be20-af4f4c2fa921 button');\n",
              "      quickchartButtonEl.style.display =\n",
              "        google.colab.kernel.accessAllowed ? 'block' : 'none';\n",
              "    })();\n",
              "  </script>\n",
              "</div>\n",
              "\n",
              "    </div>\n",
              "  </div>\n"
            ],
            "application/vnd.google.colaboratory.intrinsic+json": {
              "type": "dataframe",
              "variable_name": "predictions_df"
            }
          },
          "metadata": {},
          "execution_count": 93
        }
      ]
    },
    {
      "cell_type": "code",
      "source": [
        "deduced_df.columns[9]"
      ],
      "metadata": {
        "colab": {
          "base_uri": "https://localhost:8080/",
          "height": 35
        },
        "id": "quA9rOc9JJ4F",
        "outputId": "2726b968-6824-40bb-e292-44868ba7232c"
      },
      "execution_count": 94,
      "outputs": [
        {
          "output_type": "execute_result",
          "data": {
            "text/plain": [
              "'Is there any verbal or visual mention of the price?'"
            ],
            "application/vnd.google.colaboratory.intrinsic+json": {
              "type": "string"
            }
          },
          "metadata": {},
          "execution_count": 94
        }
      ]
    },
    {
      "cell_type": "code",
      "source": [
        "predictions_df.columns[9]"
      ],
      "metadata": {
        "colab": {
          "base_uri": "https://localhost:8080/",
          "height": 35
        },
        "id": "brWja38wJMMl",
        "outputId": "beea9e21-107c-4c90-99a5-f7ebcb368c7a"
      },
      "execution_count": 95,
      "outputs": [
        {
          "output_type": "execute_result",
          "data": {
            "text/plain": [
              "'Is there any verbal or visual mention of the price?'"
            ],
            "application/vnd.google.colaboratory.intrinsic+json": {
              "type": "string"
            }
          },
          "metadata": {},
          "execution_count": 95
        }
      ]
    },
    {
      "cell_type": "code",
      "source": [
        "predictions_df['Is there any verbal or visual mention of the price?'].value_counts()"
      ],
      "metadata": {
        "colab": {
          "base_uri": "https://localhost:8080/"
        },
        "id": "QddNPdEXJOxf",
        "outputId": "0f152a39-72e4-497c-9ee2-b3c39526c27c"
      },
      "execution_count": 96,
      "outputs": [
        {
          "output_type": "execute_result",
          "data": {
            "text/plain": [
              "Is there any verbal or visual mention of the price?\n",
              "yes    104\n",
              "no      46\n",
              "Name: count, dtype: int64"
            ]
          },
          "metadata": {},
          "execution_count": 96
        }
      ]
    },
    {
      "cell_type": "code",
      "source": [
        "# Map the predicted values for 'Is there any verbal or visual mention of the price?' to binary values\n",
        "deduced_df['Is there any verbal or visual mention of the price?'].value_counts()"
      ],
      "metadata": {
        "colab": {
          "base_uri": "https://localhost:8080/"
        },
        "id": "005iq63uJQ4k",
        "outputId": "1d1b86c0-af42-4ddc-cafe-50ed8f105dc6"
      },
      "execution_count": 97,
      "outputs": [
        {
          "output_type": "execute_result",
          "data": {
            "text/plain": [
              "Is there any verbal or visual mention of the price?\n",
              "No             102\n",
              "Yes, both       40\n",
              "Yes, visual      8\n",
              "Name: count, dtype: int64"
            ]
          },
          "metadata": {},
          "execution_count": 97
        }
      ]
    },
    {
      "cell_type": "code",
      "source": [
        "# Map the deduced values for 'Is there any verbal or visual mention of the price?' to binary values\n",
        "deduced_df['Is there any verbal or visual mention of the price?'] = deduced_df['Is there any verbal or visual mention of the price?'].map({\n",
        "    'No': 0,\n",
        "    'Yes, visual': 1,\n",
        "    'Yes, both': 1\n",
        "})\n"
      ],
      "metadata": {
        "id": "vKAW3i24JSrS"
      },
      "execution_count": 98,
      "outputs": []
    },
    {
      "cell_type": "code",
      "source": [
        "deduced_df['Is there any verbal or visual mention of the price?'].value_counts()"
      ],
      "metadata": {
        "colab": {
          "base_uri": "https://localhost:8080/"
        },
        "id": "G0pWFnKeJUtp",
        "outputId": "a140d6ea-8645-4e20-e900-daac75f3bf50"
      },
      "execution_count": 99,
      "outputs": [
        {
          "output_type": "execute_result",
          "data": {
            "text/plain": [
              "Is there any verbal or visual mention of the price?\n",
              "0    102\n",
              "1     48\n",
              "Name: count, dtype: int64"
            ]
          },
          "metadata": {},
          "execution_count": 99
        }
      ]
    },
    {
      "cell_type": "code",
      "source": [
        "predictions_df['Is there any verbal or visual mention of the price?'] = predictions_df['Is there any verbal or visual mention of the price?'].map({\n",
        "    'no': 0,\n",
        "    'yes': 1\n",
        "})"
      ],
      "metadata": {
        "id": "oPHG9RY6JWgD"
      },
      "execution_count": 100,
      "outputs": []
    },
    {
      "cell_type": "code",
      "source": [
        "predictions_df['Is there any verbal or visual mention of the price?'].value_counts()"
      ],
      "metadata": {
        "colab": {
          "base_uri": "https://localhost:8080/"
        },
        "id": "ms90iI9TJYNB",
        "outputId": "03c284fb-efe5-4b1e-ecaa-8d281aa91317"
      },
      "execution_count": 101,
      "outputs": [
        {
          "output_type": "execute_result",
          "data": {
            "text/plain": [
              "Is there any verbal or visual mention of the price?\n",
              "1    104\n",
              "0     46\n",
              "Name: count, dtype: int64"
            ]
          },
          "metadata": {},
          "execution_count": 101
        }
      ]
    },
    {
      "cell_type": "code",
      "source": [
        "from sklearn.metrics import f1_score, precision_score, recall_score, accuracy_score"
      ],
      "metadata": {
        "id": "w-u3Kw1fJdkl"
      },
      "execution_count": 103,
      "outputs": []
    },
    {
      "cell_type": "code",
      "source": [
        "# Extract the true and predicted values for evaluation\n",
        "y_true = deduced_df['Is there any verbal or visual mention of the price?']\n",
        "y_pred = predictions_df['Is there any verbal or visual mention of the price?']\n",
        "\n",
        "# Calculate the metrics\n",
        "f1 = f1_score(y_true, y_pred)\n",
        "precision = precision_score(y_true, y_pred)\n",
        "recall = recall_score(y_true, y_pred)\n",
        "accuracy = accuracy_score(y_true, y_pred)\n",
        "\n",
        "# Display the results\n",
        "print(f\"F1 Score: {f1}\")\n",
        "print(f\"Precision: {precision}\")\n",
        "print(f\"Recall: {recall}\")\n",
        "print(f\"Accuracy: {accuracy}\")"
      ],
      "metadata": {
        "colab": {
          "base_uri": "https://localhost:8080/"
        },
        "id": "7b4tpHXSJZ7k",
        "outputId": "a135a403-6b92-47de-ea1b-107b26e33d8f"
      },
      "execution_count": 104,
      "outputs": [
        {
          "output_type": "stream",
          "name": "stdout",
          "text": [
            "F1 Score: 0.42105263157894735\n",
            "Precision: 0.3076923076923077\n",
            "Recall: 0.6666666666666666\n",
            "Accuracy: 0.41333333333333333\n"
          ]
        }
      ]
    },
    {
      "cell_type": "code",
      "source": [
        "# Identify the binary columns for metric calculations\n",
        "binary_columns = deduced_df.columns[:9].tolist() + deduced_df.columns[10:].tolist()"
      ],
      "metadata": {
        "id": "uS4MCk7kJcCe"
      },
      "execution_count": 105,
      "outputs": []
    },
    {
      "cell_type": "code",
      "source": [
        "binary_columns"
      ],
      "metadata": {
        "colab": {
          "base_uri": "https://localhost:8080/"
        },
        "id": "Ue1kLD11JqtW",
        "outputId": "f31d01cc-6ac1-4ab4-959d-8e78bf70bcde"
      },
      "execution_count": 106,
      "outputs": [
        {
          "output_type": "execute_result",
          "data": {
            "text/plain": [
              "['creative_data_id',\n",
              " 'Is there a call to go online (e.g., shop online, visit the Web)? ',\n",
              " 'Is there online contact information provided (e.g., URL, website)? ',\n",
              " 'Is there a visual or verbal call to purchase (e.g., buy now, order now)?',\n",
              " 'Does the ad portray a sense of urgency to act (e.g., buy before sales ends, order before ends)? ',\n",
              " 'Is there an incentive to buy (e.g., a discount, a coupon, a sale or \"limited time offer\")? ',\n",
              " 'Is there offline contact information provided (e.g., phone, mail, store location)?',\n",
              " 'Is there mention of something free? ',\n",
              " 'Does the ad mention at least one specific product or service (e.g., model, type, item)? ',\n",
              " 'Does the ad show the brand (logo, brand name) or trademark (something that most people know is the brand) multiple times?\\n\\nFor example, Nike ads often have the \"swoosh\" logo prominently displayed on shoes and apparel worn by celebrity athletes. The \"Just Do It\" slogan is another Nike trademark frequently included.',\n",
              " 'Does the ad show the brand or trademark exactly once at the end of the ad?',\n",
              " 'Is the ad intended to affect the viewer emotionally, either with positive emotion (fun, joy), negative emotion (sad, anxious) or another type of emotion? (Note: You may not personally agree, but assess if that was the intention.)',\n",
              " 'Does the ad give you a positive feeling about the brand? ',\n",
              " 'Does the ad have a story arc, with a beginning and an end? ',\n",
              " 'Does the ad have a reversal of fortune, where something changes for the better, or changes for the worse?',\n",
              " 'Does the ad have relatable characters? ',\n",
              " 'Is the ad creative/clever?',\n",
              " 'Is the ad intended to be funny? (Note: You may not personally agree, but assess if that was the intention.) ',\n",
              " 'Does this ad provide sensory stimulation (e.g., cool visuals, arousing music, mouth-watering)? ',\n",
              " 'Is the ad visually pleasing?',\n",
              " 'Does the ad have cute elements like animals, babies, animated, characters, etc?']"
            ]
          },
          "metadata": {},
          "execution_count": 106
        }
      ]
    },
    {
      "cell_type": "code",
      "source": [
        "# Remove 'creative_data_id' from the list of binary columns\n",
        "binary_columns.remove('creative_data_id')"
      ],
      "metadata": {
        "id": "LPJ_SbxSJtvA"
      },
      "execution_count": 107,
      "outputs": []
    },
    {
      "cell_type": "code",
      "source": [
        "binary_columns"
      ],
      "metadata": {
        "colab": {
          "base_uri": "https://localhost:8080/"
        },
        "id": "lo12pno7JwAc",
        "outputId": "b1e0dff7-4000-4ff9-9d9a-b786eb1f83f9"
      },
      "execution_count": 108,
      "outputs": [
        {
          "output_type": "execute_result",
          "data": {
            "text/plain": [
              "['Is there a call to go online (e.g., shop online, visit the Web)? ',\n",
              " 'Is there online contact information provided (e.g., URL, website)? ',\n",
              " 'Is there a visual or verbal call to purchase (e.g., buy now, order now)?',\n",
              " 'Does the ad portray a sense of urgency to act (e.g., buy before sales ends, order before ends)? ',\n",
              " 'Is there an incentive to buy (e.g., a discount, a coupon, a sale or \"limited time offer\")? ',\n",
              " 'Is there offline contact information provided (e.g., phone, mail, store location)?',\n",
              " 'Is there mention of something free? ',\n",
              " 'Does the ad mention at least one specific product or service (e.g., model, type, item)? ',\n",
              " 'Does the ad show the brand (logo, brand name) or trademark (something that most people know is the brand) multiple times?\\n\\nFor example, Nike ads often have the \"swoosh\" logo prominently displayed on shoes and apparel worn by celebrity athletes. The \"Just Do It\" slogan is another Nike trademark frequently included.',\n",
              " 'Does the ad show the brand or trademark exactly once at the end of the ad?',\n",
              " 'Is the ad intended to affect the viewer emotionally, either with positive emotion (fun, joy), negative emotion (sad, anxious) or another type of emotion? (Note: You may not personally agree, but assess if that was the intention.)',\n",
              " 'Does the ad give you a positive feeling about the brand? ',\n",
              " 'Does the ad have a story arc, with a beginning and an end? ',\n",
              " 'Does the ad have a reversal of fortune, where something changes for the better, or changes for the worse?',\n",
              " 'Does the ad have relatable characters? ',\n",
              " 'Is the ad creative/clever?',\n",
              " 'Is the ad intended to be funny? (Note: You may not personally agree, but assess if that was the intention.) ',\n",
              " 'Does this ad provide sensory stimulation (e.g., cool visuals, arousing music, mouth-watering)? ',\n",
              " 'Is the ad visually pleasing?',\n",
              " 'Does the ad have cute elements like animals, babies, animated, characters, etc?']"
            ]
          },
          "metadata": {},
          "execution_count": 108
        }
      ]
    },
    {
      "cell_type": "code",
      "source": [
        "# Map binary values to 0 and 1 for the deduced and predicted DataFrames\n",
        "for column in binary_columns:\n",
        "    deduced_df[column] = deduced_df[column].replace({'Yes': 1, 'No': 0})\n",
        "    predictions_df[column] = predictions_df[column].replace({'yes': 1, 'no': 0})"
      ],
      "metadata": {
        "id": "VrZpt-80Jyvi"
      },
      "execution_count": 109,
      "outputs": []
    },
    {
      "cell_type": "code",
      "source": [
        "# Initialize lists to store metrics for each question\n",
        "f1_scores = []\n",
        "precisions = []\n",
        "recalls = []\n",
        "accuracies = []\n",
        "\n",
        "# Calculate metrics for binary classification columns\n",
        "for question in binary_columns:\n",
        "    y_true = deduced_df[question]\n",
        "    y_pred = predictions_df[question]\n",
        "\n",
        "    if y_true.nunique() > 2 or y_pred.nunique() > 2:\n",
        "        print(f\"Non-binary values found in question: {question}\")\n",
        "        continue\n",
        "\n",
        "    f1 = f1_score(y_true, y_pred, average='binary', zero_division=0)\n",
        "    precision = precision_score(y_true, y_pred, average='binary', zero_division=0)\n",
        "    recall = recall_score(y_true, y_pred, average='binary', zero_division=0)\n",
        "    accuracy = accuracy_score(y_true, y_pred)\n",
        "\n",
        "    f1_scores.append(f1)\n",
        "    precisions.append(precision)\n",
        "    recalls.append(recall)\n",
        "    accuracies.append(accuracy)"
      ],
      "metadata": {
        "id": "k35NXmm5J08Q"
      },
      "execution_count": 110,
      "outputs": []
    },
    {
      "cell_type": "code",
      "source": [
        "# Combine results into a DataFrame\n",
        "metrics_df = pd.DataFrame({\n",
        "    'Question': binary_columns,\n",
        "    'F1 Score': f1_scores,\n",
        "    'Precision': precisions,\n",
        "    'Recall': recalls,\n",
        "    'Accuracy': accuracies\n",
        "})"
      ],
      "metadata": {
        "id": "51qa0CIbJ2lA"
      },
      "execution_count": 111,
      "outputs": []
    },
    {
      "cell_type": "code",
      "source": [
        "# Print each question along with its metrics\n",
        "for index, row in metrics_df.iterrows():\n",
        "    print(f\"Question: {row['Question']}\")\n",
        "    print(f\"F1 Score: {row['F1 Score']:.2f}\")\n",
        "    print(f\"Precision: {row['Precision']:.2f}\")\n",
        "    print(f\"Recall: {row['Recall']:.2f}\")\n",
        "    print(f\"Accuracy: {row['Accuracy']:.2f}\")\n",
        "    print(\"-\" * 30)"
      ],
      "metadata": {
        "colab": {
          "base_uri": "https://localhost:8080/"
        },
        "id": "6CyJzGKfJ4Ub",
        "outputId": "c8fd96af-99aa-406c-fb26-636a3a29ced4"
      },
      "execution_count": 112,
      "outputs": [
        {
          "output_type": "stream",
          "name": "stdout",
          "text": [
            "Question: Is there a call to go online (e.g., shop online, visit the Web)? \n",
            "F1 Score: 0.36\n",
            "Precision: 0.27\n",
            "Recall: 0.53\n",
            "Accuracy: 0.46\n",
            "------------------------------\n",
            "Question: Is there online contact information provided (e.g., URL, website)? \n",
            "F1 Score: 0.58\n",
            "Precision: 0.48\n",
            "Recall: 0.74\n",
            "Accuracy: 0.52\n",
            "------------------------------\n",
            "Question: Is there a visual or verbal call to purchase (e.g., buy now, order now)?\n",
            "F1 Score: 0.50\n",
            "Precision: 0.36\n",
            "Recall: 0.84\n",
            "Accuracy: 0.39\n",
            "------------------------------\n",
            "Question: Does the ad portray a sense of urgency to act (e.g., buy before sales ends, order before ends)? \n",
            "F1 Score: 0.39\n",
            "Precision: 0.29\n",
            "Recall: 0.57\n",
            "Accuracy: 0.52\n",
            "------------------------------\n",
            "Question: Is there an incentive to buy (e.g., a discount, a coupon, a sale or \"limited time offer\")? \n",
            "F1 Score: 0.57\n",
            "Precision: 0.45\n",
            "Recall: 0.77\n",
            "Accuracy: 0.49\n",
            "------------------------------\n",
            "Question: Is there offline contact information provided (e.g., phone, mail, store location)?\n",
            "F1 Score: 0.28\n",
            "Precision: 0.17\n",
            "Recall: 0.70\n",
            "Accuracy: 0.33\n",
            "------------------------------\n",
            "Question: Is there mention of something free? \n",
            "F1 Score: 0.17\n",
            "Precision: 0.09\n",
            "Recall: 0.92\n",
            "Accuracy: 0.29\n",
            "------------------------------\n",
            "Question: Does the ad mention at least one specific product or service (e.g., model, type, item)? \n",
            "F1 Score: 0.88\n",
            "Precision: 0.85\n",
            "Recall: 0.90\n",
            "Accuracy: 0.78\n",
            "------------------------------\n",
            "Question: Does the ad show the brand (logo, brand name) or trademark (something that most people know is the brand) multiple times?\n",
            "\n",
            "For example, Nike ads often have the \"swoosh\" logo prominently displayed on shoes and apparel worn by celebrity athletes. The \"Just Do It\" slogan is another Nike trademark frequently included.\n",
            "F1 Score: 0.91\n",
            "Precision: 0.84\n",
            "Recall: 0.98\n",
            "Accuracy: 0.83\n",
            "------------------------------\n",
            "Question: Does the ad show the brand or trademark exactly once at the end of the ad?\n",
            "F1 Score: 0.90\n",
            "Precision: 0.89\n",
            "Recall: 0.90\n",
            "Accuracy: 0.82\n",
            "------------------------------\n",
            "Question: Is the ad intended to affect the viewer emotionally, either with positive emotion (fun, joy), negative emotion (sad, anxious) or another type of emotion? (Note: You may not personally agree, but assess if that was the intention.)\n",
            "F1 Score: 0.89\n",
            "Precision: 0.87\n",
            "Recall: 0.91\n",
            "Accuracy: 0.80\n",
            "------------------------------\n",
            "Question: Does the ad give you a positive feeling about the brand? \n",
            "F1 Score: 0.79\n",
            "Precision: 0.86\n",
            "Recall: 0.74\n",
            "Accuracy: 0.67\n",
            "------------------------------\n",
            "Question: Does the ad have a story arc, with a beginning and an end? \n",
            "F1 Score: 0.40\n",
            "Precision: 0.29\n",
            "Recall: 0.68\n",
            "Accuracy: 0.49\n",
            "------------------------------\n",
            "Question: Does the ad have a reversal of fortune, where something changes for the better, or changes for the worse?\n",
            "F1 Score: 0.23\n",
            "Precision: 0.13\n",
            "Recall: 0.95\n",
            "Accuracy: 0.16\n",
            "------------------------------\n",
            "Question: Does the ad have relatable characters? \n",
            "F1 Score: 0.63\n",
            "Precision: 0.52\n",
            "Recall: 0.79\n",
            "Accuracy: 0.53\n",
            "------------------------------\n",
            "Question: Is the ad creative/clever?\n",
            "F1 Score: 0.74\n",
            "Precision: 0.65\n",
            "Recall: 0.85\n",
            "Accuracy: 0.61\n",
            "------------------------------\n",
            "Question: Is the ad intended to be funny? (Note: You may not personally agree, but assess if that was the intention.) \n",
            "F1 Score: 0.33\n",
            "Precision: 0.20\n",
            "Recall: 0.94\n",
            "Accuracy: 0.22\n",
            "------------------------------\n",
            "Question: Does this ad provide sensory stimulation (e.g., cool visuals, arousing music, mouth-watering)? \n",
            "F1 Score: 0.64\n",
            "Precision: 0.58\n",
            "Recall: 0.71\n",
            "Accuracy: 0.54\n",
            "------------------------------\n",
            "Question: Is the ad visually pleasing?\n",
            "F1 Score: 0.71\n",
            "Precision: 0.73\n",
            "Recall: 0.69\n",
            "Accuracy: 0.59\n",
            "------------------------------\n",
            "Question: Does the ad have cute elements like animals, babies, animated, characters, etc?\n",
            "F1 Score: 0.40\n",
            "Precision: 0.28\n",
            "Recall: 0.71\n",
            "Accuracy: 0.51\n",
            "------------------------------\n"
          ]
        }
      ]
    },
    {
      "cell_type": "code",
      "source": [
        "predictions_df.columns"
      ],
      "metadata": {
        "colab": {
          "base_uri": "https://localhost:8080/"
        },
        "id": "vvVtyW2IJ6j8",
        "outputId": "c4eb50a9-1d5a-498c-9251-e411c87bc797"
      },
      "execution_count": 113,
      "outputs": [
        {
          "output_type": "execute_result",
          "data": {
            "text/plain": [
              "Index(['creative_data_id',\n",
              "       'Is there a call to go online (e.g., shop online, visit the Web)? ',\n",
              "       'Is there online contact information provided (e.g., URL, website)? ',\n",
              "       'Is there a visual or verbal call to purchase (e.g., buy now, order now)?',\n",
              "       'Does the ad portray a sense of urgency to act (e.g., buy before sales ends, order before ends)? ',\n",
              "       'Is there an incentive to buy (e.g., a discount, a coupon, a sale or \"limited time offer\")? ',\n",
              "       'Is there offline contact information provided (e.g., phone, mail, store location)?',\n",
              "       'Is there mention of something free? ',\n",
              "       'Does the ad mention at least one specific product or service (e.g., model, type, item)? ',\n",
              "       'Is there any verbal or visual mention of the price?',\n",
              "       'Does the ad show the brand (logo, brand name) or trademark (something that most people know is the brand) multiple times?\\n\\nFor example, Nike ads often have the \"swoosh\" logo prominently displayed on shoes and apparel worn by celebrity athletes. The \"Just Do It\" slogan is another Nike trademark frequently included.',\n",
              "       'Does the ad show the brand or trademark exactly once at the end of the ad?',\n",
              "       'Is the ad intended to affect the viewer emotionally, either with positive emotion (fun, joy), negative emotion (sad, anxious) or another type of emotion? (Note: You may not personally agree, but assess if that was the intention.)',\n",
              "       'Does the ad give you a positive feeling about the brand? ',\n",
              "       'Does the ad have a story arc, with a beginning and an end? ',\n",
              "       'Does the ad have a reversal of fortune, where something changes for the better, or changes for the worse?',\n",
              "       'Does the ad have relatable characters? ', 'Is the ad creative/clever?',\n",
              "       'Is the ad intended to be funny? (Note: You may not personally agree, but assess if that was the intention.) ',\n",
              "       'Does this ad provide sensory stimulation (e.g., cool visuals, arousing music, mouth-watering)? ',\n",
              "       'Is the ad visually pleasing?',\n",
              "       'Does the ad have cute elements like animals, babies, animated, characters, etc?'],\n",
              "      dtype='object')"
            ]
          },
          "metadata": {},
          "execution_count": 113
        }
      ]
    },
    {
      "cell_type": "code",
      "source": [
        "# Map 1 to 'yes' and 0 to 'no' for all columns except video_id\n",
        "predictions_mapped_df = predictions_df.copy()\n",
        "for column in predictions_mapped_df.columns:\n",
        "    if column != 'creative_data_id':\n",
        "        predictions_mapped_df[column] = predictions_mapped_df[column].map({1: 'yes', 0: 'no'})\n",
        "\n",
        "# Save the mapped predictions dataframe to a CSV file\n",
        "predictions_mapped_df.to_csv('predictions_mapped.csv', index=False)\n",
        "\n",
        "print(\"CSV file 'predictions_mapped.csv' has been created with yes/no responses.\")\n"
      ],
      "metadata": {
        "colab": {
          "base_uri": "https://localhost:8080/"
        },
        "id": "1JvZ_Ud2KBp5",
        "outputId": "4f7819f1-a227-469d-8055-80f7426f6df0"
      },
      "execution_count": 114,
      "outputs": [
        {
          "output_type": "stream",
          "name": "stdout",
          "text": [
            "CSV file 'predictions_mapped.csv' has been created with yes/no responses.\n"
          ]
        }
      ]
    },
    {
      "cell_type": "code",
      "source": [],
      "metadata": {
        "id": "nzYGlTZaKE9r"
      },
      "execution_count": null,
      "outputs": []
    }
  ]
}